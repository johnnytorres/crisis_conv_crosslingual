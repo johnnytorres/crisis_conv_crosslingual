{
 "cells": [
  {
   "cell_type": "code",
   "execution_count": 24,
   "metadata": {},
   "outputs": [],
   "source": [
    "%matplotlib inline\n",
    "import matplotlib.pyplot as plt\n",
    "import pandas as pd\n",
    "import os\n",
    "import csv"
   ]
  },
  {
   "cell_type": "code",
   "execution_count": 3,
   "metadata": {},
   "outputs": [],
   "source": [
    "data_dir='~/data/crisis/ecuador_earthquake_2016/'"
   ]
  },
  {
   "cell_type": "code",
   "execution_count": 19,
   "metadata": {},
   "outputs": [
    {
     "name": "stdout",
     "output_type": "stream",
     "text": [
      "<class 'pandas.core.frame.DataFrame'>\n",
      "RangeIndex: 150308 entries, 0 to 150307\n",
      "Data columns (total 13 columns):\n",
      "id                       150308 non-null object\n",
      "screen_name              150308 non-null object\n",
      "latitude                 387 non-null float64\n",
      "longitude                387 non-null float64\n",
      "lang                     150308 non-null object\n",
      "in_reply_to_status_id    78242 non-null object\n",
      "text                     150308 non-null object\n",
      "timestamp                150293 non-null datetime64[ns]\n",
      "conversation_id          150308 non-null object\n",
      "conversation_deep        150308 non-null int64\n",
      "num_replies              150308 non-null int64\n",
      "num_users                150308 non-null int64\n",
      "url                      150308 non-null object\n",
      "dtypes: datetime64[ns](1), float64(2), int64(3), object(7)\n",
      "memory usage: 14.9+ MB\n"
     ]
    }
   ],
   "source": [
    "path = os.path.join(data_dir,'conversations.csv' )\n",
    "conv = pd.read_csv(path, parse_dates=['timestamp'],dtype={'id':object, 'conversation_id':object,'in_reply_to_status_id':object})\n",
    "conv.info()"
   ]
  },
  {
   "cell_type": "markdown",
   "metadata": {},
   "source": [
    "## split conversations by language"
   ]
  },
  {
   "cell_type": "code",
   "execution_count": 4,
   "metadata": {},
   "outputs": [
    {
     "data": {
      "text/plain": [
       "(72066, 13)"
      ]
     },
     "execution_count": 4,
     "metadata": {},
     "output_type": "execute_result"
    }
   ],
   "source": [
    "roots = conv[conv.in_reply_to_status_id.isnull()]\n",
    "roots.shape"
   ]
  },
  {
   "cell_type": "code",
   "execution_count": 5,
   "metadata": {},
   "outputs": [
    {
     "data": {
      "text/plain": [
       "(39520, 13)"
      ]
     },
     "execution_count": 5,
     "metadata": {},
     "output_type": "execute_result"
    }
   ],
   "source": [
    "conv_ids = roots[roots.lang=='en'].conversation_id\n",
    "conv_en =  conv[conv.conversation_id.isin(conv_ids)]\n",
    "path = os.path.join(data_dir,'en','conversations.csv' )\n",
    "conv_en.to_csv(path, index=False)\n",
    "conv_en.shape"
   ]
  },
  {
   "cell_type": "code",
   "execution_count": 7,
   "metadata": {},
   "outputs": [
    {
     "data": {
      "text/plain": [
       "(94776, 13)"
      ]
     },
     "execution_count": 7,
     "metadata": {},
     "output_type": "execute_result"
    }
   ],
   "source": [
    "conv_ids = roots[roots.lang=='es'].conversation_id\n",
    "conv_es = conv[conv.conversation_id.isin(conv_ids)]\n",
    "path = os.path.join(data_dir,'es','conversations.csv' )\n",
    "conv_es.to_csv('../data/ecuador_earthquake_2016/es/conversations.csv', index=False)\n",
    "conv_es.shape"
   ]
  },
  {
   "cell_type": "code",
   "execution_count": 13,
   "metadata": {},
   "outputs": [
    {
     "data": {
      "text/plain": [
       "(16012, 13)"
      ]
     },
     "execution_count": 13,
     "metadata": {},
     "output_type": "execute_result"
    }
   ],
   "source": [
    "conv_ids = roots[~roots.lang.isin(['en','es'])].conversation_id\n",
    "conv_others = conv[conv.conversation_id.isin(conv_ids)]\n",
    "conv_others.to_csv('../data/ecuador_earthquake_2016/other/conversations.csv', index=False)\n",
    "conv_others.shape"
   ]
  },
  {
   "cell_type": "markdown",
   "metadata": {},
   "source": [
    "# convert annotated dialogs to crisisNLP format"
   ]
  },
  {
   "cell_type": "code",
   "execution_count": 245,
   "metadata": {
    "scrolled": true
   },
   "outputs": [
    {
     "data": {
      "text/plain": [
       "((1007, 61), Index(['id', 'screen_name', 'latitude', 'longitude', 'lang',\n",
       "        'in_reply_to_status_id', 'text', 'conversation_id', 'conversation_deep',\n",
       "        'num_replies', 'num_users', 'url', 'timestamp', 'dialog_id', 'turns',\n",
       "        'crisis_related', 'outcome_prevention_ack',\n",
       "        'outcome_situational_awareness', 'outcome_relief_coordination',\n",
       "        'people_deaths', 'people_wounded', 'people_missing', 'people_evacuated',\n",
       "        'people_other', 'infra_buildings', 'infra_roads', 'infra_houses',\n",
       "        'infra_business', 'infra_other', 'request_info', 'request_goods',\n",
       "        'request_services', 'request_other', 'offer_info', 'offer_goods',\n",
       "        'offer_services', 'offer_other', 'informative', 'update', 'precaution',\n",
       "        'emotional', 'expressive_positive', 'expressive_negative', 'complain',\n",
       "        'suggest_action', 'promise', 'sarcasm', 'insult', 'yes_no_question',\n",
       "        'wh_question', 'open_question', 'yes_answer', 'no_answer',\n",
       "        'response_ack', 'response_other', 'opening_greeting',\n",
       "        'closing_greeting', 'thanks', 'apology', 'other_subcat', 'comment'],\n",
       "       dtype='object'))"
      ]
     },
     "execution_count": 245,
     "metadata": {},
     "output_type": "execute_result"
    }
   ],
   "source": [
    "path = os.path.join(data_dir,'en','dialogs_annotated.csv' )\n",
    "dialogs = pd.read_csv(path, parse_dates=['timestamp'],dtype={'id':object, 'conversation_id':object,'in_reply_to_status_id':object})\n",
    "dialogs.shape, dialogs.columns"
   ]
  },
  {
   "cell_type": "code",
   "execution_count": 246,
   "metadata": {
    "scrolled": true
   },
   "outputs": [
    {
     "data": {
      "text/plain": [
       "1.0    93\n",
       "0.0    64\n",
       "Name: crisis_related, dtype: int64"
      ]
     },
     "execution_count": 246,
     "metadata": {},
     "output_type": "execute_result"
    }
   ],
   "source": [
    "dialogs[dialogs.in_reply_to_status_id.isnull()].crisis_related.value_counts()"
   ]
  },
  {
   "cell_type": "code",
   "execution_count": 191,
   "metadata": {},
   "outputs": [
    {
     "data": {
      "text/plain": [
       "(695, 61)"
      ]
     },
     "execution_count": 191,
     "metadata": {},
     "output_type": "execute_result"
    }
   ],
   "source": [
    "tweets  =dialogs.drop_duplicates('id').copy()\n",
    "tweets.shape"
   ]
  },
  {
   "cell_type": "code",
   "execution_count": 192,
   "metadata": {},
   "outputs": [
    {
     "data": {
      "text/plain": [
       "(22, 61)"
      ]
     },
     "execution_count": 192,
     "metadata": {},
     "output_type": "execute_result"
    }
   ],
   "source": [
    "tweets[tweets.people_deaths==1].shape"
   ]
  },
  {
   "cell_type": "code",
   "execution_count": 193,
   "metadata": {},
   "outputs": [],
   "source": [
    "def convert_to_8figure_labels(tweets, dialogs):\n",
    "    tweets['choose_one_category'] = 'na'\n",
    "\n",
    "    crt= dialogs[dialogs.in_reply_to_status_id.isnull()&\n",
    "                 dialogs.crisis_related==1].conversation_id.unique()\n",
    "    #crt.shape\n",
    "    tweets.loc[tweets.conversation_id.isin(crt) & \n",
    "            (\n",
    "                (tweets.people_deaths ==1) |\n",
    "                (tweets.people_wounded==1)\n",
    "            ), 'choose_one_category']= 'dead'\n",
    "    tweets.loc[tweets.conversation_id.isin(crt) & \n",
    "            (\n",
    "                (tweets.people_missing ==1) |\n",
    "                (tweets.people_other==1)\n",
    "            ), 'choose_one_category']= 'missing'\n",
    "    tweets.loc[tweets.conversation_id.isin(crt) & \n",
    "            (\n",
    "                (tweets.people_evacuated==1) \n",
    "            ), 'choose_one_category']= 'evacuated'\n",
    "    tweets.loc[tweets.conversation_id.isin(crt) & \n",
    "            (\n",
    "                (tweets.infra_buildings==1) |\n",
    "                (tweets.infra_roads==1) |\n",
    "                (tweets.infra_houses==1) |\n",
    "                (tweets.infra_business==1) |\n",
    "                (tweets.infra_other==1) \n",
    "\n",
    "            ), 'choose_one_category']= 'infra'\n",
    "    tweets.loc[tweets.conversation_id.isin(crt) & \n",
    "            (\n",
    "                (tweets.request_info==1) | (tweets.request_goods==1) |\n",
    "                (tweets.request_services==1) | (tweets.request_other==1) |\n",
    "                (tweets.offer_info==1) | (tweets.offer_goods==1) |\n",
    "                (tweets.offer_services==1) | (tweets.offer_other==1) |\n",
    "                (tweets.complain==1) | (tweets.promise==1)\n",
    "            ), 'choose_one_category']= 'help'\n",
    "    tweets.loc[tweets.conversation_id.isin(crt) & \n",
    "            (\n",
    "                (tweets.precaution==1) \n",
    "            ), 'choose_one_category']= 'caution'\n",
    "    tweets.loc[tweets.conversation_id.isin(crt) & \n",
    "            (\n",
    "                (tweets.emotional==1) |\n",
    "                (tweets.expressive_positive==1) |\n",
    "                (tweets.expressive_negative ==1) \n",
    "            ), 'choose_one_category']= 'support'\n",
    "    tweets.loc[tweets.conversation_id.isin(crt) & \n",
    "            (\n",
    "                (tweets.informative==1) |\n",
    "                (tweets.update==1) |\n",
    "                (tweets.other_subcat ==1)\n",
    "            ), 'choose_one_category']= 'other'\n",
    "    print(tweets.choose_one_category.value_counts())\n",
    "    return tweets"
   ]
  },
  {
   "cell_type": "code",
   "execution_count": 227,
   "metadata": {
    "scrolled": true
   },
   "outputs": [
    {
     "data": {
      "text/plain": [
       "((39520, 13), Index(['id', 'screen_name', 'latitude', 'longitude', 'lang',\n",
       "        'in_reply_to_status_id', 'text', 'timestamp', 'conversation_id',\n",
       "        'conversation_deep', 'num_replies', 'num_users', 'url', 'dialog_id',\n",
       "        'turns', 'crisis_related', 'outcome_prevention_ack',\n",
       "        'outcome_situational_awareness', 'outcome_relief_coordination',\n",
       "        'people_deaths', 'people_wounded', 'people_missing', 'people_evacuated',\n",
       "        'people_other', 'infra_buildings', 'infra_roads', 'infra_houses',\n",
       "        'infra_business', 'infra_other', 'request_info', 'request_goods',\n",
       "        'request_services', 'request_other', 'offer_info', 'offer_goods',\n",
       "        'offer_services', 'offer_other', 'informative', 'update', 'precaution',\n",
       "        'emotional', 'expressive_positive', 'expressive_negative', 'complain',\n",
       "        'suggest_action', 'promise', 'sarcasm', 'insult', 'yes_no_question',\n",
       "        'wh_question', 'open_question', 'yes_answer', 'no_answer',\n",
       "        'response_ack', 'response_other', 'opening_greeting',\n",
       "        'closing_greeting', 'thanks', 'apology', 'other_subcat', 'comment'],\n",
       "       dtype='object'))"
      ]
     },
     "execution_count": 227,
     "metadata": {},
     "output_type": "execute_result"
    }
   ],
   "source": [
    "path = os.path.join(data_dir,'en','conversations.csv' )\n",
    "conversations = pd.read_csv(path, parse_dates=['timestamp'],dtype={'id':object, 'conversation_id':object,'in_reply_to_status_id':object})\n",
    "conversations.shape, dialogs.columns"
   ]
  },
  {
   "cell_type": "code",
   "execution_count": 228,
   "metadata": {},
   "outputs": [
    {
     "data": {
      "text/plain": [
       "(13799, 13)"
      ]
     },
     "execution_count": 228,
     "metadata": {},
     "output_type": "execute_result"
    }
   ],
   "source": [
    "conversations[conversations.text.str.contains('earthquake')].shape"
   ]
  },
  {
   "cell_type": "code",
   "execution_count": 153,
   "metadata": {},
   "outputs": [
    {
     "data": {
      "text/plain": [
       "(105, 61)"
      ]
     },
     "execution_count": 153,
     "metadata": {},
     "output_type": "execute_result"
    }
   ],
   "source": [
    "dialogs[dialogs.text.str.contains('earthquake')].shape"
   ]
  },
  {
   "cell_type": "code",
   "execution_count": 235,
   "metadata": {},
   "outputs": [
    {
     "data": {
      "text/plain": [
       "(13348, 13)"
      ]
     },
     "execution_count": 235,
     "metadata": {},
     "output_type": "execute_result"
    }
   ],
   "source": [
    "eq_convs = conversations[conversations.text.str.contains('earthquake') & conversations.in_reply_to_status_id.isnull()]\n",
    "eq_convs.shape"
   ]
  },
  {
   "cell_type": "code",
   "execution_count": 236,
   "metadata": {},
   "outputs": [
    {
     "data": {
      "text/plain": [
       "(19451, 13)"
      ]
     },
     "execution_count": 236,
     "metadata": {},
     "output_type": "execute_result"
    }
   ],
   "source": [
    "eq_convs = conversations[~conversations.text.str.contains('earthquake',case=False)]\n",
    "eq_convs.shape"
   ]
  },
  {
   "cell_type": "code",
   "execution_count": 237,
   "metadata": {},
   "outputs": [
    {
     "data": {
      "text/plain": [
       "(2695, 7)"
      ]
     },
     "execution_count": 237,
     "metadata": {},
     "output_type": "execute_result"
    }
   ],
   "source": [
    "path = os.path.join(data_dir,'2016_ecuador_eq_en.csv' )\n",
    "tweets_annotated = pd.read_csv(path, parse_dates=['timestamp'],\n",
    "    dtype={'id':object, 'conversation_id':object,'in_reply_to_status_id':object})\n",
    "tweets_annotated.shape"
   ]
  },
  {
   "cell_type": "code",
   "execution_count": 238,
   "metadata": {},
   "outputs": [
    {
     "data": {
      "text/plain": [
       "(18841, 13)"
      ]
     },
     "execution_count": 238,
     "metadata": {},
     "output_type": "execute_result"
    }
   ],
   "source": [
    "eq_convs = eq_convs[~eq_convs.id.isin(tweets_annotated.id)]\n",
    "eq_convs.shape"
   ]
  },
  {
   "cell_type": "code",
   "execution_count": 239,
   "metadata": {},
   "outputs": [
    {
     "data": {
      "text/plain": [
       "(1500, 13)"
      ]
     },
     "execution_count": 239,
     "metadata": {},
     "output_type": "execute_result"
    }
   ],
   "source": [
    "eq_convs_sample = eq_convs.sample(1500, random_state=1) \n",
    "eq_convs_sample.shape"
   ]
  },
  {
   "cell_type": "code",
   "execution_count": 240,
   "metadata": {},
   "outputs": [],
   "source": [
    "path = os.path.join(data_dir,'en','tweets_na.csv' )\n",
    "eq_convs_sample.to_csv(path, index=False, quoting=csv.QUOTE_ALL)"
   ]
  },
  {
   "cell_type": "code",
   "execution_count": null,
   "metadata": {},
   "outputs": [],
   "source": []
  },
  {
   "cell_type": "code",
   "execution_count": 22,
   "metadata": {},
   "outputs": [
    {
     "data": {
      "text/plain": [
       "(2000, 13)"
      ]
     },
     "execution_count": 22,
     "metadata": {},
     "output_type": "execute_result"
    }
   ],
   "source": [
    "eq_convs_sample = eq_convs.sample(2000, random_state=1) \n",
    "eq_convs_sample.shape"
   ]
  },
  {
   "cell_type": "code",
   "execution_count": null,
   "metadata": {},
   "outputs": [],
   "source": []
  },
  {
   "cell_type": "code",
   "execution_count": 28,
   "metadata": {},
   "outputs": [
    {
     "data": {
      "text/plain": [
       "(24, 13)"
      ]
     },
     "execution_count": 28,
     "metadata": {},
     "output_type": "execute_result"
    }
   ],
   "source": [
    "eq_convs_sample[eq_convs_sample.text.str.startswith('RT')].shape"
   ]
  },
  {
   "cell_type": "code",
   "execution_count": 25,
   "metadata": {},
   "outputs": [],
   "source": [
    "path = os.path.join(data_dir,'en','conversations_sample.csv' )\n",
    "eq_convs_sample.to_csv(path, index=False, quoting=csv.QUOTE_ALL)"
   ]
  },
  {
   "cell_type": "code",
   "execution_count": 241,
   "metadata": {
    "scrolled": true
   },
   "outputs": [
    {
     "name": "stdout",
     "output_type": "stream",
     "text": [
      "<class 'pandas.core.frame.DataFrame'>\n",
      "RangeIndex: 2000 entries, 0 to 1999\n",
      "Data columns (total 6 columns):\n",
      "id                     2000 non-null object\n",
      "screen_name            2000 non-null object\n",
      "text                   2000 non-null object\n",
      "url                    2000 non-null object\n",
      "timestamp              2000 non-null datetime64[ns]\n",
      "choose_one_category    2000 non-null object\n",
      "dtypes: datetime64[ns](1), object(5)\n",
      "memory usage: 93.8+ KB\n"
     ]
    }
   ],
   "source": [
    "path = os.path.join(data_dir,'en','tweets_annotated.csv' )\n",
    "tweets_annotated = pd.read_csv(path, parse_dates=['timestamp'],\n",
    "    dtype={'id':object, 'conversation_id':object,'in_reply_to_status_id':object})\n",
    "tweets_annotated.info()"
   ]
  },
  {
   "cell_type": "code",
   "execution_count": 242,
   "metadata": {},
   "outputs": [
    {
     "data": {
      "text/plain": [
       "Index(['id', 'screen_name', 'text', 'url', 'timestamp', 'choose_one_category'], dtype='object')"
      ]
     },
     "execution_count": 242,
     "metadata": {},
     "output_type": "execute_result"
    }
   ],
   "source": [
    "tweets_annotated.columns"
   ]
  },
  {
   "cell_type": "code",
   "execution_count": 243,
   "metadata": {},
   "outputs": [
    {
     "data": {
      "text/plain": [
       "dead         1151\n",
       "other         365\n",
       "support       222\n",
       "help          141\n",
       "infra          68\n",
       "caution        36\n",
       "na              7\n",
       "evacuated       7\n",
       "missing         3\n",
       "Name: choose_one_category, dtype: int64"
      ]
     },
     "execution_count": 243,
     "metadata": {},
     "output_type": "execute_result"
    }
   ],
   "source": [
    "tweets_annotated.choose_one_category.value_counts()"
   ]
  },
  {
   "cell_type": "code",
   "execution_count": 247,
   "metadata": {},
   "outputs": [
    {
     "data": {
      "text/plain": [
       "(695, 61)"
      ]
     },
     "execution_count": 247,
     "metadata": {},
     "output_type": "execute_result"
    }
   ],
   "source": [
    "tweets = dialogs.drop_duplicates('id').copy()\n",
    "tweets.shape"
   ]
  },
  {
   "cell_type": "code",
   "execution_count": 248,
   "metadata": {},
   "outputs": [
    {
     "name": "stdout",
     "output_type": "stream",
     "text": [
      "na         439\n",
      "support    103\n",
      "help        68\n",
      "other       62\n",
      "dead        14\n",
      "infra        5\n",
      "caution      3\n",
      "missing      1\n",
      "Name: choose_one_category, dtype: int64\n"
     ]
    }
   ],
   "source": [
    "tweets = convert_to_8figure_labels(tweets, dialogs)"
   ]
  },
  {
   "cell_type": "code",
   "execution_count": 249,
   "metadata": {},
   "outputs": [
    {
     "data": {
      "text/plain": [
       "(695, 6)"
      ]
     },
     "execution_count": 249,
     "metadata": {},
     "output_type": "execute_result"
    }
   ],
   "source": [
    "cols=['id', 'screen_name', 'text', 'url', 'timestamp', 'choose_one_category']\n",
    "tweets = tweets[cols]\n",
    "tweets.shape"
   ]
  },
  {
   "cell_type": "code",
   "execution_count": 250,
   "metadata": {},
   "outputs": [
    {
     "name": "stdout",
     "output_type": "stream",
     "text": [
      "<class 'pandas.core.frame.DataFrame'>\n",
      "RangeIndex: 1500 entries, 0 to 1499\n",
      "Data columns (total 6 columns):\n",
      "id                     1500 non-null object\n",
      "screen_name            1500 non-null object\n",
      "text                   1499 non-null object\n",
      "url                    1500 non-null object\n",
      "timestamp              1500 non-null datetime64[ns]\n",
      "choose_one_category    1500 non-null object\n",
      "dtypes: datetime64[ns](1), object(5)\n",
      "memory usage: 70.4+ KB\n"
     ]
    }
   ],
   "source": [
    "path = os.path.join(data_dir,'en','tweets_na_annotated.csv' )\n",
    "tweets_na_annotated = pd.read_csv(path, parse_dates=['timestamp'],\n",
    "    dtype={'id':object, 'conversation_id':object,'in_reply_to_status_id':object})\n",
    "tweets_na_annotated.info()"
   ]
  },
  {
   "cell_type": "code",
   "execution_count": 252,
   "metadata": {},
   "outputs": [
    {
     "data": {
      "text/plain": [
       "(4195, 6)"
      ]
     },
     "execution_count": 252,
     "metadata": {},
     "output_type": "execute_result"
    }
   ],
   "source": [
    "tweets8 = pd.concat([tweets_annotated, tweets, tweets_na_annotated])\n",
    "tweets8.shape"
   ]
  },
  {
   "cell_type": "code",
   "execution_count": 253,
   "metadata": {},
   "outputs": [],
   "source": [
    "tweets8.loc[tweets8.choose_one_category=='dead','choose_one_category'] = 'injured_or_dead_people'\n",
    "tweets8.loc[tweets8.choose_one_category=='missing','choose_one_category'] = 'missing_trapped_or_found_people'\n",
    "tweets8.loc[tweets8.choose_one_category=='evacuated','choose_one_category'] = 'displaced_people_and_evacuations'\n",
    "tweets8.loc[tweets8.choose_one_category=='infra','choose_one_category'] = 'infrastructure_and_utilities_damage'\n",
    "tweets8.loc[tweets8.choose_one_category=='help','choose_one_category'] = 'donation_needs_or_offers_or_volunteering_services'\n",
    "tweets8.loc[tweets8.choose_one_category=='caution','choose_one_category'] = 'caution_and_advice'\n",
    "tweets8.loc[tweets8.choose_one_category=='support','choose_one_category'] = 'sympathy_and_emotional_support'\n",
    "tweets8.loc[tweets8.choose_one_category=='other','choose_one_category'] = 'other_useful_information'\n",
    "tweets8.loc[tweets8.choose_one_category=='na','choose_one_category'] = 'not_related_or_irrelevant'"
   ]
  },
  {
   "cell_type": "code",
   "execution_count": 254,
   "metadata": {},
   "outputs": [],
   "source": [
    "tweets8['crisis_related'] = 'no'\n",
    "\n",
    "ix = (tweets8.choose_one_category!='not_related_or_irrelevant')\n",
    "\n",
    "tweets8.loc[ix,'crisis_related'] = 'yes'"
   ]
  },
  {
   "cell_type": "code",
   "execution_count": 255,
   "metadata": {},
   "outputs": [
    {
     "data": {
      "text/plain": [
       "yes    2249\n",
       "no     1946\n",
       "Name: crisis_related, dtype: int64"
      ]
     },
     "execution_count": 255,
     "metadata": {},
     "output_type": "execute_result"
    }
   ],
   "source": [
    "tweets8.crisis_related.value_counts()"
   ]
  },
  {
   "cell_type": "code",
   "execution_count": 257,
   "metadata": {},
   "outputs": [
    {
     "data": {
      "text/plain": [
       "(4195, 7)"
      ]
     },
     "execution_count": 257,
     "metadata": {},
     "output_type": "execute_result"
    }
   ],
   "source": [
    "tweets8.shape"
   ]
  },
  {
   "cell_type": "code",
   "execution_count": 256,
   "metadata": {},
   "outputs": [],
   "source": [
    "path = os.path.join(data_dir,'en','2016_ecuador_eq_en.csv' )\n",
    "tweets8.to_csv(path, index=False)"
   ]
  },
  {
   "cell_type": "markdown",
   "metadata": {},
   "source": [
    "# annotations spanish"
   ]
  },
  {
   "cell_type": "code",
   "execution_count": 205,
   "metadata": {},
   "outputs": [
    {
     "data": {
      "text/plain": [
       "((3572, 61), Index(['id', 'screen_name', 'latitude', 'longitude', 'lang',\n",
       "        'in_reply_to_status_id', 'text', 'timestamp', 'conversation_id',\n",
       "        'conversation_deep', 'num_replies', 'num_users', 'url', 'dialog_id',\n",
       "        'turns', 'crisis_related', 'outcome_prevention_ack',\n",
       "        'outcome_situational_awareness', 'outcome_relief_coordination',\n",
       "        'people_deaths', 'people_wounded', 'people_missing', 'people_evacuated',\n",
       "        'people_other', 'infra_buildings', 'infra_roads', 'infra_houses',\n",
       "        'infra_business', 'infra_other', 'request_info', 'request_goods',\n",
       "        'request_services', 'request_other', 'offer_info', 'offer_goods',\n",
       "        'offer_services', 'offer_other', 'informative', 'update', 'precaution',\n",
       "        'emotional', 'expressive_positive', 'expressive_negative', 'complain',\n",
       "        'suggest_action', 'promise', 'sarcasm', 'insult', 'yes_no_question',\n",
       "        'wh_question', 'open_question', 'yes_answer', 'no_answer',\n",
       "        'response_ack', 'response_other', 'opening_greeting',\n",
       "        'closing_greeting', 'thanks', 'apology', 'other_subcat', 'comment'],\n",
       "       dtype='object'))"
      ]
     },
     "execution_count": 205,
     "metadata": {},
     "output_type": "execute_result"
    }
   ],
   "source": [
    "path = os.path.join(data_dir,'es','dialogs_annotated.csv' )\n",
    "dialogs = pd.read_csv(path, parse_dates=['timestamp'],dtype={'id':object, 'conversation_id':object,'in_reply_to_status_id':object})\n",
    "dialogs.shape, dialogs.columns"
   ]
  },
  {
   "cell_type": "code",
   "execution_count": 206,
   "metadata": {},
   "outputs": [
    {
     "data": {
      "text/plain": [
       "((94776, 13), Index(['id', 'screen_name', 'latitude', 'longitude', 'lang',\n",
       "        'in_reply_to_status_id', 'text', 'timestamp', 'conversation_id',\n",
       "        'conversation_deep', 'num_replies', 'num_users', 'url', 'dialog_id',\n",
       "        'turns', 'crisis_related', 'outcome_prevention_ack',\n",
       "        'outcome_situational_awareness', 'outcome_relief_coordination',\n",
       "        'people_deaths', 'people_wounded', 'people_missing', 'people_evacuated',\n",
       "        'people_other', 'infra_buildings', 'infra_roads', 'infra_houses',\n",
       "        'infra_business', 'infra_other', 'request_info', 'request_goods',\n",
       "        'request_services', 'request_other', 'offer_info', 'offer_goods',\n",
       "        'offer_services', 'offer_other', 'informative', 'update', 'precaution',\n",
       "        'emotional', 'expressive_positive', 'expressive_negative', 'complain',\n",
       "        'suggest_action', 'promise', 'sarcasm', 'insult', 'yes_no_question',\n",
       "        'wh_question', 'open_question', 'yes_answer', 'no_answer',\n",
       "        'response_ack', 'response_other', 'opening_greeting',\n",
       "        'closing_greeting', 'thanks', 'apology', 'other_subcat', 'comment'],\n",
       "       dtype='object'))"
      ]
     },
     "execution_count": 206,
     "metadata": {},
     "output_type": "execute_result"
    }
   ],
   "source": [
    "path = os.path.join(data_dir,'es','conversations.csv' )\n",
    "conversations = pd.read_csv(path, parse_dates=['timestamp'],dtype={'id':object, 'conversation_id':object,'in_reply_to_status_id':object})\n",
    "conversations.shape, dialogs.columns"
   ]
  },
  {
   "cell_type": "code",
   "execution_count": 109,
   "metadata": {},
   "outputs": [
    {
     "data": {
      "text/plain": [
       "(29530, 13)"
      ]
     },
     "execution_count": 109,
     "metadata": {},
     "output_type": "execute_result"
    }
   ],
   "source": [
    "eq_convs = conversations[conversations.text.str.contains('terremoto') & conversations.in_reply_to_status_id.isnull()]\n",
    "eq_convs.shape"
   ]
  },
  {
   "cell_type": "code",
   "execution_count": 112,
   "metadata": {},
   "outputs": [
    {
     "data": {
      "text/plain": [
       "(28963, 13)"
      ]
     },
     "execution_count": 112,
     "metadata": {},
     "output_type": "execute_result"
    }
   ],
   "source": [
    "eq_convs = eq_convs.drop_duplicates('text')\n",
    "eq_convs.shape"
   ]
  },
  {
   "cell_type": "code",
   "execution_count": 207,
   "metadata": {},
   "outputs": [
    {
     "name": "stdout",
     "output_type": "stream",
     "text": [
      "<class 'pandas.core.frame.DataFrame'>\n",
      "RangeIndex: 2014 entries, 0 to 2013\n",
      "Data columns (total 6 columns):\n",
      "id                     2014 non-null object\n",
      "screen_name            2014 non-null object\n",
      "text                   2014 non-null object\n",
      "url                    2014 non-null object\n",
      "timestamp              2013 non-null datetime64[ns]\n",
      "choose_one_category    2014 non-null object\n",
      "dtypes: datetime64[ns](1), object(5)\n",
      "memory usage: 94.5+ KB\n"
     ]
    }
   ],
   "source": [
    "path = os.path.join(data_dir,'es','tweets_annotated.csv' )\n",
    "tweets_annotated = pd.read_csv(path, parse_dates=['timestamp'],\n",
    "    dtype={'id':object, 'conversation_id':object,'in_reply_to_status_id':object})\n",
    "tweets_annotated.info()"
   ]
  },
  {
   "cell_type": "code",
   "execution_count": 208,
   "metadata": {},
   "outputs": [
    {
     "data": {
      "text/plain": [
       "(2014, 6)"
      ]
     },
     "execution_count": 208,
     "metadata": {},
     "output_type": "execute_result"
    }
   ],
   "source": [
    "tweets_annotated = tweets_annotated.drop_duplicates('id')\n",
    "tweets_annotated.shape"
   ]
  },
  {
   "cell_type": "code",
   "execution_count": 209,
   "metadata": {},
   "outputs": [
    {
     "data": {
      "text/plain": [
       "(2007, 6)"
      ]
     },
     "execution_count": 209,
     "metadata": {},
     "output_type": "execute_result"
    }
   ],
   "source": [
    "tweets_annotated = tweets_annotated.drop_duplicates('text')\n",
    "tweets_annotated.shape"
   ]
  },
  {
   "cell_type": "code",
   "execution_count": 137,
   "metadata": {},
   "outputs": [
    {
     "data": {
      "text/plain": [
       "(27438, 13)"
      ]
     },
     "execution_count": 137,
     "metadata": {},
     "output_type": "execute_result"
    }
   ],
   "source": [
    "eq_convs = eq_convs[~eq_convs.id.isin(tweets_annotated.id)]\n",
    "eq_convs.shape"
   ]
  },
  {
   "cell_type": "code",
   "execution_count": 122,
   "metadata": {},
   "outputs": [
    {
     "data": {
      "text/plain": [
       "(1000, 13)"
      ]
     },
     "execution_count": 122,
     "metadata": {},
     "output_type": "execute_result"
    }
   ],
   "source": [
    "eq_convs_sample = eq_convs.sample(1000, random_state=1) \n",
    "eq_convs_sample.shape"
   ]
  },
  {
   "cell_type": "code",
   "execution_count": 123,
   "metadata": {},
   "outputs": [],
   "source": [
    "path = os.path.join(data_dir,'es','tweets_sample.csv' )\n",
    "eq_convs_sample.to_csv(path, index=False, quoting=csv.QUOTE_ALL)"
   ]
  },
  {
   "cell_type": "code",
   "execution_count": 210,
   "metadata": {},
   "outputs": [
    {
     "data": {
      "text/plain": [
       "(2193, 61)"
      ]
     },
     "execution_count": 210,
     "metadata": {},
     "output_type": "execute_result"
    }
   ],
   "source": [
    "tweets = dialogs.drop_duplicates('id').copy()\n",
    "tweets.shape"
   ]
  },
  {
   "cell_type": "code",
   "execution_count": 211,
   "metadata": {},
   "outputs": [
    {
     "name": "stdout",
     "output_type": "stream",
     "text": [
      "na         1680\n",
      "other       304\n",
      "support     132\n",
      "help         64\n",
      "infra         6\n",
      "caution       4\n",
      "dead          3\n",
      "Name: choose_one_category, dtype: int64\n"
     ]
    }
   ],
   "source": [
    "tweets = convert_to_8figure_labels(tweets, dialogs)\n"
   ]
  },
  {
   "cell_type": "code",
   "execution_count": 212,
   "metadata": {},
   "outputs": [
    {
     "data": {
      "text/plain": [
       "(2193, 6)"
      ]
     },
     "execution_count": 212,
     "metadata": {},
     "output_type": "execute_result"
    }
   ],
   "source": [
    "cols=['id', 'screen_name', 'text', 'url', 'timestamp', 'choose_one_category']\n",
    "tweets = tweets[cols]\n",
    "tweets.shape"
   ]
  },
  {
   "cell_type": "code",
   "execution_count": 213,
   "metadata": {},
   "outputs": [
    {
     "data": {
      "text/plain": [
       "(4200, 6)"
      ]
     },
     "execution_count": 213,
     "metadata": {},
     "output_type": "execute_result"
    }
   ],
   "source": [
    "tweets8 = pd.concat([tweets_annotated, tweets])\n",
    "tweets8.shape"
   ]
  },
  {
   "cell_type": "code",
   "execution_count": 214,
   "metadata": {},
   "outputs": [
    {
     "data": {
      "text/plain": [
       "na           1862\n",
       "other         767\n",
       "dead          624\n",
       "support       452\n",
       "help          235\n",
       "infra         157\n",
       "caution        61\n",
       "missing        30\n",
       "evacuated      12\n",
       "Name: choose_one_category, dtype: int64"
      ]
     },
     "execution_count": 214,
     "metadata": {},
     "output_type": "execute_result"
    }
   ],
   "source": [
    "tweets8.choose_one_category.value_counts()"
   ]
  },
  {
   "cell_type": "code",
   "execution_count": 215,
   "metadata": {},
   "outputs": [],
   "source": [
    "tweets8.loc[tweets8.choose_one_category=='dead','choose_one_category'] = 'injured_or_dead_people'\n",
    "tweets8.loc[tweets8.choose_one_category=='missing','choose_one_category'] = 'missing_trapped_or_found_people'\n",
    "tweets8.loc[tweets8.choose_one_category=='evacuated','choose_one_category'] = 'displaced_people_and_evacuations'\n",
    "tweets8.loc[tweets8.choose_one_category=='infra','choose_one_category'] = 'infrastructure_and_utilities_damage'\n",
    "tweets8.loc[tweets8.choose_one_category=='help','choose_one_category'] = 'donation_needs_or_offers_or_volunteering_services'\n",
    "tweets8.loc[tweets8.choose_one_category=='caution','choose_one_category'] = 'caution_and_advice'\n",
    "tweets8.loc[tweets8.choose_one_category=='support','choose_one_category'] = 'sympathy_and_emotional_support'\n",
    "tweets8.loc[tweets8.choose_one_category=='other','choose_one_category'] = 'other_useful_information'\n",
    "tweets8.loc[tweets8.choose_one_category=='na','choose_one_category'] = 'not_related_or_irrelevant'"
   ]
  },
  {
   "cell_type": "code",
   "execution_count": 216,
   "metadata": {},
   "outputs": [],
   "source": [
    "tweets8['crisis_related'] = 'no'\n",
    "\n",
    "ix = (tweets8.choose_one_category!='not_related_or_irrelevant')\n",
    "\n",
    "tweets8.loc[ix,'crisis_related'] = 'yes'"
   ]
  },
  {
   "cell_type": "code",
   "execution_count": 224,
   "metadata": {},
   "outputs": [
    {
     "data": {
      "text/plain": [
       "yes    2338\n",
       "no     1862\n",
       "Name: crisis_related, dtype: int64"
      ]
     },
     "execution_count": 224,
     "metadata": {},
     "output_type": "execute_result"
    }
   ],
   "source": [
    "tweets8.crisis_related.value_counts()"
   ]
  },
  {
   "cell_type": "code",
   "execution_count": 217,
   "metadata": {},
   "outputs": [],
   "source": [
    "path = os.path.join(data_dir,'es','2016_ecuador_eq_es.csv' )\n",
    "tweets8.to_csv(path, index=False)"
   ]
  },
  {
   "cell_type": "markdown",
   "metadata": {},
   "source": [
    "## merge languages"
   ]
  },
  {
   "cell_type": "code",
   "execution_count": 220,
   "metadata": {},
   "outputs": [
    {
     "data": {
      "text/plain": [
       "(4200, 7)"
      ]
     },
     "execution_count": 220,
     "metadata": {},
     "output_type": "execute_result"
    }
   ],
   "source": [
    "path = os.path.join(data_dir,'2016_ecuador_eq_es.csv' )\n",
    "tweets_es = pd.read_csv(path, parse_dates=['timestamp'],\n",
    "    dtype={'id':object, 'conversation_id':object,'in_reply_to_status_id':object})\n",
    "tweets_es.shape"
   ]
  },
  {
   "cell_type": "code",
   "execution_count": 221,
   "metadata": {},
   "outputs": [
    {
     "data": {
      "text/plain": [
       "(2695, 7)"
      ]
     },
     "execution_count": 221,
     "metadata": {},
     "output_type": "execute_result"
    }
   ],
   "source": [
    "path = os.path.join(data_dir,'2016_ecuador_eq_en.csv' )\n",
    "tweets_en = pd.read_csv(path, parse_dates=['timestamp'],\n",
    "    dtype={'id':object, 'conversation_id':object,'in_reply_to_status_id':object})\n",
    "tweets_en.shape"
   ]
  },
  {
   "cell_type": "code",
   "execution_count": 222,
   "metadata": {},
   "outputs": [
    {
     "data": {
      "text/plain": [
       "(6895, 7)"
      ]
     },
     "execution_count": 222,
     "metadata": {},
     "output_type": "execute_result"
    }
   ],
   "source": [
    "tweets_all = pd.concat([tweets_es, tweets_en])\n",
    "tweets_all.shape"
   ]
  },
  {
   "cell_type": "code",
   "execution_count": null,
   "metadata": {},
   "outputs": [],
   "source": []
  },
  {
   "cell_type": "code",
   "execution_count": 223,
   "metadata": {},
   "outputs": [],
   "source": [
    "path = os.path.join(data_dir,'2016_ecuador_eq.csv' )\n",
    "tweets_all.to_csv(path, index=False)"
   ]
  },
  {
   "cell_type": "markdown",
   "metadata": {},
   "source": [
    "## create annotators"
   ]
  },
  {
   "cell_type": "code",
   "execution_count": 333,
   "metadata": {},
   "outputs": [
    {
     "name": "stdout",
     "output_type": "stream",
     "text": [
      "<class 'pandas.core.frame.DataFrame'>\n",
      "RangeIndex: 4168 entries, 0 to 4167\n",
      "Data columns (total 10 columns):\n",
      "id                        4168 non-null object\n",
      "screen_name               4168 non-null object\n",
      "text                      4167 non-null object\n",
      "url                       4168 non-null object\n",
      "timestamp                 4167 non-null datetime64[ns]\n",
      "choose_one_category       4168 non-null object\n",
      "crisis_related            4168 non-null object\n",
      "choose_one_category_a1    4168 non-null object\n",
      "choose_one_category_a2    4168 non-null object\n",
      "choose_one_category_a3    4168 non-null object\n",
      "dtypes: datetime64[ns](1), object(9)\n",
      "memory usage: 325.7+ KB\n"
     ]
    }
   ],
   "source": [
    "path = os.path.join(data_dir,'2016_ecuador_eq_es.csv' )\n",
    "tweets_es = pd.read_csv(path, parse_dates=['timestamp'],\n",
    "    dtype={'id':object, 'conversation_id':object,'in_reply_to_status_id':object})\n",
    "tweets_es.info()"
   ]
  },
  {
   "cell_type": "code",
   "execution_count": 334,
   "metadata": {},
   "outputs": [
    {
     "data": {
      "text/plain": [
       "(4168, 10)"
      ]
     },
     "execution_count": 334,
     "metadata": {},
     "output_type": "execute_result"
    }
   ],
   "source": [
    "tweets_es.drop_duplicates('id', inplace=True)\n",
    "tweets_es.shape"
   ]
  },
  {
   "cell_type": "code",
   "execution_count": 335,
   "metadata": {},
   "outputs": [],
   "source": [
    "#tweets_es.to_csv(path, index=False)"
   ]
  },
  {
   "cell_type": "code",
   "execution_count": 342,
   "metadata": {},
   "outputs": [],
   "source": [
    "tweets_es['choose_one_category_a1'] = tweets_es.choose_one_category\n",
    "tweets_es['choose_one_category_a2'] = tweets_es.choose_one_category\n",
    "tweets_es['choose_one_category_a3'] = tweets_es.choose_one_category"
   ]
  },
  {
   "cell_type": "code",
   "execution_count": 343,
   "metadata": {},
   "outputs": [],
   "source": [
    "def set_noise(tweets, field, num, seed):\n",
    "    noise_tweets = tweets.sample(num, random_state=seed).copy()\n",
    "    noise_tweets.loc[noise_tweets.choose_one_category=='other_useful_information',field]='not_related_or_irrelevant'\n",
    "    noise_tweets.loc[noise_tweets.choose_one_category=='not_related_or_irrelevant',field]='other_useful_information'\n",
    "    noise_tweets.loc[noise_tweets.choose_one_category=='injured_or_dead_people',field]='missing_trapped_or_found_people'\n",
    "    noise_tweets.loc[noise_tweets.choose_one_category=='sympathy_and_emotional_support',field]='caution_and_advice'\n",
    "    noise_tweets.loc[noise_tweets.choose_one_category=='caution_and_advice',field]='other_useful_information'\n",
    "    noise_tweets.loc[noise_tweets.choose_one_category=='displaced_people_and_evacuations',field]='other_useful_information'\n",
    "    noise_tweets.loc[noise_tweets.choose_one_category=='donation_needs_or_offers_or_volunteering_services',field]='infrastructure_and_utilities_damage'\n",
    "    noise_tweets.loc[noise_tweets.choose_one_category=='infrastructure_and_utilities_damage',field]='injured_or_dead_people'\n",
    "    noise_tweets.loc[noise_tweets.choose_one_category=='missing_trapped_or_found_people',field]='displaced_people_and_evacuations'\n",
    "    return noise_tweets\n"
   ]
  },
  {
   "cell_type": "code",
   "execution_count": 344,
   "metadata": {},
   "outputs": [
    {
     "data": {
      "text/plain": [
       "((3368, 10), (800, 10))"
      ]
     },
     "execution_count": 344,
     "metadata": {},
     "output_type": "execute_result"
    }
   ],
   "source": [
    "noise_tweets=set_noise(tweets_es, 'choose_one_category_a1', 800, 1)\n",
    "tweets_bak = tweets_es[~tweets_es.id.isin(noise_tweets.id)]\n",
    "tweets_bak.shape, noise_tweets.shape"
   ]
  },
  {
   "cell_type": "code",
   "execution_count": 345,
   "metadata": {},
   "outputs": [
    {
     "data": {
      "text/plain": [
       "((2868, 10), (500, 10))"
      ]
     },
     "execution_count": 345,
     "metadata": {},
     "output_type": "execute_result"
    }
   ],
   "source": [
    "noise_tweets2=set_noise(tweets_bak, 'choose_one_category_a2', 500, 2)\n",
    "tweets_bak = tweets_bak[~tweets_bak.id.isin(noise_tweets2.id)]\n",
    "tweets_bak.shape, noise_tweets2.shape"
   ]
  },
  {
   "cell_type": "code",
   "execution_count": 346,
   "metadata": {},
   "outputs": [
    {
     "data": {
      "text/plain": [
       "(4168, 10)"
      ]
     },
     "execution_count": 346,
     "metadata": {},
     "output_type": "execute_result"
    }
   ],
   "source": [
    "tweet_all = pd.concat([tweets_bak, noise_tweets,noise_tweets2], sort=False)\n",
    "tweet_all.shape"
   ]
  },
  {
   "cell_type": "code",
   "execution_count": 347,
   "metadata": {},
   "outputs": [
    {
     "name": "stdout",
     "output_type": "stream",
     "text": [
      "<class 'pandas.core.frame.DataFrame'>\n",
      "Int64Index: 4168 entries, 0 to 3241\n",
      "Data columns (total 10 columns):\n",
      "id                        4168 non-null object\n",
      "screen_name               4168 non-null object\n",
      "text                      4167 non-null object\n",
      "url                       4168 non-null object\n",
      "timestamp                 4167 non-null datetime64[ns]\n",
      "choose_one_category       4168 non-null object\n",
      "crisis_related            4168 non-null object\n",
      "choose_one_category_a1    4168 non-null object\n",
      "choose_one_category_a2    4168 non-null object\n",
      "choose_one_category_a3    4168 non-null object\n",
      "dtypes: datetime64[ns](1), object(9)\n",
      "memory usage: 358.2+ KB\n"
     ]
    }
   ],
   "source": [
    "tweet_all.info()"
   ]
  },
  {
   "cell_type": "code",
   "execution_count": 348,
   "metadata": {},
   "outputs": [],
   "source": [
    "tweet_all.to_csv(path, index=False)"
   ]
  },
  {
   "cell_type": "code",
   "execution_count": 372,
   "metadata": {},
   "outputs": [
    {
     "name": "stdout",
     "output_type": "stream",
     "text": [
      "<class 'pandas.core.frame.DataFrame'>\n",
      "RangeIndex: 4192 entries, 0 to 4191\n",
      "Data columns (total 10 columns):\n",
      "id                        4192 non-null object\n",
      "screen_name               4192 non-null object\n",
      "text                      4191 non-null object\n",
      "url                       4192 non-null object\n",
      "timestamp                 4192 non-null datetime64[ns]\n",
      "choose_one_category       4192 non-null object\n",
      "crisis_related            4192 non-null object\n",
      "choose_one_category_a1    4192 non-null object\n",
      "choose_one_category_a2    4192 non-null object\n",
      "choose_one_category_a3    4192 non-null object\n",
      "dtypes: datetime64[ns](1), object(9)\n",
      "memory usage: 327.6+ KB\n"
     ]
    }
   ],
   "source": [
    "path = os.path.join(data_dir,'2016_ecuador_eq_en.csv' )\n",
    "tweets = pd.read_csv(path, parse_dates=['timestamp'],\n",
    "    dtype={'id':object, 'conversation_id':object,'in_reply_to_status_id':object})\n",
    "tweets.info()"
   ]
  },
  {
   "cell_type": "code",
   "execution_count": 373,
   "metadata": {},
   "outputs": [
    {
     "data": {
      "text/plain": [
       "(4192, 10)"
      ]
     },
     "execution_count": 373,
     "metadata": {},
     "output_type": "execute_result"
    }
   ],
   "source": [
    "tweets.drop_duplicates('id', inplace=True)\n",
    "tweets.shape\n",
    "#tweets.id.nunique()"
   ]
  },
  {
   "cell_type": "code",
   "execution_count": 374,
   "metadata": {},
   "outputs": [],
   "source": [
    "tweets['choose_one_category_a1'] = tweets.choose_one_category\n",
    "tweets['choose_one_category_a2'] = tweets.choose_one_category\n",
    "tweets['choose_one_category_a3'] = tweets.choose_one_category"
   ]
  },
  {
   "cell_type": "code",
   "execution_count": 375,
   "metadata": {},
   "outputs": [
    {
     "data": {
      "text/plain": [
       "((3292, 10), (900, 10))"
      ]
     },
     "execution_count": 375,
     "metadata": {},
     "output_type": "execute_result"
    }
   ],
   "source": [
    "noise_tweets=set_noise(tweets, 'choose_one_category_a1', 900, 1)\n",
    "tweets_bak = tweets[~tweets.id.isin(noise_tweets.id)]\n",
    "tweets_bak.shape, noise_tweets.shape"
   ]
  },
  {
   "cell_type": "code",
   "execution_count": 376,
   "metadata": {},
   "outputs": [
    {
     "data": {
      "text/plain": [
       "((2692, 10), (600, 10))"
      ]
     },
     "execution_count": 376,
     "metadata": {},
     "output_type": "execute_result"
    }
   ],
   "source": [
    "noise_tweets2=set_noise(tweets_bak, 'choose_one_category_a2', 600, 2)\n",
    "tweets_bak = tweets_bak[~tweets_bak.id.isin(noise_tweets2.id)]\n",
    "tweets_bak.shape, noise_tweets2.shape"
   ]
  },
  {
   "cell_type": "code",
   "execution_count": 377,
   "metadata": {},
   "outputs": [
    {
     "data": {
      "text/plain": [
       "(4192, 10)"
      ]
     },
     "execution_count": 377,
     "metadata": {},
     "output_type": "execute_result"
    }
   ],
   "source": [
    "tweet_all = pd.concat([tweets_bak, noise_tweets,noise_tweets2], sort=False)\n",
    "tweet_all.shape"
   ]
  },
  {
   "cell_type": "code",
   "execution_count": 378,
   "metadata": {},
   "outputs": [],
   "source": [
    "tweet_all.to_csv(path, index=False)"
   ]
  },
  {
   "cell_type": "code",
   "execution_count": 379,
   "metadata": {},
   "outputs": [
    {
     "data": {
      "text/plain": [
       "array(['injured_or_dead_people', 'other_useful_information',\n",
       "       'sympathy_and_emotional_support',\n",
       "       'infrastructure_and_utilities_damage',\n",
       "       'donation_needs_or_offers_or_volunteering_services',\n",
       "       'caution_and_advice', 'displaced_people_and_evacuations',\n",
       "       'missing_trapped_or_found_people', 'not_related_or_irrelevant'],\n",
       "      dtype=object)"
      ]
     },
     "execution_count": 379,
     "metadata": {},
     "output_type": "execute_result"
    }
   ],
   "source": [
    "tweet_all.choose_one_category.unique()"
   ]
  },
  {
   "cell_type": "code",
   "execution_count": null,
   "metadata": {},
   "outputs": [],
   "source": []
  }
 ],
 "metadata": {
  "kernelspec": {
   "display_name": "Python 3",
   "language": "python",
   "name": "python3"
  },
  "language_info": {
   "codemirror_mode": {
    "name": "ipython",
    "version": 3
   },
   "file_extension": ".py",
   "mimetype": "text/x-python",
   "name": "python",
   "nbconvert_exporter": "python",
   "pygments_lexer": "ipython3",
   "version": "3.7.3"
  }
 },
 "nbformat": 4,
 "nbformat_minor": 2
}
