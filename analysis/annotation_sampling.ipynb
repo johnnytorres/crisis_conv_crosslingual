{
 "cells": [
  {
   "cell_type": "code",
   "execution_count": 2,
   "metadata": {},
   "outputs": [],
   "source": [
    "%matplotlib inline\n",
    "import matplotlib.pyplot as plt\n",
    "import pandas as pd\n",
    "from datetime import datetime\n",
    "import os"
   ]
  },
  {
   "cell_type": "code",
   "execution_count": 2,
   "metadata": {},
   "outputs": [
    {
     "name": "stdout",
     "output_type": "stream",
     "text": [
      "<class 'pandas.core.frame.DataFrame'>\n",
      "RangeIndex: 94776 entries, 0 to 94775\n",
      "Data columns (total 13 columns):\n",
      "id                       94776 non-null object\n",
      "screen_name              94776 non-null object\n",
      "latitude                 187 non-null float64\n",
      "longitude                187 non-null float64\n",
      "lang                     94776 non-null object\n",
      "in_reply_to_status_id    50747 non-null object\n",
      "text                     94776 non-null object\n",
      "timestamp                94765 non-null datetime64[ns]\n",
      "conversation_id          94776 non-null object\n",
      "conversation_deep        94776 non-null int64\n",
      "num_replies              94776 non-null int64\n",
      "num_users                94776 non-null int64\n",
      "url                      94776 non-null object\n",
      "dtypes: datetime64[ns](1), float64(2), int64(3), object(7)\n",
      "memory usage: 9.4+ MB\n"
     ]
    }
   ],
   "source": [
    "conv = pd.read_csv('../data/ecuador_earthquake_2016/es/conversations.csv', parse_dates=['timestamp'],dtype={'id':object, 'conversation_id':object,'in_reply_to_status_id':object})\n",
    "conv.info()"
   ]
  },
  {
   "cell_type": "markdown",
   "metadata": {},
   "source": [
    "## sample randomly for roots (original) tweets"
   ]
  },
  {
   "cell_type": "code",
   "execution_count": 4,
   "metadata": {},
   "outputs": [
    {
     "data": {
      "text/plain": [
       "(14851, 22)"
      ]
     },
     "execution_count": 4,
     "metadata": {},
     "output_type": "execute_result"
    }
   ],
   "source": [
    "conv = conv[(conv.num_replies>2) & (conv.num_replies<20)]\n",
    "conv.shape"
   ]
  },
  {
   "cell_type": "code",
   "execution_count": 5,
   "metadata": {},
   "outputs": [
    {
     "data": {
      "text/plain": [
       "(14674, 22)"
      ]
     },
     "execution_count": 5,
     "metadata": {},
     "output_type": "execute_result"
    }
   ],
   "source": [
    "conv = conv[conv.num_users>1]\n",
    "conv.shape"
   ]
  },
  {
   "cell_type": "code",
   "execution_count": 6,
   "metadata": {},
   "outputs": [],
   "source": [
    "conv['label'] = ''"
   ]
  },
  {
   "cell_type": "code",
   "execution_count": 8,
   "metadata": {},
   "outputs": [
    {
     "data": {
      "text/plain": [
       "(2393, 23)"
      ]
     },
     "execution_count": 8,
     "metadata": {},
     "output_type": "execute_result"
    }
   ],
   "source": [
    "roots = conv[conv.in_reply_to_status_id.isnull()].copy()\n",
    "roots.shape"
   ]
  },
  {
   "cell_type": "code",
   "execution_count": 9,
   "metadata": {},
   "outputs": [
    {
     "data": {
      "text/plain": [
       "(41, 23)"
      ]
     },
     "execution_count": 9,
     "metadata": {},
     "output_type": "execute_result"
    }
   ],
   "source": [
    "rows_filter=roots.text.str.contains('oraci')\n",
    "roots.loc[rows_filter, 'label'] = 'emotional'\n",
    "roots[rows_filter].shape"
   ]
  },
  {
   "cell_type": "code",
   "execution_count": 10,
   "metadata": {},
   "outputs": [
    {
     "data": {
      "text/plain": [
       "(41, 23)"
      ]
     },
     "execution_count": 10,
     "metadata": {},
     "output_type": "execute_result"
    }
   ],
   "source": [
    "roots[roots.label=='emotional'].shape"
   ]
  },
  {
   "cell_type": "code",
   "execution_count": 11,
   "metadata": {},
   "outputs": [
    {
     "data": {
      "text/plain": [
       "(6, 23)"
      ]
     },
     "execution_count": 11,
     "metadata": {},
     "output_type": "execute_result"
    }
   ],
   "source": [
    "rows_filter=roots.text.str.contains('ofre')\n",
    "roots.loc[rows_filter, 'label'] = 'offer'\n",
    "roots[rows_filter].shape"
   ]
  },
  {
   "cell_type": "code",
   "execution_count": 12,
   "metadata": {},
   "outputs": [
    {
     "data": {
      "text/plain": [
       "(164, 23)"
      ]
     },
     "execution_count": 12,
     "metadata": {},
     "output_type": "execute_result"
    }
   ],
   "source": [
    "rows_filter=roots.text.str.contains('muertos')\n",
    "roots.loc[rows_filter, 'label'] = 'affected'\n",
    "roots[rows_filter].shape"
   ]
  },
  {
   "cell_type": "code",
   "execution_count": 13,
   "metadata": {},
   "outputs": [
    {
     "data": {
      "text/plain": [
       "(48, 23)"
      ]
     },
     "execution_count": 13,
     "metadata": {},
     "output_type": "execute_result"
    }
   ],
   "source": [
    "rows_filter=roots.text.str.contains('daños')\n",
    "roots.loc[rows_filter, 'label'] = 'infrastructure'\n",
    "roots[rows_filter].shape"
   ]
  },
  {
   "cell_type": "code",
   "execution_count": 17,
   "metadata": {},
   "outputs": [
    {
     "data": {
      "text/plain": [
       "array(['Hermanos de Esmeraldas y Manabi necesitan ayuda agua, medicina, colchones, alimentos favor canalizar a través de Cruz Roja',\n",
       "       '#SismoEcuador Venezuela enviará a Ecuador un avión con ayuda tras terremoto https://t.co/mSscvNzcW0 Q puede enviar? https://t.co/nQPMNPaY4y',\n",
       "       'Mi mamá ya está en un refugio en Bahia. Mis tías perdieron sus casas como muchos más. Hay gente desaparecida y la ayuda urge. #pormanabi',\n",
       "       '#SismoEcuador se traslada hospital móvil a hacia Pedernales para asistir a damnificados y llama a voluntarios que quieran prestar ayuda',\n",
       "       'Ya me voy, buenas madrugadas, todo va a estar bien con la ayuda de Dios, ecuador:)',\n",
       "       '#Venezuela fue el primerito en enviar ayuda a #Ecuador comida y medicinas, vamos a necesitar un temblor para ver si nos dan las ayuda aquí',\n",
       "       '¿De donde sacaran la ayuda? De los galpones de comida que tiene acaparado el gobierno para comprar VOTOS.  https://t.co/ffx9DddzZJ',\n",
       "       'Aun no llegan ayuda a #Pedernales  Ya van mas de 5 horas. Donde estamos? #Ecuador #terremoto',\n",
       "       'No hay comida para nosotros y los pajuos estos quieren ayudar a los indios... https://t.co/f4MsjNXt8p',\n",
       "       '#AyudaEcuador #PrayForEcuador  @UnionEuropeaRD activa su protocolo d ayuda a las victimas #temblor #Ecuador #Ecuador https://t.co/kBDPk0VnZC'],\n",
       "      dtype=object)"
      ]
     },
     "execution_count": 17,
     "metadata": {},
     "output_type": "execute_result"
    }
   ],
   "source": [
    "rows_filter=roots.text.str.contains('ayuda')\n",
    "roots.loc[rows_filter, 'label'] = 'need'\n",
    "roots[rows_filter].sample(10,random_state=3).text.values"
   ]
  },
  {
   "cell_type": "code",
   "execution_count": null,
   "metadata": {},
   "outputs": [],
   "source": [
    "rows_filter=roots.text.str.contains('desapareci')\n",
    "roots.loc[rows_filter, 'label'] = 'missing'\n",
    "roots[rows_filter].shape"
   ]
  },
  {
   "cell_type": "code",
   "execution_count": null,
   "metadata": {},
   "outputs": [],
   "source": [
    "rows_filter=roots.text.str.contains('evacua')\n",
    "roots.loc[rows_filter, 'label'] = 'evacuation'\n",
    "roots[rows_filter].shape"
   ]
  },
  {
   "cell_type": "code",
   "execution_count": null,
   "metadata": {},
   "outputs": [],
   "source": [
    "rows_filter=roots.text.str.contains('precaucion')\n",
    "roots.loc[rows_filter, 'label'] = 'precaution'\n",
    "roots[rows_filter].shape"
   ]
  },
  {
   "cell_type": "code",
   "execution_count": null,
   "metadata": {},
   "outputs": [],
   "source": [
    "sample = roots[roots.label!='']\n",
    "sample.shape"
   ]
  },
  {
   "cell_type": "code",
   "execution_count": null,
   "metadata": {},
   "outputs": [],
   "source": [
    "others = roots[roots.label==''].sample(300, random_state=1)\n",
    "others.shape"
   ]
  },
  {
   "cell_type": "code",
   "execution_count": null,
   "metadata": {},
   "outputs": [],
   "source": [
    "sample = sample.append(others, ignore_index=True)\n",
    "sample.shape"
   ]
  },
  {
   "cell_type": "code",
   "execution_count": null,
   "metadata": {},
   "outputs": [],
   "source": [
    "#sample.to_csv('../data/ecuador_earthquake_2016/conversations_es_sampling_keywords.csv', index=False)"
   ]
  },
  {
   "cell_type": "markdown",
   "metadata": {},
   "source": [
    "# conversations"
   ]
  },
  {
   "cell_type": "code",
   "execution_count": 5,
   "metadata": {},
   "outputs": [
    {
     "data": {
      "text/plain": [
       "(94776, 22)"
      ]
     },
     "execution_count": 5,
     "metadata": {},
     "output_type": "execute_result"
    }
   ],
   "source": [
    "conv = pd.read_csv('../data/ecuador_earthquake_2016/es/conversations.csv', parse_dates=['timestamp'], dtype={'id':object, 'conversation_id':object,'in_reply_to_status_id':object})\n",
    "conv.shape"
   ]
  },
  {
   "cell_type": "code",
   "execution_count": 6,
   "metadata": {},
   "outputs": [
    {
     "data": {
      "text/plain": [
       "(2629, 60)"
      ]
     },
     "execution_count": 6,
     "metadata": {},
     "output_type": "execute_result"
    }
   ],
   "source": [
    "annotated = pd.read_csv('../data/ecuador_earthquake_2016/es/conversations_annotated.csv', parse_dates=['timestamp'], dtype={'id':object,'conversation_id':object, 'in_reply_to_status_id':object})\n",
    "annotated.shape"
   ]
  },
  {
   "cell_type": "code",
   "execution_count": 7,
   "metadata": {},
   "outputs": [
    {
     "data": {
      "text/plain": [
       "(14851, 22)"
      ]
     },
     "execution_count": 7,
     "metadata": {},
     "output_type": "execute_result"
    }
   ],
   "source": [
    "conv_ds = conv[(conv.num_replies>2) & (conv.num_replies<20)]\n",
    "conv_ds.shape"
   ]
  },
  {
   "cell_type": "code",
   "execution_count": 8,
   "metadata": {},
   "outputs": [
    {
     "data": {
      "text/plain": [
       "(14674, 22)"
      ]
     },
     "execution_count": 8,
     "metadata": {},
     "output_type": "execute_result"
    }
   ],
   "source": [
    "conv_ds = conv_ds[conv_ds.num_users>1]\n",
    "conv_ds.shape"
   ]
  },
  {
   "cell_type": "code",
   "execution_count": 9,
   "metadata": {},
   "outputs": [
    {
     "data": {
      "text/plain": [
       "(2872, 22)"
      ]
     },
     "execution_count": 9,
     "metadata": {},
     "output_type": "execute_result"
    }
   ],
   "source": [
    "conv_ds = conv_ds[conv_ds.conversation_id.isin(annotated.id)]\n",
    "conv_ds.shape"
   ]
  },
  {
   "cell_type": "code",
   "execution_count": null,
   "metadata": {},
   "outputs": [],
   "source": [
    "#conv_ds.to_csv('../data/ecuador_earthquake_2016/es/conversations_sample.csv', index=False)"
   ]
  },
  {
   "cell_type": "markdown",
   "metadata": {},
   "source": [
    "# dialogs "
   ]
  },
  {
   "cell_type": "code",
   "execution_count": 3,
   "metadata": {},
   "outputs": [],
   "source": [
    "def build_dialogs_sample(input_file, output_file, min_turns=5, max_turns=10):\n",
    "    dialogs = pd.read_csv(\n",
    "        input_file, parse_dates=['timestamp'],\n",
    "        dtype={'id':object, 'conversation_id':object,'in_reply_to_status_id':object})\n",
    "    print(dialogs.shape)\n",
    "    dfilter = dialogs[dialogs.in_reply_to_status_id.isnull()]\n",
    "    print(dfilter.shape)\n",
    "    dfilter = dfilter[(dfilter.timestamp >= datetime(2016,4,16)) & (dfilter.timestamp < datetime(2016,5,16))]\n",
    "    print(dfilter.shape)\n",
    "    dfilter = dfilter[(dfilter.turns>=min_turns) & (dfilter.turns<=max_turns)]\n",
    "    print(dfilter.shape)\n",
    "    dialogs2 = dialogs[dialogs.dialog_id.isin(dfilter.dialog_id)]\n",
    "    print(dialogs2.shape)\n",
    "    dialogs2.to_csv(output_file, index=False)"
   ]
  },
  {
   "cell_type": "code",
   "execution_count": 5,
   "metadata": {},
   "outputs": [
    {
     "name": "stdout",
     "output_type": "stream",
     "text": [
      "(11524, 15)\n",
      "(1415, 15)\n",
      "(1037, 15)\n",
      "(544, 15)\n",
      "(3839, 15)\n"
     ]
    }
   ],
   "source": [
    "build_dialogs_sample(\n",
    "    '../data/ecuador_earthquake_2016/es/dialogs.csv',\n",
    "    '../data/ecuador_earthquake_2016/es/dialogs_sample.csv',\n",
    "    min_turns=6,\n",
    "    max_turns=10\n",
    ")"
   ]
  },
  {
   "cell_type": "code",
   "execution_count": 9,
   "metadata": {},
   "outputs": [
    {
     "name": "stdout",
     "output_type": "stream",
     "text": [
      "(10870, 15)\n",
      "(1243, 15)\n",
      "(197, 15)\n",
      "(172, 15)\n",
      "(1159, 15)\n"
     ]
    }
   ],
   "source": [
    "build_dialogs_sample(\n",
    "    '../data/ecuador_earthquake_2016/en/dialogs.csv',\n",
    "    '../data/ecuador_earthquake_2016/en/dialogs_sample.csv',\n",
    "    min_turns=3,\n",
    "    max_turns=10\n",
    ")"
   ]
  },
  {
   "cell_type": "code",
   "execution_count": null,
   "metadata": {},
   "outputs": [],
   "source": []
  }
 ],
 "metadata": {
  "kernelspec": {
   "display_name": "Python 3",
   "language": "python",
   "name": "python3"
  },
  "language_info": {
   "codemirror_mode": {
    "name": "ipython",
    "version": 3
   },
   "file_extension": ".py",
   "mimetype": "text/x-python",
   "name": "python",
   "nbconvert_exporter": "python",
   "pygments_lexer": "ipython3",
   "version": "3.7.3"
  }
 },
 "nbformat": 4,
 "nbformat_minor": 2
}
