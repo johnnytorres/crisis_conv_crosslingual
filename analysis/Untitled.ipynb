{
 "cells": [
  {
   "cell_type": "code",
   "execution_count": 1,
   "metadata": {},
   "outputs": [],
   "source": [
    "import pandas as pd"
   ]
  },
  {
   "cell_type": "code",
   "execution_count": 131,
   "metadata": {},
   "outputs": [
    {
     "name": "stdout",
     "output_type": "stream",
     "text": [
      "<class 'pandas.core.frame.DataFrame'>\n",
      "RangeIndex: 4168 entries, 0 to 4167\n",
      "Data columns (total 10 columns):\n",
      "id                        4168 non-null object\n",
      "screen_name               4168 non-null object\n",
      "text                      4167 non-null object\n",
      "url                       4168 non-null object\n",
      "timestamp                 4167 non-null object\n",
      "choose_one_category       4168 non-null object\n",
      "crisis_related            4168 non-null object\n",
      "choose_one_category_a1    4168 non-null object\n",
      "choose_one_category_a2    4168 non-null object\n",
      "choose_one_category_a3    4168 non-null object\n",
      "dtypes: object(10)\n",
      "memory usage: 325.7+ KB\n"
     ]
    }
   ],
   "source": [
    "ds = pd.read_csv('../data/2016_ecuador_eq_es.csv', dtype={'id':object})\n",
    "ds.info()"
   ]
  },
  {
   "cell_type": "code",
   "execution_count": 132,
   "metadata": {},
   "outputs": [
    {
     "data": {
      "text/plain": [
       "(94776, 13)"
      ]
     },
     "execution_count": 132,
     "metadata": {},
     "output_type": "execute_result"
    }
   ],
   "source": [
    "conv = pd.read_csv('/Users/johnny/data/crisis/earthquakes/2016_ecuador/es/conversations.csv', dtype={'id':object})\n",
    "conv.shape"
   ]
  },
  {
   "cell_type": "code",
   "execution_count": 133,
   "metadata": {},
   "outputs": [
    {
     "data": {
      "text/plain": [
       "(4168, 22)"
      ]
     },
     "execution_count": 133,
     "metadata": {},
     "output_type": "execute_result"
    }
   ],
   "source": [
    "convds = conv.merge(ds, on='id')\n",
    "convds.shape"
   ]
  },
  {
   "cell_type": "code",
   "execution_count": 134,
   "metadata": {},
   "outputs": [
    {
     "data": {
      "text/plain": [
       "array(['not_related_or_irrelevant',\n",
       "       'donation_needs_or_offers_or_volunteering_services',\n",
       "       'sympathy_and_emotional_support', 'other_useful_information',\n",
       "       'injured_or_dead_people', 'infrastructure_and_utilities_damage',\n",
       "       'caution_and_advice', 'displaced_people_and_evacuations',\n",
       "       'missing_trapped_or_found_people'], dtype=object)"
      ]
     },
     "execution_count": 134,
     "metadata": {},
     "output_type": "execute_result"
    }
   ],
   "source": [
    "convds.choose_one_category.unique()"
   ]
  },
  {
   "cell_type": "code",
   "execution_count": 135,
   "metadata": {},
   "outputs": [],
   "source": [
    "summary = convds.groupby(['conversation_deep','choose_one_category']).agg({'id':'count'})\n",
    "summary.to_csv('../results/responses_summary_es.csv')\n"
   ]
  },
  {
   "cell_type": "code",
   "execution_count": 136,
   "metadata": {},
   "outputs": [
    {
     "data": {
      "text/plain": [
       "191"
      ]
     },
     "execution_count": 136,
     "metadata": {},
     "output_type": "execute_result"
    }
   ],
   "source": [
    "convds[convds.choose_one_category=='donation_needs_or_offers_or_volunteering_services'].conversation_id.nunique()"
   ]
  },
  {
   "cell_type": "code",
   "execution_count": 137,
   "metadata": {},
   "outputs": [
    {
     "data": {
      "text/plain": [
       "(59, 22)"
      ]
     },
     "execution_count": 137,
     "metadata": {},
     "output_type": "execute_result"
    }
   ],
   "source": [
    "sample=convds[convds.choose_one_category=='donation_needs_or_offers_or_volunteering_services']\n",
    "sample=sample[sample.conversation_deep>1]\n",
    "sample.shape"
   ]
  },
  {
   "cell_type": "code",
   "execution_count": 138,
   "metadata": {},
   "outputs": [
    {
     "data": {
      "text/plain": [
       "1001    721493594276786176\n",
       "Name: conversation_id, dtype: int64"
      ]
     },
     "execution_count": 138,
     "metadata": {},
     "output_type": "execute_result"
    }
   ],
   "source": [
    "conv_id=sample.conversation_id.sample(1, random_state=9)\n",
    "conv_id"
   ]
  },
  {
   "cell_type": "code",
   "execution_count": 139,
   "metadata": {},
   "outputs": [
    {
     "data": {
      "text/plain": [
       "array([['721504282101596160', 'FdoToaquizaV', nan, nan, 'es',\n",
       "        7.215031399045325e+17,\n",
       "        '@HectorFCalderon  @MovistarEC @ClaroEcua @CNT_EC claro q es desesperante, pero no depende d  telefonías del Ecuador pasa en todo el  mundo',\n",
       "        '2016-04-17 01:03:20', 721493594276786176, 6, 17, 6,\n",
       "        'https://www.twitter.com/FdoToaquizaV/status/721504282101596160',\n",
       "        'FdoToaquizaV',\n",
       "        '@HectorFCalderon  @MovistarEC @ClaroEcua @CNT_EC claro q es desesperante, pero no depende d  telefonías del Ecuador pasa en todo el  mundo',\n",
       "        'https://www.twitter.com/FdoToaquizaV/status/721504282101596160',\n",
       "        '2016-04-17 01:03:20', 'sympathy_and_emotional_support', 'yes',\n",
       "        'sympathy_and_emotional_support',\n",
       "        'sympathy_and_emotional_support',\n",
       "        'sympathy_and_emotional_support'],\n",
       "       ['721503139904532481', 'HectorFCalderon', nan, nan, 'es',\n",
       "        7.215027918947041e+17,\n",
       "        '.@FToaquizaEcuavi @CarlosPaezPerez @MovistarEC @ClaroEcua @CNT_EC cuando usted no puede hacer comunicarse con su familia, es una vergüenza',\n",
       "        '2016-04-17 00:58:48', 721493594276786176, 5, 17, 6,\n",
       "        'https://www.twitter.com/HectorFCalderon/status/721503139904532481',\n",
       "        'HectorFCalderon',\n",
       "        '.@FToaquizaEcuavi @CarlosPaezPerez @MovistarEC @ClaroEcua @CNT_EC cuando usted no puede hacer comunicarse con su familia, es una vergüenza',\n",
       "        'https://www.twitter.com/HectorFCalderon/status/721503139904532481',\n",
       "        '2016-04-17 00:58:48',\n",
       "        'donation_needs_or_offers_or_volunteering_services', 'yes',\n",
       "        'donation_needs_or_offers_or_volunteering_services',\n",
       "        'donation_needs_or_offers_or_volunteering_services',\n",
       "        'donation_needs_or_offers_or_volunteering_services'],\n",
       "       ['721502791894704128', 'FdoToaquizaV', nan, nan, 'es',\n",
       "        7.215003299137946e+17,\n",
       "        '@HectorFCalderon @CarlosPaezPerez @MovistarEC @ClaroEcua @CNT_EC pero creo q fue exagerado \"es una vergüenza la ....en el Ecuador\"',\n",
       "        '2016-04-17 00:57:25', 721493594276786176, 4, 17, 6,\n",
       "        'https://www.twitter.com/FdoToaquizaV/status/721502791894704128',\n",
       "        'FdoToaquizaV',\n",
       "        '@HectorFCalderon @CarlosPaezPerez @MovistarEC @ClaroEcua @CNT_EC pero creo q fue exagerado \"es una vergüenza la ....en el Ecuador\"',\n",
       "        'https://www.twitter.com/FdoToaquizaV/status/721502791894704128',\n",
       "        '2016-04-17 00:57:25', 'not_related_or_irrelevant', 'no',\n",
       "        'not_related_or_irrelevant', 'not_related_or_irrelevant',\n",
       "        'not_related_or_irrelevant'],\n",
       "       ['721500329913794560', 'HectorFCalderon', nan, nan, 'es',\n",
       "        7.214961652844913e+17,\n",
       "        '.@FToaquizaEcuavi @CarlosPaezPerez @MovistarEC @ClaroEcua @CNT_EC no es alarmar, más bien que esto sirva de alerta para que se tomen medidas',\n",
       "        '2016-04-17 00:47:38', 721493594276786176, 3, 17, 6,\n",
       "        'https://www.twitter.com/HectorFCalderon/status/721500329913794560',\n",
       "        'HectorFCalderon',\n",
       "        '.@FToaquizaEcuavi @CarlosPaezPerez @MovistarEC @ClaroEcua @CNT_EC no es alarmar, más bien que esto sirva de alerta para que se tomen medidas',\n",
       "        'https://www.twitter.com/HectorFCalderon/status/721500329913794560',\n",
       "        '2016-04-17 00:47:38',\n",
       "        'donation_needs_or_offers_or_volunteering_services', 'yes',\n",
       "        'infrastructure_and_utilities_damage',\n",
       "        'donation_needs_or_offers_or_volunteering_services',\n",
       "        'donation_needs_or_offers_or_volunteering_services'],\n",
       "       ['721496165284491264', 'FdoToaquizaV', nan, nan, 'es',\n",
       "        7.214935942767862e+17,\n",
       "        '@HectorFCalderon @CarlosPaezPerez @MovistarEC @ClaroEcua @CNT_EC en Ecuador o en cualquier país sucede lo mismo, no hay q alarmar...',\n",
       "        '2016-04-17 00:31:05', 721493594276786176, 2, 17, 6,\n",
       "        'https://www.twitter.com/FdoToaquizaV/status/721496165284491264',\n",
       "        'FdoToaquizaV',\n",
       "        '@HectorFCalderon @CarlosPaezPerez @MovistarEC @ClaroEcua @CNT_EC en Ecuador o en cualquier país sucede lo mismo, no hay q alarmar...',\n",
       "        'https://www.twitter.com/FdoToaquizaV/status/721496165284491264',\n",
       "        '2016-04-17 00:31:05', 'sympathy_and_emotional_support', 'yes',\n",
       "        'sympathy_and_emotional_support',\n",
       "        'sympathy_and_emotional_support',\n",
       "        'sympathy_and_emotional_support'],\n",
       "       ['721493594276786176', 'HectorFCalderon', nan, nan, 'es', nan,\n",
       "        '#Temblor es una vergüenza la telefonía celular en el #Ecuador. En una tragedia quesos incomunicados @MovistarEC @ClaroEcua @CNT_EC',\n",
       "        '2016-04-17 00:20:52', 721493594276786176, 1, 17, 6,\n",
       "        'https://www.twitter.com/HectorFCalderon/status/721493594276786176',\n",
       "        'HectorFCalderon',\n",
       "        '#Temblor es una vergüenza la telefonía celular en el #Ecuador. En una tragedia quesos incomunicados @MovistarEC @ClaroEcua @CNT_EC',\n",
       "        'https://www.twitter.com/HectorFCalderon/status/721493594276786176',\n",
       "        '2016-04-17 00:20:52', 'sympathy_and_emotional_support', 'yes',\n",
       "        'sympathy_and_emotional_support',\n",
       "        'sympathy_and_emotional_support',\n",
       "        'sympathy_and_emotional_support'],\n",
       "       ['721817881521078272', 'CNT_TeAyuda', nan, nan, 'es',\n",
       "        7.215083109319107e+17,\n",
       "        'Hola @HectorFCalderon puedes comunicarte por medio del servicio gratuito de SMS. @FToaquizaEcuavi @sanuio @CarlosPaezPerez',\n",
       "        '2016-04-17 21:49:28', 721493594276786176, 9, 17, 6,\n",
       "        'https://www.twitter.com/CNT_TeAyuda/status/721817881521078272',\n",
       "        'CNT_TeAyuda',\n",
       "        'Hola @HectorFCalderon puedes comunicarte por medio del servicio gratuito de SMS. @FToaquizaEcuavi @sanuio @CarlosPaezPerez',\n",
       "        'https://www.twitter.com/CNT_TeAyuda/status/721817881521078272',\n",
       "        '2016-04-17 21:49:28',\n",
       "        'donation_needs_or_offers_or_volunteering_services', 'yes',\n",
       "        'donation_needs_or_offers_or_volunteering_services',\n",
       "        'donation_needs_or_offers_or_volunteering_services',\n",
       "        'donation_needs_or_offers_or_volunteering_services'],\n",
       "       ['721508310931910656', 'HectorFCalderon', nan, nan, 'es',\n",
       "        7.215076457446277e+17,\n",
       "        '.@FToaquizaEcuavi @sanuio @CarlosPaezPerez @MovistarEC @ClaroEcua @CNT_EC claro eso es lo más importante, pero las comunicaciones igual',\n",
       "        '2016-04-17 01:19:20', 721493594276786176, 8, 17, 6,\n",
       "        'https://www.twitter.com/HectorFCalderon/status/721508310931910656',\n",
       "        'HectorFCalderon',\n",
       "        '.@FToaquizaEcuavi @sanuio @CarlosPaezPerez @MovistarEC @ClaroEcua @CNT_EC claro eso es lo más importante, pero las comunicaciones igual',\n",
       "        'https://www.twitter.com/HectorFCalderon/status/721508310931910656',\n",
       "        '2016-04-17 01:19:20',\n",
       "        'donation_needs_or_offers_or_volunteering_services', 'yes',\n",
       "        'donation_needs_or_offers_or_volunteering_services',\n",
       "        'donation_needs_or_offers_or_volunteering_services',\n",
       "        'donation_needs_or_offers_or_volunteering_services'],\n",
       "       ['721507645744627713', 'FdoToaquizaV', nan, nan, 'es',\n",
       "        7.215065154341437e+17,\n",
       "        '@sanuio @HectorFCalderon @CarlosPaezPerez @MovistarEC @ClaroEcua @CNT_EC lo importante es q no haya víctimas, ya hay luz y teléfonos, q bien',\n",
       "        '2016-04-17 01:16:42', 721493594276786176, 7, 17, 6,\n",
       "        'https://www.twitter.com/FdoToaquizaV/status/721507645744627713',\n",
       "        'FdoToaquizaV',\n",
       "        '@sanuio @HectorFCalderon @CarlosPaezPerez @MovistarEC @ClaroEcua @CNT_EC lo importante es q no haya víctimas, ya hay luz y teléfonos, q bien',\n",
       "        'https://www.twitter.com/FdoToaquizaV/status/721507645744627713',\n",
       "        '2016-04-17 01:16:42', 'other_useful_information', 'yes',\n",
       "        'other_useful_information', 'other_useful_information',\n",
       "        'other_useful_information'],\n",
       "       ['721506515434143744', 'sanuio', nan, nan, 'es',\n",
       "        7.215031399045325e+17,\n",
       "        '@HectorFCalderon @FToaquizaEcuavi @CarlosPaezPerez @MovistarEC @ClaroEcua @CNT_EC que bueno que tuvo tiempo de criticar',\n",
       "        '2016-04-17 01:12:12', 721493594276786176, 6, 17, 6,\n",
       "        'https://www.twitter.com/sanuio/status/721506515434143744',\n",
       "        'sanuio',\n",
       "        '@HectorFCalderon @FToaquizaEcuavi @CarlosPaezPerez @MovistarEC @ClaroEcua @CNT_EC que bueno que tuvo tiempo de criticar',\n",
       "        'https://www.twitter.com/sanuio/status/721506515434143744',\n",
       "        '2016-04-17 01:12:12', 'not_related_or_irrelevant', 'no',\n",
       "        'not_related_or_irrelevant', 'not_related_or_irrelevant',\n",
       "        'not_related_or_irrelevant'],\n",
       "       ['721818017819181056', 'CNT_TeAyuda', nan, nan, 'es',\n",
       "        7.215076457446277e+17,\n",
       "        'Hola @FToaquizaEcuavi si necesitas comunicarte, puedes enviar SMS gratuitos por nuestro servicio @sanuio @HectorFCalderon @CarlosPaezPerez',\n",
       "        '2016-04-17 21:50:00', 721493594276786176, 8, 17, 6,\n",
       "        'https://www.twitter.com/CNT_TeAyuda/status/721818017819181056',\n",
       "        'CNT_TeAyuda',\n",
       "        'Hola @FToaquizaEcuavi si necesitas comunicarte, puedes enviar SMS gratuitos por nuestro servicio @sanuio @HectorFCalderon @CarlosPaezPerez',\n",
       "        'https://www.twitter.com/CNT_TeAyuda/status/721818017819181056',\n",
       "        '2016-04-17 21:50:00',\n",
       "        'donation_needs_or_offers_or_volunteering_services', 'yes',\n",
       "        'donation_needs_or_offers_or_volunteering_services',\n",
       "        'donation_needs_or_offers_or_volunteering_services',\n",
       "        'donation_needs_or_offers_or_volunteering_services'],\n",
       "       ['721818908731289600', 'CNT_TeAyuda', nan, nan, 'es',\n",
       "        7.215031399045325e+17,\n",
       "        'Hola @FToaquizaEcuavi recuerda que puedes comunicarte por medio del servicio de SMS gratuito. @HectorFCalderon @CarlosPaezPerez',\n",
       "        '2016-04-17 21:53:33', 721493594276786176, 6, 17, 6,\n",
       "        'https://www.twitter.com/CNT_TeAyuda/status/721818908731289600',\n",
       "        'CNT_TeAyuda',\n",
       "        'Hola @FToaquizaEcuavi recuerda que puedes comunicarte por medio del servicio de SMS gratuito. @HectorFCalderon @CarlosPaezPerez',\n",
       "        'https://www.twitter.com/CNT_TeAyuda/status/721818908731289600',\n",
       "        '2016-04-17 21:53:33',\n",
       "        'donation_needs_or_offers_or_volunteering_services', 'yes',\n",
       "        'donation_needs_or_offers_or_volunteering_services',\n",
       "        'donation_needs_or_offers_or_volunteering_services',\n",
       "        'donation_needs_or_offers_or_volunteering_services']],\n",
       "      dtype=object)"
      ]
     },
     "execution_count": 139,
     "metadata": {},
     "output_type": "execute_result"
    }
   ],
   "source": [
    "convds[convds.conversation_id.isin(conv_id)].values"
   ]
  },
  {
   "cell_type": "code",
   "execution_count": 140,
   "metadata": {},
   "outputs": [
    {
     "data": {
      "text/plain": [
       "'Linternas, termos de agua, enlatados, una parada de ropa y dinero en un bolso #Ecuador precauciones ante posibles réplicas... #terremoto Acabo de firmar decreto de excepción y movilización nacional.  País en emergencia. Hoy más unidos que nunca. Hemos activado líneas de... @GisseGarzonM 👍 tenes razón. @diego_ziko critiquemos cuando no se atienda a la gente ahora no es momento de eso eso momento de unirnos como país! @mmoreiracedeno chuta :$ la ayuda aun no les llega? No tienen ayuda aún, me confirma @jorgesarchez periodista de #Pedernales que la ayuda aún no llega, están aislados @KAZUSAMA10. @superjimmy27 @MashiRafael @cambercito habían pasado 20 minutos y ningún cabal se manifestó, eso deja de ser \"flash informativo\" @jennif_Montes @MashiRafael @cambercito primero lo primero..ningun canal en 20 minutos pueden hacer eso ..pongase a pensar montar un equipo @superjimmy27 @MashiRafael @cambercito no es de montar un equipo, sino coger he informar que hay esto y pasa lo otro y hacer lo de acá @FernandoEhlers1 se nota que no sabes el trabajo detrás de la noticia, por Dios críticas con   conocimiento!! Pdte Correa desde Roma:El decreto d excepción significa q hay fondos y líneas dcrédito x 600millones dólares,1hospital móvil va a Pedernales Casi 80 muertos tras un fuerte terremoto en la provincia de Manabí, en el noroeste de Ecuador. Avisen como se ayuda! https://t.co/ewSsC9Kesj Canoa necesita ayuda! Por favor @ECU911_ @PoliciaEcuador @JorgeGlas #prayforecuador #canoa #manabi #ecuador Venezuela enviará a Ecuador un avión con ayuda tras terremoto https://t.co/HSakQC2H1j #Venezuela #Ecuador https://t.co/nzLLEnc2QB @El_RotativoOfic @FUNVISIS 1ro no grites (escribir en mayúscula) y 2do al único q me le arrodillo es a Dios! Ah ! Y 3ro. Chiaves ta\\'podrío!😝 @A_libre @FUNVISIS Y ESPEREN QUE EL PUEBLO SE ARRECHE. VAN PEDIR DE RODOILLAS PERDON A CHAVEZ POR TANTA MALDAD CASI VAN QUERER QUE RESUSITE @BorisMantilla confirmemos. Si corresponde habrá momento para recriminaciones, por muy desgraciados que fueron/serán hoy división no ayuda @daddyraki la indignación es enorme, pero tienes razón. Gob. de #Venezuela enviará a #Ecuador un avión con ayuda humanitaria https://t.co/j3gA8hUYeD #SismoEcuador https://t.co/NRdldz6Sbc @teleSURtv yo estoy en venezuela la gente se muere de hambre ilusos @teleSURtv la gente no tiene agua ni comida en Venezuela como quiere ayudar Maduro sinverguenza Un avión de Venezuela fue el primero en llegar con ayuda humanitaria a Ecuador https://t.co/1WhAQElzsa @Ginoalvarado @CiudadanoAzul @juanvizuetaronq @ecu911sambo Pues no se desplomó o si (?) comentario \"algo\" politizado @CiudadanoAzul @RickManRock74 @juanvizuetaronq @ecu911sambo todo ecuatoriano deberia RECLAMAR Y EXIGIR que un establecimiento asi resista. @Ginoalvarado @RickManRock74 @juanvizuetaronq @ecu911sambo todo lo q tiene q ver con seguridad, hospitales db ser construido para q no falle @RickManRock74 @juanvizuetaronq @ecu911sambo Un establecimiento de TREMENDA MAGNITUD! debería FACILMENTE pasar por un temblor asi. Por qué nos ocultan que ni siquiera las instalaciones del @ecu911sambo sirvieron para algo en esta tragedia. https://t.co/ugd9GTwsMo @Ginoalvarado @CiudadanoAzul @juanvizuetaronq @ecu911sambo Mijo, éste Sr Vizueta quiere sacar provecho y pide un absurdo POR DIOS @arq_pi @CiudadanoAzul @RickManRock74 @juanvizuetaronq @ecu911sambo y esta bien asi debe ser! @CiudadanoAzul @Ginoalvarado @RickManRock74 @juanvizuetaronq @ecu911sambo costaron 80 millones los hospitales deben ser bunkers @CarlosPalacio68 @NicolasMaduro comparaciones completamente sin sentido a la final siempre es el pueblo quien padece las consecuencias @sofiapisani @CarlosPalacio68 @NicolasMaduro así justifica las pérdidas y los muertos, o sea, hay desastres buenos y desastres malos? La gente muere por falta de medicinas, a la gente la matan por un mercado, y usted tan cara dura .@NicolasMaduro  (1) @NicolasMaduro porque no activas apoyo aqui en venezuela que no hay comida y medicinas pon a producir el pais @Joselvaldivieso @GustavoTheShow Me disculpan q me meta y estoy de acuerdo q ayude, pero q también vea q los Venezolanos necesitamos ayuda.. #EcuadorListoYSolidario, conoce puntos de donaciones a nivel nacional: https://t.co/5TcDT9RDAe #SismoEcuador https://t.co/1gjyfYdPlN @fmzavala Por favor indíquenos dirección exacta y número de contacto para atender su novedad. @JorgeGlas parroquia Membrillal del Canton Jipijapa continua sin energía electríca... Su ayuda @CNEL_EP @fmzavala Se informa novedad al área técnica para atender a la brevedad posible. @JorgeGlas AYUDEN A BAHIA Y CANOA  Y ESTA TOTALMENTE DESTRUIDO @CNEL_EP estimados seguimos sin energia electrica en Membrillal... su ayuda Dejan morir niños sin alimentos ni medicinas en Venezuela y los chavistas criminales enviando \"ayudas\" a Ecuador https://t.co/40KFRds9A0 Avión venezolano es el primero en llegar a Ecuador con ayuda humanitaria https://t.co/p4F1uMAZOf En este momento despegamos rumbo a Manta a analizar la situación en Manabí y coordinar ayuda en territorio. @chv777 @LizziCarpio17 no es lo mismo volar de día que de noche. Por favor no politicemos esta tragedia Para vigilar las protestas contra Correa sí tienen helicópteros, buses, camiones....para llegar a Pedernales...ni bicicleta.. Primera ayuda humanitaria en llegar a Ecuador fue la de Venezuela. https://t.co/Dx4FiJSNMs Si desean apoyar a los hermanos de pedernales, les copio la dirección donde estaremos recibiendo colaboración. https://t.co/IHsHqqRah5 Un avión de Venezuela es el primero en llegar con ayuda humanitaria a Ecuador https://t.co/odrReqL20u https://t.co/ULwmGxZyE9 Rafael Correa pide \"equipos de rescate\" tras el terremoto en Ecuador https://t.co/QNE03jQl4A .@FToaquizaEcuavi @CarlosPaezPerez @MovistarEC @ClaroEcua @CNT_EC cuando usted no puede hacer comunicarse con su familia, es una vergüenza .@FToaquizaEcuavi @CarlosPaezPerez @MovistarEC @ClaroEcua @CNT_EC no es alarmar, más bien que esto sirva de alerta para que se tomen medidas Hola @HectorFCalderon puedes comunicarte por medio del servicio gratuito de SMS. @FToaquizaEcuavi @sanuio @CarlosPaezPerez .@FToaquizaEcuavi @sanuio @CarlosPaezPerez @MovistarEC @ClaroEcua @CNT_EC claro eso es lo más importante, pero las comunicaciones igual Hola @FToaquizaEcuavi si necesitas comunicarte, puedes enviar SMS gratuitos por nuestro servicio @sanuio @HectorFCalderon @CarlosPaezPerez Hola @FToaquizaEcuavi recuerda que puedes comunicarte por medio del servicio de SMS gratuito. @HectorFCalderon @CarlosPaezPerez Chile solidariza con Ecuador por fuerte terremoto ha cobrado víctimas. Ya en contacto con nuestra embajada. Disponibles para enviar ayuda. #17A Terremoto Ecuador Entre alaos países que ofrecen ayuda esta VeneZuela  https://t.co/ejuGga6IjD Avión venezolano es el primero en llegar a Ecuador con ayuda humanitaria https://t.co/p4F1uMAZOf https://t.co/UTMaQFx6Sv DIFUNDA ECUADOR se solicita ayuda para localizar familia de\\xa0señor lesionado tras el terremoto. Hospital Less https://t.co/RLiXQlpjOy Amigos que puedan apoyar en el mapeo de zonas afectadas por terremoto: Estamos organizando todo para hacerlo de la mejor manera. @emy_lagby @eluniversocom sí, para las telelloronas son campeones pero para una emergencia mo sirven para nada. @eluniversocom Hasta Telesur y CNN ya informaron del temblor en Ecuador y ningún canal Nacional ha reportado nada. @emy_lagby @planetaverde66 @eluniversocom gracias mi whatsapp  por si algún día quiere algo de Panamá es 00507.67029427 @NiiikkiOff @Ollanta_HumalaT GARCIA se ROBO ayuda de terremoto en  pisco @AmparoEspichan @Ollanta_HumalaT lee bien, comprensión lectora. Hablo de Ollanta QUE YA VA A TERMINAR SU GOBIERNO Y CONTINUE EL PREVIO TWEET Esta amiga necesita de su ayuda muchachos !! Por favor RT y tratemos de ayudar a encontrar esta chica https://t.co/XzD1ZIIg3u Ya va a amanecer en Ecuador y ahí se va a ver la magnitud de los daños y comenzarán adecuadamente las operaciones de rescate. #3pmShyris mañana recolectamos ayuda para enviar a afectados agua, linternas, insumos médicos, alimentos, mantas, colchonetas #temblor RT Desde Pedernales y Canoa en Manabi, sus habitantes piden ayuda. Al parecer se ha priorizado la atención en Portoviejo y Manta. @oscarmunozloor estoy conversando con mi hija, le dije lo valiente q fue por ayudar a salir de Village, mi hijo un crack al ayudar a la nona La devastación es enorme. Todos a ayudar a los hermanos de la Costa. Sitios donde dejar donaciones.  #QuitoSolidario https://t.co/AvLtmlne7H Por favor ayuda, Isabella Barcia no aparece informe desde Canoa #bahiadecaraquez x este medio o al 096 782 2287 https://t.co/QPV2HlY8WH via @golPEAando: ¿PUEDEN CREERLO? Venezuela es el primer país en llegar con ayuda humanitaria a Ecuador  https://t.co/0nBi50GE6T #Caracas Aeropuerto de Manta operativo con equipo de emergencia, recibe en pocos minutos avión con ayuda humanitaria desde Venezuela #SismoEcuador #InterVTV | Comienza a llegar ayuda a afectados por terremoto que dejó 77 muertos en Ecuador https://t.co/JuaUIR6853 https://t.co/ZxyRgOWT8n Gob. de #Venezuela enviará a #Ecuador un avión con ayuda humanitaria https://t.co/j3gA8hUYeD #SismoEcuador https://t.co/B3LLcF6MWo #TerremotoEcuador El Gobierno de Ecuador ha solicitado ayuda a las Naciones Unidas. https://t.co/W5MHTIEu86 @ivi_munoz @txushh @BOMBEROSGIRECAN han pasado muchas horas y no se ha activado movilizacion. #SismoEcuador se traslada hospital móvil a hacia Pedernales para asistir a damnificados y llama a voluntarios que quieran prestar ayuda #SismoEcuador Venezuela enviará a Ecuador un avión con ayuda tras terremoto https://t.co/mSscvNzcW0 Q puede enviar? https://t.co/nQPMNPaY4y Venezuela enviará a Ecuador un avión con ayuda tras terremoto https://t.co/DfMYOm8S7n #Temblor @posinfoc Claro las FFAA no harán nada, siguen francos, esperando a q llegue el \"comandante en jefe\" @posinfoc Y donde está el ministro de defensa? que pasa q aun no articula a FFAA? Ecuador: Google permite localizar personas tras terremoto: Tras el terremoto en Ecuador que dejó, hasta el mom... https://t.co/DBD67XntX4 . @JorgeGlas: USD 300 millones activados para brindar asistencia a las víctimas y para atender los daños luego del #temblor #Ecuador moviliza a 4600 policías y 10000 elementos de las fuerzas armadas para labores de rescate https://t.co/TYikoPn6Rq #PrayForEcuador un terremoto no ve clases política ni sociales y hace pobres y pidiendo ayuda a todos #PrayForEcuador @PatoBullrich URG ayuda!!!! Mi hermano está con 200 personas en un refugio y están muriendo sin asistencia!!! a dónde llamo?! #Ecuador #SOS @teresaburbano @Morita_ec @silvitabuendia @danielsais Medio mundo esta usando redes sociales como medio de comunicacion, y no tienen la ley @danielsais @teresaburbano @Morita_ec @silvitabuendia Lo mismo se decía del telefono celular. @gmejiamantilla @teresaburbano @Morita_ec @silvitabuendia Eso está bien pero la mayoría del pueblo no tiene redes. @gmejiamantilla @teresaburbano @Morita_ec @silvitabuendia Ya. Todo bien. La charla se esta desviando. Saludos @u_sur_s gracias se algo por la congregación!  Desde luego por la embajada mi hermana no existe!  Esa es la vergüenza! @alfonsomp4 en fin, una desorganización . Ánimo Alfonso para tu familia y abrazos Aun no llegan ayuda a #Pedernales  Ya van mas de 5 horas. Donde estamos? #Ecuador #terremoto Venezuela enviará a Ecuador un avión con ayuda tras terremoto https://t.co/jnFK8diAaN https://t.co/3kWVwYVFuL Ningún canal informa Inscríbete y ayuda en Brigadas de trabajo voluntario del #TerremotoEcuador #TemblorEcuador #temblor  https://t.co/MNx6wNuasU EN VIVO: Sigue minuto a minuto nuestra cobertura del terremoto en Ecuador. Así puedes ayudar: https://t.co/Vb1uU2csna #terremotoecuador via @maciasjaime: Qué rapidez! : Avión Venezolano llegó a #Ecuador con ayuda humanitaria #Internacional  https://t.co/NDtE1jjyNW  #Caracas Venezuela enviará a Ecuador un avión con ayuda tras terremoto https://t.co/1ICrM3cvfs El MIES recibe donaciones para los afectados por el terremoto : https://t.co/a0czDxeGpX (El Comercio - elcomerciocom) Vicepresidente Ecuador viaja a zona cero del terremoto para coordinar ayuda https://t.co/PUKCycAq28 By: @NoticiasVenezue No juzgo a la gente que robó durante el terremoto, pero hay que ser bien hp para saquear comida mientras damnificados no tienen ni techo. @LiliaMisnovelas @ahorapodemos Por que se preocupan tanto de los inmigrantes,por eso les estafan con falsas ayudas..https://t.co/9vWJpojEyn Avión venezolano es el primero en llegar a Ecuador con ayuda humanitaria https://t.co/KYJDLUPtl6 https://t.co/lEcVOY83t9 LO ULTIMO: Rescatistas viajan a Ecuador tras terremoto: AP A continuación, las últimas noticias sobre el terre... https://t.co/XiynWFvYkJ #AyudaEcuador #PrayForEcuador  @UnionEuropeaRD activa su protocolo d ayuda a las victimas #temblor #Ecuador #Ecuador https://t.co/kBDPk0VnZC los que critican el artículo,al menos leyeron? pésimo headline btw - El terremoto cuarteó la comunicación correísta https://t.co/wczbq56P3m @AndresVS no veo lo único de juzgar sólo un lado entonces. @lajuliperversa yo veo mal el publicarlo en este momento, la crítica será igual de válida después, cuando estemos menos emocionales. 📢 El Gobierno regional se ha ofrecido para atender a las familias que tengan familiares afectados en Ecuador #EcuadorEarthquake 🇪🇨 @ElectricaQuito sin energía eléctrica en turubamba bajo más de 2 horas. Favor su ayuda. Suministro. 1780097-3 @busdanpecar ¿y este ataque? No considere que decir que la tierra se puede \"cansar\" de nosotros te resultara tan ofensivo. Amigos de #Ecuador estamos con ustedes!! , comunidad hispana en USA listos para ayudar!! #EcuadorEarthquake Ayudemos a nuestros hermanos en estos momentos difíciles #temblor  #terremoto  donar en .@CPCCS  a nivel nacional. https://t.co/8RAj1EuZ8k #Ecuador terremoto informe de daños bomberos y rescate trabajan en el lugar donde cayo puente https://t.co/Ym5SiVAmR7 Maduro ofrece alimentos y medicinas para terremoto de Ecuador. ¿Y aquí? \"Claridad en la calle, oscuridad en la casa\" @avalanchaster @PopayanCO No es moda, es una herramienta que facebook activa. Cada quien en facebook hace lo que quiere y punto. Un avión de Venezuela es el primero en llegar con ayuda humanitaria a Ecuador https://t.co/KEGAxVhOGz vía @UNoticias Venezuela enviará a Ecuador un avión con ayuda tras terremoto https://t.co/rZzwhUY72u // DE DÓNDE IRÁ A SACAR LA COMIDA Y MEDICINAS? Avión de Venezuela con ayuda humanitaria aterrizó hoy en Manta,Ecuador, cerca zona más afectada por el terremoto y es la 1ra ayuda en llegar Si necesitan difusión por favor avisarme por interno para poder ayudarlos !! #ecuador #mipais #terremoto Papa Francisco pidió ayuda para víctimas de terremoto en Ecuador https://t.co/k43yfIg27V https://t.co/vPncxKaAp7 Alcalde de Guayaquil informa sobre traslado de médicos a Manabí. #SismoEcuador  https://t.co/9fR6VhZTh8 Terrible. Alguna ong ya con programa de ayuda via sms? @CruzRojaEsp @cruzrojaecuador @OxfamIntermon gracias!!  https://t.co/vx6cyeFnNy Todos hablan de ayudar a guayaquil tras el terremoto, pero quien piensa en ayudar las víctimas de la Friendzone,somos miles de damnificados Hay mas de 80 réplicas desde el terremoto, la gente en manabi pide ayuda a gritos y los medios de TV bien gracias!! Donde chucha estamos Papa Francisco pidió ayuda para víctimas de terremoto en Ecuador https://t.co/OIVHEdIzf9 Facebook activa Security Check luego del terremoto en Ecuador https://t.co/KpgsYkC3cn #socialmedia 230 militares han sido desplazados a #Pedernales para brindar apoyo en la emergencia. #Terremoto #Ecuador https://t.co/QRzmiBPLPa Facebook activa Security Check luego del terremoto en Ecuador: Anoche\\xa0en la zona costera de Ecuador, cerca de ... https://t.co/sNMFp9gqmS ECUADOR TERREMOTO - Rafael Correa pide \"equipos de rescate\" tras el terremoto en Ecuador:  https://t.co/d5K9BKQazy #qferanews @AbrahamMateoMus Buenos Dias ὠA #PrayofEcuador ὤF  el terremoto fue de 7.8 hay 77 muertos y 500 heridos solo Te pido que ores x nosotros ὤFὤF El Vicepresidente viaja a Manta para coordinar la atención a víctimas de terremoto https://t.co/6gEFpZFLc9 vía @ElCiudadano_EC @cjwong2 mosca con las réplicas. Aqui se lee q quitaron el warning de tsunami Necesitamos cartones para organizar las donaciones. ¡Gracias por toda su ayuda! #pormanabi La religión no va a detener un terremoto ni aminorar las pérdidas. Tu ayuda hace la diferencia, no tus plegarias en la seguridad de tu casa. #ParqueSamanes mantendrá sus puertas abiertas como zona segura ante réplicas #SismoEcuador https://t.co/lI0lanAMet RT @GeeksRoom: Facebook activa Security Check luego del terremoto en Ecuador https://t.co/eS6DGgWTye Vicepresidente Ecuador viaja a zona cero del terremoto para coordinar ayuda https://t.co/yVZYyHNqBv Venezuela enviará a Ecuador un avión con ayuda tras terremoto https://t.co/oxI9XRuMcX https://t.co/8tKXEWfHcZ Un terremoto de grandes proporciones en Ecuador. Nuestra solidaridad con los hermanos y veamos cómo desde acá en algo se pueda ayudar. Imágenes recientes de #Bahia después del terremoto, la ayuda sigue sin llegar @CarlosVerareal @ESTEFANIESPIN https://t.co/jgUrhQewAk Venezuela el primer país en enviar alimentos y medicinas tras terremoto en Ecuador - https://t.co/3cuXBwmsua https://t.co/QhEGIDUgBB Comida y medicinas? \"@CaraotaDigital: Vnzla el primer país en enviar alimentos y medicinas tras terremoto enEcuador https://t.co/DpaP0fb4YS Rafael Correa pide \"equipos de rescate\" tras el terremoto en Ecuador: Ecuador no necesita alimentos tras el te... https://t.co/1c4SvnwOfE Venezuela envía a Ecuador ayuda humanitaria tras terremoto https://t.co/tgsw8ZNjk8 Habiliten donaciones en tarjeta de credito para ayuda externa @InclusionEc @CancilleriaEc #EcuadorListoYSolidario https://t.co/Igr6Nm6IUR La voluntad solidaria entre hermanos nos moviliza a zona costera de Ecuador luego del terremoto q sacudió esa región https://t.co/Y2Bq0WXkJ1 Avión venezolano es el I ero en llegar con ayuda humanitaria para los hermanos del #Ecuador tras terrible terremoto. https://t.co/87w0w83Koz #DT: Vicepresidente Ecuador viaja a zona cero del terremoto para coordinar ayuda https://t.co/nY1rWMHkry APSSAT informa en sus 4 chat sobre terremoto en Ecuador https://t.co/kFNGYLOTyT Nuestros equipos de rescate listos para ayudar a en la zonas afectadas en la provincia de Esmeraldas @MunicipioQuito https://t.co/UMukK1upqY Por favor ayuda también para Calceta esta son imágenes de este desbastador terremoto que azotó a Manabí y al Ecuador https://t.co/SJLEDjG9PC @2010MisterChip el dia de ayer hubo un terremoto devastador en Ecuador. Ayudanos con el mensaje. Necesitamos la ayuda de todos. Saludos Papa Francisco pidió ayuda para víctimas de terremoto en Ecuador https://t.co/HcUW1wZ1P2 https://t.co/ubRwShxpm9 Hermanos de Esmeraldas y Manabi necesitan ayuda agua, medicina, colchones, alimentos favor canalizar a través de Cruz Roja LO ULTIMO: Rescatistas viajan a Ecuador tras terremoto: AP A continuación, las últimas noticias sobre el terre... https://t.co/bHhS9WkTNv Se organizan colectas para damnificados de terremoto en Ecuador https://t.co/sFt4OvIsCl vía @eluniversocom Porque los medios de comunicación nacional no están transmitiendo sobre el terremoto Venezuela enviará a Ecuador un avión con ayuda tras terremoto https://t.co/vGEOSFDMS7 https://t.co/ptuMs1BPBr Elviss NotaaFacil Ecuador moviliza sus efectivos para socorrer a víctimas del terremoto: QUITO. El vicepreside... https://t.co/rHqadrd3AE TUNGURAHUA  inicia recolección para ayudar a los sitios en desgracia  por el Terremoto. Nuestros corresponsales en #Ecuador, @CSalas_teleSUR y @Lucho_teleSUR, ofrecen todos los detalles tras el #Temblor https://t.co/wTImTUkAvW Facebook activa Security Check luego del terremoto en Ecuador: Anoche\\xa0en la zona costera de... https://t.co/33hfOPGTxP #movil #tecnologia El terremoto de Ecuador nos debe llamar a reflección de SI ESTAMOS PREPARADOS?, y nuestro fin UNIRNOS COMO UNA SOLA  INSTITUCION Avión venezolano llega a Ecuador con ayuda tras sismo de\\xa07,8 https://t.co/BRpDwWSTnP https://t.co/S4em1LbUv6 #17A Venezuela enviará a Ecuador un avión con ayuda tras terremoto https://t.co/ANZGk7JGpE - vía @teleSURtv Hombres y mujeres de @PoliciaMetroQ se dirigen hacia Pedernales y Canoa en misión solidaria de ayuda. #SismoEcuador  https://t.co/yjQif3Bikm 3 hospitales móviles se están desplazando a las zonas más afectadas en Esmeraldas, por el terremoto de Ecuador. #Mundo | Avión venezolano llegó a #Ecuador cargado con ayuda humanitaria tras terremoto - https://t.co/2ljxXcN6h2 https://t.co/n4O43gQy7g Su ayuda difundiendo info para canalizar al #EcuadorSolidario @InclusionEc https://t.co/KBdianRN0D Google para encontrar personas #terremotoecuador https://t.co/dKpEojP8XK Movistar está activando los SMS por el terremoto como ayuda de comunicación. https://t.co/KA0pvjCmE1 No hay luz y tal vez este sea el último tuit que escriba. Envíen ayuda a la provincia. No estamos preparados para esto. Necesitamos de todos Calle 8 y Av 21 ellas están atrapadas en #Manta #ecuador #terremoto por favor ayudar https://t.co/lyeOTv60lY #AHORA Avión con 27 rescatistas viajan desde Venezuela a Ecuador para atender a las víctimas del terremoto que ha dejado 233 fallecidos #Pedernales  #AyudaPedernales socorro y ayuda está llegando  #Ecuador #Temblor https://t.co/fCptQMHRHW Papa Francisco pidió ayuda para víctimas de terremoto en Ecuador - https://t.co/Ch5IuGKWK4 https://t.co/pTJMrkdUbM Obvio sé que estás bien y no te pasó nada en el terremoto de Ecuador porque vives en Supía, Caldas, no tienes qué dar visaje en Facebook. Rafael Correo decretó estado de excepción enseguida tras el terremoto en Ecuador. 10mil militares en la calle.... https://t.co/Agg0xadnvy Facebook activa Security Check luego del terremoto en Ecuador: Anoche\\xa0en la zona costera de ... https://t.co/DpAAlQ5wHa (vía @GeeksRoom) Rafael Correa pide \"equipos de rescate\" tras el terremoto en Ecuador: Ecuador no necesita alimentos tras el te... https://t.co/HRrHwRh1Kn #RT Venezuela enviará a Ecuador un avión con ayuda tras terremoto https://t.co/EWOr30pRDe #Noticias https://t.co/05Hdt3pXR0 Muchos queremos ayudar, por favor informen permanentemente cómo y dónde se puede aportar @cruzrojaecuador  #Terremoto #Ecuador #temblor cantaguarico913: #InterVTV | Comienza a llegar ayuda a afectados por terremoto que dejó 77 muertos en Ecuador … https://t.co/VJ2tYOVptN (#ClanGutah) Ecuador moviliza sus efectivos para socorrer a víctimas del terremoto: QUITO. El vic... https://t.co/QOB4bsdsay (#ClanGutah) #TerremotoEcuador  se necesita ayuda de urgencia en canoa pór favor #terremoto Rafael Correa pide \"equipos de rescate\" tras el terremoto en Ecuador https://t.co/K8HMQfvDqI El Papa llama a dar \"fuerza y apoyo\" a los afectados por terremoto en Ecuador https://t.co/gJJTHejLld Ecuador: Google permite localizar personas tras terremoto: Tras el terremoto en Ecuador que dejó, hasta el mom... https://t.co/o0xBOupeAZ #SismoEcuador| Despliegan a 14 mil efectivos de la Fuerza Pública de #Ecuador tras terremoto … https://t.co/fu6kf5ZEn1 Los equipos de rescate siguen buscando supervivientes del terremoto de Japón https://t.co/vn2XYjSzpq Vicepresidente Ecuador viaja a zona cero del terremoto para coordinar ayuda https://t.co/L9Dxl5dluj #Noticia: Venezuela enviará a Ecuador ayuda humanitaria tras terremoto https://t.co/ppSFn8DuVF Vicepresidente de Ecuador viaja a zona más afectada por terremoto https://t.co/hqZZXcKxsp Papa pide “fuerza y apoyo” para afectados por terremoto en Ecuador https://t.co/sc2TscTzEW @JorgeGlas estimado vice presidente en Chone se necesita ayuda ya que al igual que las demás ciudad se encuentra devastada Si usted desea entregar su ayuda para damnificados por temblor puede acudir a @AzuayPrefectura | CSM https://t.co/AgqZFvUvQN Google y Facebook en alerta por terremoto e... https://t.co/Vnkn4q0WAe via @wellingpaz | https://t.co/LMC9CXmlfJ https://t.co/o97RBoSZJm Facebook activó Security Check por terremoto en Ecuador https://t.co/7rxxbLiHRy Rafael Correa pide \"equipos de rescate\" tras el terremoto en Ecuador: Ecuador no necesita alimentos tras el te... https://t.co/szNxeIWw5d En Ecuador implantaron un plan de entrega de kit de alimentos a los afectados del terremoto...  nosotros estamos casi igual o peor q Ecuador Facebook activó Security Check por terremoto en Ecuador https://t.co/CiEPvZbSa8 #SiguemeYTeSigo #PPLI: Comienza a llegar ayuda a afectados por terremoto que dejó 77 muertos en Ecuador https://t.co/r8qYYy5NXB @sol651 En Vzla no hubo terremoto pero estamos en CRISIS HUMANITARIA (por robolucionarios). Necesitamos comida, medicinas, agua. SOS. Acción inmediata para atender a afectados del terremoto https://t.co/WASZMNwQ9w $600 millones para la emergencia por terremoto. https://t.co/yNUwLrWX8M Donaciones en Guayaquil #terremoto #ecuador https://t.co/PBP2ehGd8e Si no fuera por CNN o internet..en Ecuador no estaríamos ni enterados que hubo un terremoto en nuestro propio país Por favor xq no llega la ayuda a.Manabi @ecu911sambo  https://t.co/I5GWcOY7KJ RT #TROPA Venezuela enviará a Ecuador un avión con ayuda tras terremoto https://t.co/GO2KN3h6oR https://t.co/rjek7EtFNk Ecuador: Google permite localizar personas tras terremoto: Tras el terremoto en Ecuador que dejó, hasta el mom... https://t.co/x11nFRxbQA Alcalde @MauricioRodasEC ha dispuesto el envío inmediato de 120 miembros de @BomberosQuito a Manabí para socorrer a afectados de terremoto Facebook activa Security Check luego del terremoto en Ecuador https://t.co/4hKgY1khuK https://t.co/ijhyp9fmin Las autoriades de #Ecuador anuncian 300 millones de dólares para ayudas tras el terremoto. Estado de excepción en el país. Ecuador moviliza sus efectivos para socorrer a víctimas del terremoto: QUITO. El vicepresidente de Ecuador, Jo... https://t.co/u3bfUouM5f #SismoEcuador| Despliegan a 14 mil efectivos de la Fuerza Pública de #Ecuador tras terremoto … https://t.co/o5Bm4bHTI5 #NicolasMaduro #Arc… \"@ElNacionalWeb: Papa Francisco pidió ayuda para víctimas de terremoto en Ecuador https://t.co/3sClv2NhUu\" #Último #EvoMorales ofrece ayuda y apoyo a #Ecuador tras terremoto \"si hay que ayudar, aquí estamos hermano\"  @MishaelRafael. Personal de las #FFAA ya se traslada a las provincias donde se ha sufrido el daño producto del terremoto en el país https://t.co/3ZBKWzKxFX \\'Podemos brindando el apoyo a Ecuador tras el terrible y nefasto terremoto acontecido\". https://t.co/eJJ3IWOjbX Gente en Guayaquil, mañana saldremos a #Manabi llevando ayuda. Si pueden apoyar con donaciones acá la info: https://t.co/zVLbkftcVk CARAJO como puede ser posible q después del terremoto no logren llegar a Pedernales. Q los militares sirvan d algo q lleguen x helicóptero @traffiCARACAS y quien nos ayuda para levantarnos de éste terremoto de 16 años de rovolucion que ha destruido a venezuela Catorce mil miembros de la Fuerza Pública de Ecuador movilizados para atender emergencia tras terremoto https://t.co/Y2MPvVyfW8 El hashtag #YoSoyEcuatoriano hagamoslo alos que ayudamos a los afectados al terremoto #Noti_Momento Vicepresidente Ecuador viaja a zona cero del terremoto para coordinar ayuda https://t.co/0LjYdyulS1 https://t.co/66Zhjc4Atz Ecuador: Google permite localizar personas tras terremoto: Tras el terremoto en Ecuador que dejó, hasta el mom... https://t.co/ft0RX6Xo8E Nuestra solidaridad con el país de Ecuador que ha sufrido un fuerte terremoto. Urge la Ayuda Humanitaria para paliar cuanto antes los daños. Rafael Correa pide \"equipos de rescate\" tras el terremoto en Ecuador https://t.co/ClvHqEdp54 Rafael Correa decretó estado de excepción por terremoto en Ecuador https://t.co/57vaD6jEG4'"
      ]
     },
     "execution_count": 140,
     "metadata": {},
     "output_type": "execute_result"
    }
   ],
   "source": [
    "convds[convds.choose_one_category=='donation_needs_or_offers_or_volunteering_services'].text_x.str.cat(sep=' ')\n"
   ]
  },
  {
   "cell_type": "code",
   "execution_count": null,
   "metadata": {},
   "outputs": [],
   "source": []
  }
 ],
 "metadata": {
  "kernelspec": {
   "display_name": "Python 3",
   "language": "python",
   "name": "python3"
  },
  "language_info": {
   "codemirror_mode": {
    "name": "ipython",
    "version": 3
   },
   "file_extension": ".py",
   "mimetype": "text/x-python",
   "name": "python",
   "nbconvert_exporter": "python",
   "pygments_lexer": "ipython3",
   "version": "3.7.3"
  }
 },
 "nbformat": 4,
 "nbformat_minor": 2
}
