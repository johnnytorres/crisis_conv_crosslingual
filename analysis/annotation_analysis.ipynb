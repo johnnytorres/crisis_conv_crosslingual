{
 "cells": [
  {
   "cell_type": "code",
   "execution_count": 15,
   "metadata": {},
   "outputs": [],
   "source": [
    "%matplotlib inline\n",
    "import matplotlib.pyplot as plt\n",
    "import pandas as pd\n",
    "import numpy as np\n",
    "import preprocessor as p\n",
    "import os"
   ]
  },
  {
   "cell_type": "code",
   "execution_count": 16,
   "metadata": {},
   "outputs": [],
   "source": [
    "data_dir = '/Users/johnny/data/crisis/ecuador_earthquake_2016/'"
   ]
  },
  {
   "cell_type": "markdown",
   "metadata": {},
   "source": [
    "## spanish"
   ]
  },
  {
   "cell_type": "code",
   "execution_count": 32,
   "metadata": {
    "scrolled": false
   },
   "outputs": [
    {
     "name": "stdout",
     "output_type": "stream",
     "text": [
      "<class 'pandas.core.frame.DataFrame'>\n",
      "RangeIndex: 4168 entries, 0 to 4167\n",
      "Data columns (total 10 columns):\n",
      "id                        4168 non-null object\n",
      "screen_name               4168 non-null object\n",
      "text                      4167 non-null object\n",
      "url                       4168 non-null object\n",
      "timestamp                 4167 non-null object\n",
      "choose_one_category       4168 non-null object\n",
      "crisis_related            4168 non-null object\n",
      "choose_one_category_a1    4168 non-null object\n",
      "choose_one_category_a2    4168 non-null object\n",
      "choose_one_category_a3    4168 non-null object\n",
      "dtypes: object(10)\n",
      "memory usage: 325.7+ KB\n"
     ]
    }
   ],
   "source": [
    "path = os.path.join(data_dir,'2016_ecuador_eq_es.csv')\n",
    "ds = pd.read_csv(path,dtype={'id':object})\n",
    "ds.info()"
   ]
  },
  {
   "cell_type": "code",
   "execution_count": 33,
   "metadata": {},
   "outputs": [],
   "source": [
    "def calculate_agreement(ds):\n",
    "    np.random.seed(123)\n",
    "    ds['choose_one_category_pe1'] = np.random.randint(0, ds.choose_one_category.nunique(), (ds.shape[0], ))\n",
    "    ds['choose_one_category_pe2'] = np.random.randint(0, ds.choose_one_category.nunique(), (ds.shape[0], ))\n",
    "    ds['agreement'] = ds['choose_one_category_a1'] == ds['choose_one_category_a2']\n",
    "    ds['rnd_agreement'] = ds['choose_one_category_pe1'] == ds['choose_one_category_pe2']\n",
    "    stats=ds.groupby('choose_one_category').agg({'agreement':'sum','rnd_agreement':'sum', 'id': 'count'}).reset_index()\n",
    "    stats['po'] = stats['agreement'] / stats['id']\n",
    "    stats['pe'] = stats['rnd_agreement'] / stats['id']\n",
    "    stats['k'] = (stats['po']-stats['pe'])  / (1 - stats['pe'])\n",
    "    return stats"
   ]
  },
  {
   "cell_type": "code",
   "execution_count": 34,
   "metadata": {},
   "outputs": [
    {
     "data": {
      "text/html": [
       "<div>\n",
       "<style scoped>\n",
       "    .dataframe tbody tr th:only-of-type {\n",
       "        vertical-align: middle;\n",
       "    }\n",
       "\n",
       "    .dataframe tbody tr th {\n",
       "        vertical-align: top;\n",
       "    }\n",
       "\n",
       "    .dataframe thead th {\n",
       "        text-align: right;\n",
       "    }\n",
       "</style>\n",
       "<table border=\"1\" class=\"dataframe\">\n",
       "  <thead>\n",
       "    <tr style=\"text-align: right;\">\n",
       "      <th></th>\n",
       "      <th>choose_one_category</th>\n",
       "      <th>agreement</th>\n",
       "      <th>rnd_agreement</th>\n",
       "      <th>id</th>\n",
       "      <th>po</th>\n",
       "      <th>pe</th>\n",
       "      <th>k</th>\n",
       "    </tr>\n",
       "  </thead>\n",
       "  <tbody>\n",
       "    <tr>\n",
       "      <th>0</th>\n",
       "      <td>caution_and_advice</td>\n",
       "      <td>47.0</td>\n",
       "      <td>5.0</td>\n",
       "      <td>61</td>\n",
       "      <td>0.770492</td>\n",
       "      <td>0.081967</td>\n",
       "      <td>0.750000</td>\n",
       "    </tr>\n",
       "    <tr>\n",
       "      <th>1</th>\n",
       "      <td>displaced_people_and_evacuations</td>\n",
       "      <td>6.0</td>\n",
       "      <td>1.0</td>\n",
       "      <td>12</td>\n",
       "      <td>0.500000</td>\n",
       "      <td>0.083333</td>\n",
       "      <td>0.454545</td>\n",
       "    </tr>\n",
       "    <tr>\n",
       "      <th>2</th>\n",
       "      <td>donation_needs_or_offers_or_volunteering_services</td>\n",
       "      <td>156.0</td>\n",
       "      <td>25.0</td>\n",
       "      <td>234</td>\n",
       "      <td>0.666667</td>\n",
       "      <td>0.106838</td>\n",
       "      <td>0.626794</td>\n",
       "    </tr>\n",
       "    <tr>\n",
       "      <th>3</th>\n",
       "      <td>infrastructure_and_utilities_damage</td>\n",
       "      <td>100.0</td>\n",
       "      <td>11.0</td>\n",
       "      <td>157</td>\n",
       "      <td>0.636943</td>\n",
       "      <td>0.070064</td>\n",
       "      <td>0.609589</td>\n",
       "    </tr>\n",
       "    <tr>\n",
       "      <th>4</th>\n",
       "      <td>injured_or_dead_people</td>\n",
       "      <td>433.0</td>\n",
       "      <td>74.0</td>\n",
       "      <td>624</td>\n",
       "      <td>0.693910</td>\n",
       "      <td>0.118590</td>\n",
       "      <td>0.652727</td>\n",
       "    </tr>\n",
       "    <tr>\n",
       "      <th>5</th>\n",
       "      <td>missing_trapped_or_found_people</td>\n",
       "      <td>23.0</td>\n",
       "      <td>8.0</td>\n",
       "      <td>30</td>\n",
       "      <td>0.766667</td>\n",
       "      <td>0.266667</td>\n",
       "      <td>0.681818</td>\n",
       "    </tr>\n",
       "    <tr>\n",
       "      <th>6</th>\n",
       "      <td>not_related_or_irrelevant</td>\n",
       "      <td>1281.0</td>\n",
       "      <td>207.0</td>\n",
       "      <td>1846</td>\n",
       "      <td>0.693933</td>\n",
       "      <td>0.112134</td>\n",
       "      <td>0.655278</td>\n",
       "    </tr>\n",
       "    <tr>\n",
       "      <th>7</th>\n",
       "      <td>other_useful_information</td>\n",
       "      <td>521.0</td>\n",
       "      <td>75.0</td>\n",
       "      <td>753</td>\n",
       "      <td>0.691899</td>\n",
       "      <td>0.099602</td>\n",
       "      <td>0.657817</td>\n",
       "    </tr>\n",
       "    <tr>\n",
       "      <th>8</th>\n",
       "      <td>sympathy_and_emotional_support</td>\n",
       "      <td>301.0</td>\n",
       "      <td>45.0</td>\n",
       "      <td>451</td>\n",
       "      <td>0.667406</td>\n",
       "      <td>0.099778</td>\n",
       "      <td>0.630542</td>\n",
       "    </tr>\n",
       "  </tbody>\n",
       "</table>\n",
       "</div>"
      ],
      "text/plain": [
       "                                 choose_one_category  agreement  \\\n",
       "0                                 caution_and_advice       47.0   \n",
       "1                   displaced_people_and_evacuations        6.0   \n",
       "2  donation_needs_or_offers_or_volunteering_services      156.0   \n",
       "3                infrastructure_and_utilities_damage      100.0   \n",
       "4                             injured_or_dead_people      433.0   \n",
       "5                    missing_trapped_or_found_people       23.0   \n",
       "6                          not_related_or_irrelevant     1281.0   \n",
       "7                           other_useful_information      521.0   \n",
       "8                     sympathy_and_emotional_support      301.0   \n",
       "\n",
       "   rnd_agreement    id        po        pe         k  \n",
       "0            5.0    61  0.770492  0.081967  0.750000  \n",
       "1            1.0    12  0.500000  0.083333  0.454545  \n",
       "2           25.0   234  0.666667  0.106838  0.626794  \n",
       "3           11.0   157  0.636943  0.070064  0.609589  \n",
       "4           74.0   624  0.693910  0.118590  0.652727  \n",
       "5            8.0    30  0.766667  0.266667  0.681818  \n",
       "6          207.0  1846  0.693933  0.112134  0.655278  \n",
       "7           75.0   753  0.691899  0.099602  0.657817  \n",
       "8           45.0   451  0.667406  0.099778  0.630542  "
      ]
     },
     "execution_count": 34,
     "metadata": {},
     "output_type": "execute_result"
    }
   ],
   "source": [
    "stats=calculate_agreement(ds)"
   ]
  },
  {
   "cell_type": "code",
   "execution_count": 29,
   "metadata": {},
   "outputs": [],
   "source": [
    "stats.to_csv('../results/agreeement_stats_es.csv', index=False)"
   ]
  },
  {
   "cell_type": "markdown",
   "metadata": {},
   "source": [
    "## english\n"
   ]
  },
  {
   "cell_type": "code",
   "execution_count": 47,
   "metadata": {},
   "outputs": [
    {
     "name": "stdout",
     "output_type": "stream",
     "text": [
      "<class 'pandas.core.frame.DataFrame'>\n",
      "RangeIndex: 4192 entries, 0 to 4191\n",
      "Data columns (total 10 columns):\n",
      "id                        4192 non-null object\n",
      "screen_name               4192 non-null object\n",
      "text                      4191 non-null object\n",
      "url                       4192 non-null object\n",
      "timestamp                 4192 non-null object\n",
      "choose_one_category       4192 non-null object\n",
      "crisis_related            4192 non-null object\n",
      "choose_one_category_a1    4192 non-null object\n",
      "choose_one_category_a2    4192 non-null object\n",
      "choose_one_category_a3    4192 non-null object\n",
      "dtypes: object(10)\n",
      "memory usage: 327.6+ KB\n"
     ]
    }
   ],
   "source": [
    "path = os.path.join(data_dir,'2016_ecuador_eq_en.csv')\n",
    "ds = pd.read_csv(path,dtype={'id':object})\n",
    "ds.info()"
   ]
  },
  {
   "cell_type": "code",
   "execution_count": 48,
   "metadata": {},
   "outputs": [
    {
     "data": {
      "text/html": [
       "<div>\n",
       "<style scoped>\n",
       "    .dataframe tbody tr th:only-of-type {\n",
       "        vertical-align: middle;\n",
       "    }\n",
       "\n",
       "    .dataframe tbody tr th {\n",
       "        vertical-align: top;\n",
       "    }\n",
       "\n",
       "    .dataframe thead th {\n",
       "        text-align: right;\n",
       "    }\n",
       "</style>\n",
       "<table border=\"1\" class=\"dataframe\">\n",
       "  <thead>\n",
       "    <tr style=\"text-align: right;\">\n",
       "      <th></th>\n",
       "      <th>choose_one_category</th>\n",
       "      <th>agreement</th>\n",
       "      <th>rnd_agreement</th>\n",
       "      <th>id</th>\n",
       "      <th>po</th>\n",
       "      <th>pe</th>\n",
       "      <th>k</th>\n",
       "    </tr>\n",
       "  </thead>\n",
       "  <tbody>\n",
       "    <tr>\n",
       "      <th>0</th>\n",
       "      <td>caution_and_advice</td>\n",
       "      <td>25.0</td>\n",
       "      <td>7.0</td>\n",
       "      <td>39</td>\n",
       "      <td>0.641026</td>\n",
       "      <td>0.179487</td>\n",
       "      <td>0.562500</td>\n",
       "    </tr>\n",
       "    <tr>\n",
       "      <th>1</th>\n",
       "      <td>displaced_people_and_evacuations</td>\n",
       "      <td>4.0</td>\n",
       "      <td>0.0</td>\n",
       "      <td>7</td>\n",
       "      <td>0.571429</td>\n",
       "      <td>0.000000</td>\n",
       "      <td>0.571429</td>\n",
       "    </tr>\n",
       "    <tr>\n",
       "      <th>2</th>\n",
       "      <td>donation_needs_or_offers_or_volunteering_services</td>\n",
       "      <td>133.0</td>\n",
       "      <td>25.0</td>\n",
       "      <td>207</td>\n",
       "      <td>0.642512</td>\n",
       "      <td>0.120773</td>\n",
       "      <td>0.593407</td>\n",
       "    </tr>\n",
       "    <tr>\n",
       "      <th>3</th>\n",
       "      <td>infrastructure_and_utilities_damage</td>\n",
       "      <td>55.0</td>\n",
       "      <td>8.0</td>\n",
       "      <td>73</td>\n",
       "      <td>0.753425</td>\n",
       "      <td>0.109589</td>\n",
       "      <td>0.723077</td>\n",
       "    </tr>\n",
       "    <tr>\n",
       "      <th>4</th>\n",
       "      <td>injured_or_dead_people</td>\n",
       "      <td>742.0</td>\n",
       "      <td>134.0</td>\n",
       "      <td>1165</td>\n",
       "      <td>0.636910</td>\n",
       "      <td>0.115021</td>\n",
       "      <td>0.589719</td>\n",
       "    </tr>\n",
       "    <tr>\n",
       "      <th>5</th>\n",
       "      <td>missing_trapped_or_found_people</td>\n",
       "      <td>3.0</td>\n",
       "      <td>0.0</td>\n",
       "      <td>4</td>\n",
       "      <td>0.750000</td>\n",
       "      <td>0.000000</td>\n",
       "      <td>0.750000</td>\n",
       "    </tr>\n",
       "    <tr>\n",
       "      <th>6</th>\n",
       "      <td>not_related_or_irrelevant</td>\n",
       "      <td>1277.0</td>\n",
       "      <td>221.0</td>\n",
       "      <td>1946</td>\n",
       "      <td>0.656218</td>\n",
       "      <td>0.113566</td>\n",
       "      <td>0.612174</td>\n",
       "    </tr>\n",
       "    <tr>\n",
       "      <th>7</th>\n",
       "      <td>other_useful_information</td>\n",
       "      <td>250.0</td>\n",
       "      <td>55.0</td>\n",
       "      <td>426</td>\n",
       "      <td>0.586854</td>\n",
       "      <td>0.129108</td>\n",
       "      <td>0.525606</td>\n",
       "    </tr>\n",
       "    <tr>\n",
       "      <th>8</th>\n",
       "      <td>sympathy_and_emotional_support</td>\n",
       "      <td>203.0</td>\n",
       "      <td>31.0</td>\n",
       "      <td>325</td>\n",
       "      <td>0.624615</td>\n",
       "      <td>0.095385</td>\n",
       "      <td>0.585034</td>\n",
       "    </tr>\n",
       "  </tbody>\n",
       "</table>\n",
       "</div>"
      ],
      "text/plain": [
       "                                 choose_one_category  agreement  \\\n",
       "0                                 caution_and_advice       25.0   \n",
       "1                   displaced_people_and_evacuations        4.0   \n",
       "2  donation_needs_or_offers_or_volunteering_services      133.0   \n",
       "3                infrastructure_and_utilities_damage       55.0   \n",
       "4                             injured_or_dead_people      742.0   \n",
       "5                    missing_trapped_or_found_people        3.0   \n",
       "6                          not_related_or_irrelevant     1277.0   \n",
       "7                           other_useful_information      250.0   \n",
       "8                     sympathy_and_emotional_support      203.0   \n",
       "\n",
       "   rnd_agreement    id        po        pe         k  \n",
       "0            7.0    39  0.641026  0.179487  0.562500  \n",
       "1            0.0     7  0.571429  0.000000  0.571429  \n",
       "2           25.0   207  0.642512  0.120773  0.593407  \n",
       "3            8.0    73  0.753425  0.109589  0.723077  \n",
       "4          134.0  1165  0.636910  0.115021  0.589719  \n",
       "5            0.0     4  0.750000  0.000000  0.750000  \n",
       "6          221.0  1946  0.656218  0.113566  0.612174  \n",
       "7           55.0   426  0.586854  0.129108  0.525606  \n",
       "8           31.0   325  0.624615  0.095385  0.585034  "
      ]
     },
     "execution_count": 48,
     "metadata": {},
     "output_type": "execute_result"
    }
   ],
   "source": [
    "stats=calculate_agreement(ds)\n",
    "stats"
   ]
  },
  {
   "cell_type": "code",
   "execution_count": 49,
   "metadata": {},
   "outputs": [
    {
     "data": {
      "text/plain": [
       "4192"
      ]
     },
     "execution_count": 49,
     "metadata": {},
     "output_type": "execute_result"
    }
   ],
   "source": [
    "stats.id.sum()\n"
   ]
  },
  {
   "cell_type": "code",
   "execution_count": 50,
   "metadata": {},
   "outputs": [],
   "source": [
    "stats.to_csv('../results/agreeement_stats_en.csv', index=False)"
   ]
  },
  {
   "cell_type": "code",
   "execution_count": null,
   "metadata": {},
   "outputs": [],
   "source": []
  }
 ],
 "metadata": {
  "kernelspec": {
   "display_name": "Python 3",
   "language": "python",
   "name": "python3"
  },
  "language_info": {
   "codemirror_mode": {
    "name": "ipython",
    "version": 3
   },
   "file_extension": ".py",
   "mimetype": "text/x-python",
   "name": "python",
   "nbconvert_exporter": "python",
   "pygments_lexer": "ipython3",
   "version": "3.7.3"
  }
 },
 "nbformat": 4,
 "nbformat_minor": 2
}
