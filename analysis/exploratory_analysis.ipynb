{
 "cells": [
  {
   "cell_type": "code",
   "execution_count": 64,
   "metadata": {},
   "outputs": [],
   "source": [
    "%matplotlib inline\n",
    "import matplotlib.pyplot as plt\n",
    "import pandas as pd\n",
    "import numpy as np\n",
    "import seaborn as sns\n",
    "import csv\n",
    "import os"
   ]
  },
  {
   "cell_type": "code",
   "execution_count": 3,
   "metadata": {},
   "outputs": [],
   "source": [
    "data_dir='/Users/johnny/data/crisis/ecuador_earthquake_2016/'"
   ]
  },
  {
   "cell_type": "code",
   "execution_count": 42,
   "metadata": {},
   "outputs": [
    {
     "data": {
      "text/plain": [
       "(152269, 44)"
      ]
     },
     "execution_count": 42,
     "metadata": {},
     "output_type": "execute_result"
    }
   ],
   "source": [
    "path = os.path.join(data_dir, 'tweets.csv')\n",
    "ds = pd.read_csv(path)\n",
    "ds.shape"
   ]
  },
  {
   "cell_type": "markdown",
   "metadata": {},
   "source": [
    "## how many tweets by language"
   ]
  },
  {
   "cell_type": "code",
   "execution_count": 5,
   "metadata": {},
   "outputs": [
    {
     "data": {
      "text/plain": [
       "lang\n",
       "es     93405\n",
       "en     38533\n",
       "und     9705\n",
       "pt      3577\n",
       "it      2124\n",
       "dtype: int64"
      ]
     },
     "execution_count": 5,
     "metadata": {},
     "output_type": "execute_result"
    }
   ],
   "source": [
    "ds.groupby('lang').size().sort_values(ascending=False).head()"
   ]
  },
  {
   "cell_type": "markdown",
   "metadata": {},
   "source": [
    "## how many users by language"
   ]
  },
  {
   "cell_type": "code",
   "execution_count": 11,
   "metadata": {},
   "outputs": [
    {
     "data": {
      "text/html": [
       "<div>\n",
       "<style scoped>\n",
       "    .dataframe tbody tr th:only-of-type {\n",
       "        vertical-align: middle;\n",
       "    }\n",
       "\n",
       "    .dataframe tbody tr th {\n",
       "        vertical-align: top;\n",
       "    }\n",
       "\n",
       "    .dataframe thead th {\n",
       "        text-align: right;\n",
       "    }\n",
       "</style>\n",
       "<table border=\"1\" class=\"dataframe\">\n",
       "  <thead>\n",
       "    <tr style=\"text-align: right;\">\n",
       "      <th></th>\n",
       "      <th>screen_name</th>\n",
       "    </tr>\n",
       "    <tr>\n",
       "      <th>lang</th>\n",
       "      <th></th>\n",
       "    </tr>\n",
       "  </thead>\n",
       "  <tbody>\n",
       "    <tr>\n",
       "      <th>es</th>\n",
       "      <td>50758</td>\n",
       "    </tr>\n",
       "    <tr>\n",
       "      <th>en</th>\n",
       "      <td>25880</td>\n",
       "    </tr>\n",
       "    <tr>\n",
       "      <th>und</th>\n",
       "      <td>7172</td>\n",
       "    </tr>\n",
       "    <tr>\n",
       "      <th>pt</th>\n",
       "      <td>2687</td>\n",
       "    </tr>\n",
       "    <tr>\n",
       "      <th>it</th>\n",
       "      <td>1172</td>\n",
       "    </tr>\n",
       "  </tbody>\n",
       "</table>\n",
       "</div>"
      ],
      "text/plain": [
       "      screen_name\n",
       "lang             \n",
       "es          50758\n",
       "en          25880\n",
       "und          7172\n",
       "pt           2687\n",
       "it           1172"
      ]
     },
     "execution_count": 11,
     "metadata": {},
     "output_type": "execute_result"
    }
   ],
   "source": [
    "ds.groupby(['lang']).agg({'screen_name': 'nunique'}).sort_values(by='screen_name', ascending=False).head()"
   ]
  },
  {
   "cell_type": "code",
   "execution_count": 12,
   "metadata": {},
   "outputs": [
    {
     "data": {
      "text/plain": [
       "87025"
      ]
     },
     "execution_count": 12,
     "metadata": {},
     "output_type": "execute_result"
    }
   ],
   "source": [
    "ds.screen_name.nunique()"
   ]
  },
  {
   "cell_type": "markdown",
   "metadata": {},
   "source": [
    "## conversations stats"
   ]
  },
  {
   "cell_type": "code",
   "execution_count": 48,
   "metadata": {},
   "outputs": [
    {
     "name": "stdout",
     "output_type": "stream",
     "text": [
      "num conversations:4632\n",
      "num tweets:55379\n",
      "average replies: 11.955742659758204\n",
      "median replies: 3.0\n",
      "average users: 8.342832469775475\n",
      "median users: 2.0\n"
     ]
    }
   ],
   "source": [
    "path = os.path.join(data_dir, 'es', 'conversations.csv')\n",
    "conv = pd.read_csv(path, parse_dates=['timestamp'])\n",
    "conv = conv[conv.num_replies>1]\n",
    "conv_roots = conv[conv.in_reply_to_status_id.isnull()]\n",
    "conv_roots_es=conv_roots\n",
    "print(f'num conversations:{conv_roots.shape[0]}' )\n",
    "print(f'num tweets:{conv[conv.conversation_id.isin(conv_roots.conversation_id)].shape[0]}' )\n",
    "print(f'average replies: {conv_roots.num_replies.mean()}')\n",
    "print(f'median replies: {conv_roots.num_replies.median()}')\n",
    "print(f'average users: {conv_roots.num_users.mean()}')\n",
    "print(f'median users: {conv_roots.num_users.median()}')"
   ]
  },
  {
   "cell_type": "code",
   "execution_count": 49,
   "metadata": {
    "scrolled": true
   },
   "outputs": [
    {
     "name": "stdout",
     "output_type": "stream",
     "text": [
      "num conversations:1092\n",
      "num tweets:19081\n",
      "average replies: 17.473443223443223\n",
      "median replies: 3.0\n",
      "average users: 13.652014652014651\n",
      "median users: 2.0\n"
     ]
    }
   ],
   "source": [
    "path = os.path.join(data_dir, 'en', 'conversations.csv')\n",
    "conv = pd.read_csv(path, parse_dates=['timestamp'])\n",
    "conv = conv[conv.num_replies>1]\n",
    "conv_roots = conv[conv.in_reply_to_status_id.isnull()]\n",
    "conv_roots_en=conv_roots\n",
    "print(f'num conversations:{conv_roots.shape[0]}' )\n",
    "print(f'num tweets:{conv[conv.conversation_id.isin(conv_roots.conversation_id)].shape[0]}' )\n",
    "print(f'average replies: {conv_roots.num_replies.mean()}')\n",
    "print(f'median replies: {conv_roots.num_replies.median()}')\n",
    "print(f'average users: {conv_roots.num_users.mean()}')\n",
    "print(f'median users: {conv_roots.num_users.median()}')"
   ]
  },
  {
   "cell_type": "code",
   "execution_count": 50,
   "metadata": {},
   "outputs": [
    {
     "name": "stdout",
     "output_type": "stream",
     "text": [
      "num conversations:377\n",
      "num tweets:9883\n",
      "average replies: 26.214854111405835\n",
      "median replies: 3.0\n",
      "average users: 16.358090185676392\n",
      "median users: 2.0\n"
     ]
    }
   ],
   "source": [
    "path = os.path.join(data_dir, 'other', 'conversations.csv')\n",
    "conv = pd.read_csv(path, parse_dates=['timestamp'])\n",
    "conv = conv[conv.num_replies>1]\n",
    "conv_roots = conv[conv.in_reply_to_status_id.isnull()]\n",
    "conv_roots_o=conv_roots\n",
    "print(f'num conversations:{conv_roots.shape[0]}' )\n",
    "print(f'num tweets:{conv[conv.conversation_id.isin(conv_roots.conversation_id)].shape[0]}' )\n",
    "print(f'average replies: {conv_roots.num_replies.mean()}')\n",
    "print(f'median replies: {conv_roots.num_replies.median()}')\n",
    "print(f'average users: {conv_roots.num_users.mean()}')\n",
    "print(f'median users: {conv_roots.num_users.median()}')"
   ]
  },
  {
   "cell_type": "code",
   "execution_count": 59,
   "metadata": {},
   "outputs": [
    {
     "data": {
      "text/html": [
       "<div>\n",
       "<style scoped>\n",
       "    .dataframe tbody tr th:only-of-type {\n",
       "        vertical-align: middle;\n",
       "    }\n",
       "\n",
       "    .dataframe tbody tr th {\n",
       "        vertical-align: top;\n",
       "    }\n",
       "\n",
       "    .dataframe thead th {\n",
       "        text-align: right;\n",
       "    }\n",
       "</style>\n",
       "<table border=\"1\" class=\"dataframe\">\n",
       "  <thead>\n",
       "    <tr style=\"text-align: right;\">\n",
       "      <th></th>\n",
       "      <th>id</th>\n",
       "      <th>screen_name</th>\n",
       "      <th>latitude</th>\n",
       "      <th>longitude</th>\n",
       "      <th>lang</th>\n",
       "      <th>in_reply_to_status_id</th>\n",
       "      <th>text</th>\n",
       "      <th>timestamp</th>\n",
       "      <th>conversation_id</th>\n",
       "      <th>conversation_deep</th>\n",
       "      <th>num_replies</th>\n",
       "      <th>num_users</th>\n",
       "      <th>url</th>\n",
       "    </tr>\n",
       "  </thead>\n",
       "  <tbody>\n",
       "    <tr>\n",
       "      <th>4164</th>\n",
       "      <td>318170395511492608</td>\n",
       "      <td>RuanoFaxas</td>\n",
       "      <td>NaN</td>\n",
       "      <td>NaN</td>\n",
       "      <td>und</td>\n",
       "      <td>NaN</td>\n",
       "      <td>IMAGOLOGÍA DEL DEPORTE-IMAGOLOGY OF SPORT-ИМАГ...</td>\n",
       "      <td>2013-03-31 01:18:28</td>\n",
       "      <td>318170395511492608</td>\n",
       "      <td>1</td>\n",
       "      <td>840</td>\n",
       "      <td>14</td>\n",
       "      <td>https://www.twitter.com/RuanoFaxas/status/3181...</td>\n",
       "    </tr>\n",
       "    <tr>\n",
       "      <th>926</th>\n",
       "      <td>721656846164107264</td>\n",
       "      <td>GiraffaCecilia</td>\n",
       "      <td>NaN</td>\n",
       "      <td>NaN</td>\n",
       "      <td>it</td>\n",
       "      <td>NaN</td>\n",
       "      <td>@pinobuon CiaoCaroGiuseppeTtOk?TerremotoT'haCr...</td>\n",
       "      <td>2016-04-17 11:09:34</td>\n",
       "      <td>721656846164107264</td>\n",
       "      <td>1</td>\n",
       "      <td>531</td>\n",
       "      <td>8</td>\n",
       "      <td>https://www.twitter.com/GiraffaCecilia/status/...</td>\n",
       "    </tr>\n",
       "    <tr>\n",
       "      <th>396</th>\n",
       "      <td>1034085779666948097</td>\n",
       "      <td>pinkstroberi</td>\n",
       "      <td>NaN</td>\n",
       "      <td>NaN</td>\n",
       "      <td>in</td>\n",
       "      <td>NaN</td>\n",
       "      <td>Kemarin ngatain  \"Y0uNgL3x GobLoK\"  \"oTAk sELa...</td>\n",
       "      <td>2018-08-27 14:30:36</td>\n",
       "      <td>1034085779666948097</td>\n",
       "      <td>1</td>\n",
       "      <td>442</td>\n",
       "      <td>248</td>\n",
       "      <td>https://www.twitter.com/pinkstroberi/status/10...</td>\n",
       "    </tr>\n",
       "    <tr>\n",
       "      <th>2654</th>\n",
       "      <td>714142037143134209</td>\n",
       "      <td>JuanakinJMS</td>\n",
       "      <td>NaN</td>\n",
       "      <td>NaN</td>\n",
       "      <td>und</td>\n",
       "      <td>NaN</td>\n",
       "      <td>NUEVO LOCKE!!! POKÉMON ORO HARDLOCKE!!!!! http...</td>\n",
       "      <td>2016-03-27 17:28:24</td>\n",
       "      <td>714142037143134209</td>\n",
       "      <td>1</td>\n",
       "      <td>435</td>\n",
       "      <td>37</td>\n",
       "      <td>https://www.twitter.com/JuanakinJMS/status/714...</td>\n",
       "    </tr>\n",
       "    <tr>\n",
       "      <th>6903</th>\n",
       "      <td>925842593153417216</td>\n",
       "      <td>mangelrogel</td>\n",
       "      <td>NaN</td>\n",
       "      <td>NaN</td>\n",
       "      <td>is</td>\n",
       "      <td>NaN</td>\n",
       "      <td>Top 10 de mis youtubers favoritos: -vegetta -v...</td>\n",
       "      <td>2017-11-01 21:50:50</td>\n",
       "      <td>925842593153417216</td>\n",
       "      <td>1</td>\n",
       "      <td>394</td>\n",
       "      <td>318</td>\n",
       "      <td>https://www.twitter.com/mangelrogel/status/925...</td>\n",
       "    </tr>\n",
       "  </tbody>\n",
       "</table>\n",
       "</div>"
      ],
      "text/plain": [
       "                       id     screen_name  latitude  longitude lang  \\\n",
       "4164   318170395511492608      RuanoFaxas       NaN        NaN  und   \n",
       "926    721656846164107264  GiraffaCecilia       NaN        NaN   it   \n",
       "396   1034085779666948097    pinkstroberi       NaN        NaN   in   \n",
       "2654   714142037143134209     JuanakinJMS       NaN        NaN  und   \n",
       "6903   925842593153417216     mangelrogel       NaN        NaN   is   \n",
       "\n",
       "      in_reply_to_status_id  \\\n",
       "4164                    NaN   \n",
       "926                     NaN   \n",
       "396                     NaN   \n",
       "2654                    NaN   \n",
       "6903                    NaN   \n",
       "\n",
       "                                                   text           timestamp  \\\n",
       "4164  IMAGOLOGÍA DEL DEPORTE-IMAGOLOGY OF SPORT-ИМАГ... 2013-03-31 01:18:28   \n",
       "926   @pinobuon CiaoCaroGiuseppeTtOk?TerremotoT'haCr... 2016-04-17 11:09:34   \n",
       "396   Kemarin ngatain  \"Y0uNgL3x GobLoK\"  \"oTAk sELa... 2018-08-27 14:30:36   \n",
       "2654  NUEVO LOCKE!!! POKÉMON ORO HARDLOCKE!!!!! http... 2016-03-27 17:28:24   \n",
       "6903  Top 10 de mis youtubers favoritos: -vegetta -v... 2017-11-01 21:50:50   \n",
       "\n",
       "          conversation_id  conversation_deep  num_replies  num_users  \\\n",
       "4164   318170395511492608                  1          840         14   \n",
       "926    721656846164107264                  1          531          8   \n",
       "396   1034085779666948097                  1          442        248   \n",
       "2654   714142037143134209                  1          435         37   \n",
       "6903   925842593153417216                  1          394        318   \n",
       "\n",
       "                                                    url  \n",
       "4164  https://www.twitter.com/RuanoFaxas/status/3181...  \n",
       "926   https://www.twitter.com/GiraffaCecilia/status/...  \n",
       "396   https://www.twitter.com/pinkstroberi/status/10...  \n",
       "2654  https://www.twitter.com/JuanakinJMS/status/714...  \n",
       "6903  https://www.twitter.com/mangelrogel/status/925...  "
      ]
     },
     "execution_count": 59,
     "metadata": {},
     "output_type": "execute_result"
    }
   ],
   "source": [
    "conv_roots.sort_values('num_replies',ascending=False).head()"
   ]
  },
  {
   "cell_type": "code",
   "execution_count": 60,
   "metadata": {
    "scrolled": true
   },
   "outputs": [
    {
     "data": {
      "image/png": "[encoded data removed]",
      "text/plain": [
       "<Figure size 432x288 with 1 Axes>"
      ]
     },
     "metadata": {
      "needs_background": "light"
     },
     "output_type": "display_data"
    }
   ],
   "source": [
    "\n",
    "# Draw the density plot\n",
    "sns.distplot(conv_roots_es['num_replies'], hist = False, kde = True,\n",
    "             kde_kws = {'linewidth': 3},\n",
    "             label = 'Spanish')\n",
    "sns.distplot(conv_roots_en['num_replies'], hist = False, kde = True,\n",
    "             kde_kws = {'linewidth': 3},\n",
    "             label = 'English')\n",
    "sns.distplot(conv_roots_o['num_replies'], hist = False, kde = True,\n",
    "             kde_kws = {'linewidth': 3},\n",
    "             label = 'Other')\n",
    "    \n",
    "# Plot formatting\n",
    "#plt.legend(prop={'size': 16}, title = 'Airline')\n",
    "plt.xscale('log')\n",
    "#plt.yscale('log')\n",
    "plt.title('Density Plot for Conversations')\n",
    "plt.xlabel('Number of replies')\n",
    "plt.ylabel('Density')\n",
    "plt.tight_layout()\n",
    "plt.savefig('../results/conv_dist.eps', format='eps')"
   ]
  },
  {
   "cell_type": "code",
   "execution_count": 63,
   "metadata": {
    "scrolled": true
   },
   "outputs": [
    {
     "name": "stdout",
     "output_type": "stream",
     "text": [
      "/Users/johnny/data/crisis/ecuador_earthquake_2016/conversations.csv\n",
      "num conversations:6101\n",
      "num tweets:84343\n",
      "average replies: 13.82445500737584\n",
      "median replies: 3.0\n",
      "average users: 9.788395345025405\n",
      "median users: 2.0\n"
     ]
    }
   ],
   "source": [
    "path = os.path.join(data_dir, 'conversations.csv')\n",
    "print(path)\n",
    "conv = pd.read_csv(path, parse_dates=['timestamp'])\n",
    "conv = conv[conv.num_replies>1]\n",
    "conv_roots = conv[conv.in_reply_to_status_id.isnull()]\n",
    "print(f'num conversations:{conv_roots.shape[0]}' )\n",
    "print(f'num tweets:{conv[conv.conversation_id.isin(conv_roots.conversation_id)].shape[0]}' )\n",
    "print(f'average replies: {conv_roots.num_replies.mean()}')\n",
    "print(f'median replies: {conv_roots.num_replies.median()}')\n",
    "print(f'average users: {conv_roots.num_users.mean()}')\n",
    "print(f'median users: {conv_roots.num_users.median()}')"
   ]
  },
  {
   "cell_type": "code",
   "execution_count": 72,
   "metadata": {},
   "outputs": [
    {
     "data": {
      "text/plain": [
       "10.0"
      ]
     },
     "execution_count": 72,
     "metadata": {},
     "output_type": "execute_result"
    }
   ],
   "source": [
    "np.percentile(conv_roots.num_replies, 84)"
   ]
  },
  {
   "cell_type": "markdown",
   "metadata": {},
   "source": [
    "## dialogs stats"
   ]
  },
  {
   "cell_type": "code",
   "execution_count": 61,
   "metadata": {},
   "outputs": [
    {
     "name": "stdout",
     "output_type": "stream",
     "text": [
      "number of tweets 6119\n",
      "number of conversations 1415\n"
     ]
    }
   ],
   "source": [
    "path = os.path.join(data_dir, 'es', 'dialogs.csv')\n",
    "dialogs = pd.read_csv(path, parse_dates=['timestamp'])\n",
    "print(f'number of tweets {dialogs.id.nunique()}')\n",
    "print(f'number of conversations {dialogs.dialog_id.nunique()}')"
   ]
  },
  {
   "cell_type": "code",
   "execution_count": 62,
   "metadata": {},
   "outputs": [
    {
     "name": "stdout",
     "output_type": "stream",
     "text": [
      "number of tweets 3874\n",
      "number of conversations 1243\n"
     ]
    }
   ],
   "source": [
    "path = os.path.join(data_dir, 'en', 'dialogs.csv')\n",
    "dialogs = pd.read_csv(path, parse_dates=['timestamp'])\n",
    "print(f'number of tweets {dialogs.id.nunique()}')\n",
    "print(f'number of conversations {dialogs.dialog_id.nunique()}')"
   ]
  },
  {
   "cell_type": "markdown",
   "metadata": {},
   "source": [
    "## dialogs sample stats"
   ]
  },
  {
   "cell_type": "code",
   "execution_count": 8,
   "metadata": {},
   "outputs": [
    {
     "name": "stdout",
     "output_type": "stream",
     "text": [
      "number of rows 3572\n",
      "number of tweets 2193\n",
      "number of conversations 518\n"
     ]
    }
   ],
   "source": [
    "path = os.path.join(data_dir, 'es', 'dialogs_sample.csv')\n",
    "dialogs = pd.read_csv(path, parse_dates=['timestamp'])\n",
    "print(f'number of rows {dialogs.shape[0]}')\n",
    "print(f'number of tweets {dialogs.id.nunique()}')\n",
    "print(f'number of conversations {dialogs.dialog_id.nunique()}')"
   ]
  },
  {
   "cell_type": "code",
   "execution_count": 19,
   "metadata": {},
   "outputs": [
    {
     "name": "stdout",
     "output_type": "stream",
     "text": [
      "number of rows 1159\n",
      "number of tweets 730\n",
      "number of conversations 172\n"
     ]
    }
   ],
   "source": [
    "path = os.path.join(data_dir, 'en', 'dialogs_sample.csv')\n",
    "dialogs = pd.read_csv(path, parse_dates=['timestamp'])\n",
    "print(f'number of rows {dialogs.shape[0]}')\n",
    "print(f'number of tweets {dialogs.id.nunique()}')\n",
    "print(f'number of conversations {dialogs.dialog_id.nunique()}')"
   ]
  },
  {
   "cell_type": "markdown",
   "metadata": {},
   "source": [
    "## tweets annotated"
   ]
  },
  {
   "cell_type": "code",
   "execution_count": 234,
   "metadata": {},
   "outputs": [
    {
     "name": "stdout",
     "output_type": "stream",
     "text": [
      "(4168, 10)\n",
      "not_related_or_irrelevant                            1846\n",
      "other_useful_information                              753\n",
      "injured_or_dead_people                                624\n",
      "sympathy_and_emotional_support                        451\n",
      "donation_needs_or_offers_or_volunteering_services     234\n",
      "infrastructure_and_utilities_damage                   157\n",
      "caution_and_advice                                     61\n",
      "missing_trapped_or_found_people                        30\n",
      "displaced_people_and_evacuations                       12\n",
      "Name: choose_one_category, dtype: int64\n",
      "yes    2322\n",
      "no     1846\n",
      "Name: crisis_related, dtype: int64\n"
     ]
    }
   ],
   "source": [
    "path = os.path.join(data_dir,  '2016_ecuador_eq_es.csv')\n",
    "tweets = pd.read_csv(path, parse_dates=['timestamp'])\n",
    "print(tweets.shape)\n",
    "print(tweets.choose_one_category.value_counts())\n",
    "print(tweets.crisis_related.value_counts())"
   ]
  },
  {
   "cell_type": "code",
   "execution_count": 235,
   "metadata": {},
   "outputs": [
    {
     "name": "stdout",
     "output_type": "stream",
     "text": [
      "(4192, 10)\n",
      "yes    2246\n",
      "no     1946\n",
      "Name: crisis_related, dtype: int64\n"
     ]
    }
   ],
   "source": [
    "path = os.path.join(data_dir,  '2016_ecuador_eq_en.csv')\n",
    "tweets = pd.read_csv(path, parse_dates=['timestamp'])\n",
    "print(tweets.shape)\n",
    "tweets.choose_one_category.value_counts()\n",
    "print(tweets.crisis_related.value_counts())"
   ]
  },
  {
   "cell_type": "code",
   "execution_count": 236,
   "metadata": {},
   "outputs": [
    {
     "data": {
      "text/plain": [
       "8360"
      ]
     },
     "execution_count": 236,
     "metadata": {},
     "output_type": "execute_result"
    }
   ],
   "source": [
    "4168+4192"
   ]
  },
  {
   "cell_type": "markdown",
   "metadata": {},
   "source": [
    "## conversational analysis\n"
   ]
  },
  {
   "cell_type": "code",
   "execution_count": 103,
   "metadata": {},
   "outputs": [],
   "source": [
    "path = os.path.join(data_dir, 'en', 'conversations.csv')\n",
    "conv = pd.read_csv(path, parse_dates=['timestamp'])\n",
    "path = os.path.join(data_dir,  '2016_ecuador_eq_en.csv')\n",
    "tweets = pd.read_csv(path, parse_dates=['timestamp'])\n"
   ]
  },
  {
   "cell_type": "code",
   "execution_count": 104,
   "metadata": {},
   "outputs": [
    {
     "data": {
      "text/plain": [
       "(2112, 14)"
      ]
     },
     "execution_count": 104,
     "metadata": {},
     "output_type": "execute_result"
    }
   ],
   "source": [
    "conv=conv.merge(tweets[['id','choose_one_category']], on='id', how='inner')\n",
    "conv.shape"
   ]
  },
  {
   "cell_type": "code",
   "execution_count": 105,
   "metadata": {},
   "outputs": [
    {
     "data": {
      "text/plain": [
       "(89, 14)"
      ]
     },
     "execution_count": 105,
     "metadata": {},
     "output_type": "execute_result"
    }
   ],
   "source": [
    "conv_root=conv[(conv.num_replies> 1)&(conv.in_reply_to_status_id.isnull())]\n",
    "conv_root.shape"
   ]
  },
  {
   "cell_type": "code",
   "execution_count": 106,
   "metadata": {},
   "outputs": [
    {
     "data": {
      "text/html": [
       "<div>\n",
       "<style scoped>\n",
       "    .dataframe tbody tr th:only-of-type {\n",
       "        vertical-align: middle;\n",
       "    }\n",
       "\n",
       "    .dataframe tbody tr th {\n",
       "        vertical-align: top;\n",
       "    }\n",
       "\n",
       "    .dataframe thead th {\n",
       "        text-align: right;\n",
       "    }\n",
       "</style>\n",
       "<table border=\"1\" class=\"dataframe\">\n",
       "  <thead>\n",
       "    <tr style=\"text-align: right;\">\n",
       "      <th></th>\n",
       "      <th>choose_one_category</th>\n",
       "      <th>count</th>\n",
       "      <th>perc</th>\n",
       "    </tr>\n",
       "  </thead>\n",
       "  <tbody>\n",
       "    <tr>\n",
       "      <th>0</th>\n",
       "      <td>caution_and_advice</td>\n",
       "      <td>3</td>\n",
       "      <td>0.033708</td>\n",
       "    </tr>\n",
       "    <tr>\n",
       "      <th>1</th>\n",
       "      <td>donation_needs_or_offers_or_volunteering_services</td>\n",
       "      <td>4</td>\n",
       "      <td>0.044944</td>\n",
       "    </tr>\n",
       "    <tr>\n",
       "      <th>2</th>\n",
       "      <td>infrastructure_and_utilities_damage</td>\n",
       "      <td>4</td>\n",
       "      <td>0.044944</td>\n",
       "    </tr>\n",
       "    <tr>\n",
       "      <th>3</th>\n",
       "      <td>injured_or_dead_people</td>\n",
       "      <td>23</td>\n",
       "      <td>0.258427</td>\n",
       "    </tr>\n",
       "    <tr>\n",
       "      <th>4</th>\n",
       "      <td>missing_trapped_or_found_people</td>\n",
       "      <td>1</td>\n",
       "      <td>0.011236</td>\n",
       "    </tr>\n",
       "    <tr>\n",
       "      <th>5</th>\n",
       "      <td>not_related_or_irrelevant</td>\n",
       "      <td>18</td>\n",
       "      <td>0.202247</td>\n",
       "    </tr>\n",
       "    <tr>\n",
       "      <th>6</th>\n",
       "      <td>other_useful_information</td>\n",
       "      <td>24</td>\n",
       "      <td>0.269663</td>\n",
       "    </tr>\n",
       "    <tr>\n",
       "      <th>7</th>\n",
       "      <td>sympathy_and_emotional_support</td>\n",
       "      <td>12</td>\n",
       "      <td>0.134831</td>\n",
       "    </tr>\n",
       "  </tbody>\n",
       "</table>\n",
       "</div>"
      ],
      "text/plain": [
       "                                 choose_one_category  count      perc\n",
       "0                                 caution_and_advice      3  0.033708\n",
       "1  donation_needs_or_offers_or_volunteering_services      4  0.044944\n",
       "2                infrastructure_and_utilities_damage      4  0.044944\n",
       "3                             injured_or_dead_people     23  0.258427\n",
       "4                    missing_trapped_or_found_people      1  0.011236\n",
       "5                          not_related_or_irrelevant     18  0.202247\n",
       "6                           other_useful_information     24  0.269663\n",
       "7                     sympathy_and_emotional_support     12  0.134831"
      ]
     },
     "execution_count": 106,
     "metadata": {},
     "output_type": "execute_result"
    }
   ],
   "source": [
    "tmp=conv_root.groupby('choose_one_category').size().reset_index() \n",
    "tmp.columns = ['choose_one_category','count']\n",
    "tmp['perc'] = tmp['count'] / tmp['count'].sum()\n",
    "tmp"
   ]
  },
  {
   "cell_type": "code",
   "execution_count": 107,
   "metadata": {},
   "outputs": [
    {
     "data": {
      "text/html": [
       "<div>\n",
       "<style scoped>\n",
       "    .dataframe tbody tr th:only-of-type {\n",
       "        vertical-align: middle;\n",
       "    }\n",
       "\n",
       "    .dataframe tbody tr th {\n",
       "        vertical-align: top;\n",
       "    }\n",
       "\n",
       "    .dataframe thead th {\n",
       "        text-align: right;\n",
       "    }\n",
       "</style>\n",
       "<table border=\"1\" class=\"dataframe\">\n",
       "  <thead>\n",
       "    <tr style=\"text-align: right;\">\n",
       "      <th></th>\n",
       "      <th>choose_one_category</th>\n",
       "      <th>count</th>\n",
       "      <th>perc</th>\n",
       "    </tr>\n",
       "  </thead>\n",
       "  <tbody>\n",
       "    <tr>\n",
       "      <th>0</th>\n",
       "      <td>infrastructure_and_utilities_damage</td>\n",
       "      <td>1</td>\n",
       "      <td>0.006711</td>\n",
       "    </tr>\n",
       "    <tr>\n",
       "      <th>1</th>\n",
       "      <td>not_related_or_irrelevant</td>\n",
       "      <td>144</td>\n",
       "      <td>0.966443</td>\n",
       "    </tr>\n",
       "    <tr>\n",
       "      <th>2</th>\n",
       "      <td>other_useful_information</td>\n",
       "      <td>2</td>\n",
       "      <td>0.013423</td>\n",
       "    </tr>\n",
       "    <tr>\n",
       "      <th>3</th>\n",
       "      <td>sympathy_and_emotional_support</td>\n",
       "      <td>2</td>\n",
       "      <td>0.013423</td>\n",
       "    </tr>\n",
       "  </tbody>\n",
       "</table>\n",
       "</div>"
      ],
      "text/plain": [
       "                   choose_one_category  count      perc\n",
       "0  infrastructure_and_utilities_damage      1  0.006711\n",
       "1            not_related_or_irrelevant    144  0.966443\n",
       "2             other_useful_information      2  0.013423\n",
       "3       sympathy_and_emotional_support      2  0.013423"
      ]
     },
     "execution_count": 107,
     "metadata": {},
     "output_type": "execute_result"
    }
   ],
   "source": [
    "ix=conv_root[conv_root.choose_one_category=='not_related_or_irrelevant'].conversation_id\n",
    "tmp=conv[conv.conversation_id.isin(ix)].groupby('choose_one_category').size().reset_index()\n",
    "tmp.columns = ['choose_one_category','count']\n",
    "tmp['perc'] = tmp['count'] / tmp['count'].sum()\n",
    "tmp"
   ]
  },
  {
   "cell_type": "code",
   "execution_count": 108,
   "metadata": {},
   "outputs": [
    {
     "data": {
      "text/html": [
       "<div>\n",
       "<style scoped>\n",
       "    .dataframe tbody tr th:only-of-type {\n",
       "        vertical-align: middle;\n",
       "    }\n",
       "\n",
       "    .dataframe tbody tr th {\n",
       "        vertical-align: top;\n",
       "    }\n",
       "\n",
       "    .dataframe thead th {\n",
       "        text-align: right;\n",
       "    }\n",
       "</style>\n",
       "<table border=\"1\" class=\"dataframe\">\n",
       "  <thead>\n",
       "    <tr style=\"text-align: right;\">\n",
       "      <th></th>\n",
       "      <th>choose_one_category</th>\n",
       "      <th>count</th>\n",
       "      <th>perc</th>\n",
       "    </tr>\n",
       "  </thead>\n",
       "  <tbody>\n",
       "    <tr>\n",
       "      <th>0</th>\n",
       "      <td>caution_and_advice</td>\n",
       "      <td>3</td>\n",
       "      <td>0.014218</td>\n",
       "    </tr>\n",
       "    <tr>\n",
       "      <th>1</th>\n",
       "      <td>donation_needs_or_offers_or_volunteering_services</td>\n",
       "      <td>25</td>\n",
       "      <td>0.118483</td>\n",
       "    </tr>\n",
       "    <tr>\n",
       "      <th>2</th>\n",
       "      <td>infrastructure_and_utilities_damage</td>\n",
       "      <td>6</td>\n",
       "      <td>0.028436</td>\n",
       "    </tr>\n",
       "    <tr>\n",
       "      <th>3</th>\n",
       "      <td>injured_or_dead_people</td>\n",
       "      <td>25</td>\n",
       "      <td>0.118483</td>\n",
       "    </tr>\n",
       "    <tr>\n",
       "      <th>4</th>\n",
       "      <td>missing_trapped_or_found_people</td>\n",
       "      <td>1</td>\n",
       "      <td>0.004739</td>\n",
       "    </tr>\n",
       "    <tr>\n",
       "      <th>5</th>\n",
       "      <td>not_related_or_irrelevant</td>\n",
       "      <td>74</td>\n",
       "      <td>0.350711</td>\n",
       "    </tr>\n",
       "    <tr>\n",
       "      <th>6</th>\n",
       "      <td>other_useful_information</td>\n",
       "      <td>44</td>\n",
       "      <td>0.208531</td>\n",
       "    </tr>\n",
       "    <tr>\n",
       "      <th>7</th>\n",
       "      <td>sympathy_and_emotional_support</td>\n",
       "      <td>33</td>\n",
       "      <td>0.156398</td>\n",
       "    </tr>\n",
       "  </tbody>\n",
       "</table>\n",
       "</div>"
      ],
      "text/plain": [
       "                                 choose_one_category  count      perc\n",
       "0                                 caution_and_advice      3  0.014218\n",
       "1  donation_needs_or_offers_or_volunteering_services     25  0.118483\n",
       "2                infrastructure_and_utilities_damage      6  0.028436\n",
       "3                             injured_or_dead_people     25  0.118483\n",
       "4                    missing_trapped_or_found_people      1  0.004739\n",
       "5                          not_related_or_irrelevant     74  0.350711\n",
       "6                           other_useful_information     44  0.208531\n",
       "7                     sympathy_and_emotional_support     33  0.156398"
      ]
     },
     "execution_count": 108,
     "metadata": {},
     "output_type": "execute_result"
    }
   ],
   "source": [
    "ix=conv_root[conv_root.choose_one_category!='not_related_or_irrelevant'].conversation_id\n",
    "tmp=conv[conv.conversation_id.isin(ix)].groupby('choose_one_category').size().reset_index()\n",
    "tmp.columns = ['choose_one_category','count']\n",
    "tmp['perc'] = tmp['count'] / tmp['count'].sum()\n",
    "tmp"
   ]
  },
  {
   "cell_type": "markdown",
   "metadata": {},
   "source": [
    "## temporal analysis of locals vs foreigners"
   ]
  },
  {
   "cell_type": "code",
   "execution_count": 230,
   "metadata": {},
   "outputs": [],
   "source": [
    "path = os.path.join(data_dir, 'es', 'conversations.csv')\n",
    "conv = pd.read_csv(path, parse_dates=['timestamp'])\n",
    "path = os.path.join(data_dir,  '2016_ecuador_eq_es.csv')\n",
    "tweets = pd.read_csv(path, parse_dates=['timestamp'])"
   ]
  },
  {
   "cell_type": "code",
   "execution_count": 231,
   "metadata": {},
   "outputs": [],
   "source": [
    "from datetime import datetime"
   ]
  },
  {
   "cell_type": "code",
   "execution_count": 232,
   "metadata": {},
   "outputs": [
    {
     "ename": "ValueError",
     "evalue": "cannot insert timestamp, already exists",
     "output_type": "error",
     "traceback": [
      "\u001b[0;31m---------------------------------------------------------------------------\u001b[0m",
      "\u001b[0;31mValueError\u001b[0m                                Traceback (most recent call last)",
      "\u001b[0;32m<ipython-input-232-5dc5e61eabe8>\u001b[0m in \u001b[0;36m<module>\u001b[0;34m\u001b[0m\n\u001b[1;32m      2\u001b[0m \u001b[0mtweets\u001b[0m\u001b[0;34m=\u001b[0m\u001b[0mtweets\u001b[0m\u001b[0;34m[\u001b[0m\u001b[0mtweets\u001b[0m\u001b[0;34m.\u001b[0m\u001b[0mtimestamp\u001b[0m\u001b[0;34m<=\u001b[0m \u001b[0mdatetime\u001b[0m\u001b[0;34m(\u001b[0m\u001b[0;36m2016\u001b[0m\u001b[0;34m,\u001b[0m\u001b[0;36m4\u001b[0m\u001b[0;34m,\u001b[0m\u001b[0;36m20\u001b[0m\u001b[0;34m)\u001b[0m\u001b[0;34m]\u001b[0m\u001b[0;34m\u001b[0m\u001b[0;34m\u001b[0m\u001b[0m\n\u001b[1;32m      3\u001b[0m \u001b[0mtweets\u001b[0m\u001b[0;34m=\u001b[0m\u001b[0mtweets\u001b[0m\u001b[0;34m[\u001b[0m\u001b[0mtweets\u001b[0m\u001b[0;34m.\u001b[0m\u001b[0mchoose_one_category\u001b[0m\u001b[0;34m!=\u001b[0m\u001b[0;34m'not_related_or_irrelevant'\u001b[0m\u001b[0;34m]\u001b[0m\u001b[0;34m\u001b[0m\u001b[0;34m\u001b[0m\u001b[0m\n\u001b[0;32m----> 4\u001b[0;31m \u001b[0mtweets\u001b[0m\u001b[0;34m=\u001b[0m\u001b[0mtweets\u001b[0m\u001b[0;34m.\u001b[0m\u001b[0mgroupby\u001b[0m\u001b[0;34m(\u001b[0m\u001b[0;34m[\u001b[0m\u001b[0mtweets\u001b[0m\u001b[0;34m[\u001b[0m\u001b[0;34m'timestamp'\u001b[0m\u001b[0;34m]\u001b[0m\u001b[0;34m.\u001b[0m\u001b[0mdt\u001b[0m\u001b[0;34m.\u001b[0m\u001b[0mdate\u001b[0m\u001b[0;34m,\u001b[0m\u001b[0mtweets\u001b[0m\u001b[0;34m[\u001b[0m\u001b[0;34m'timestamp'\u001b[0m\u001b[0;34m]\u001b[0m\u001b[0;34m.\u001b[0m\u001b[0mdt\u001b[0m\u001b[0;34m.\u001b[0m\u001b[0mhour\u001b[0m\u001b[0;34m,\u001b[0m \u001b[0;34m'choose_one_category'\u001b[0m\u001b[0;34m]\u001b[0m\u001b[0;34m)\u001b[0m\u001b[0;34m.\u001b[0m\u001b[0msize\u001b[0m\u001b[0;34m(\u001b[0m\u001b[0;34m)\u001b[0m\u001b[0;34m.\u001b[0m\u001b[0mreset_index\u001b[0m\u001b[0;34m(\u001b[0m\u001b[0;34m)\u001b[0m\u001b[0;34m\u001b[0m\u001b[0;34m\u001b[0m\u001b[0m\n\u001b[0m\u001b[1;32m      5\u001b[0m \u001b[0;31m#tweets.columns = ['timestamp','choose_one_category','num']\u001b[0m\u001b[0;34m\u001b[0m\u001b[0;34m\u001b[0m\u001b[0;34m\u001b[0m\u001b[0m\n\u001b[1;32m      6\u001b[0m \u001b[0mtweets\u001b[0m\u001b[0;34m\u001b[0m\u001b[0;34m\u001b[0m\u001b[0m\n",
      "\u001b[0;32m/usr/local/lib/python3.7/site-packages/pandas/core/series.py\u001b[0m in \u001b[0;36mreset_index\u001b[0;34m(self, level, drop, name, inplace)\u001b[0m\n\u001b[1;32m   1362\u001b[0m         \u001b[0;32melse\u001b[0m\u001b[0;34m:\u001b[0m\u001b[0;34m\u001b[0m\u001b[0;34m\u001b[0m\u001b[0m\n\u001b[1;32m   1363\u001b[0m             \u001b[0mdf\u001b[0m \u001b[0;34m=\u001b[0m \u001b[0mself\u001b[0m\u001b[0;34m.\u001b[0m\u001b[0mto_frame\u001b[0m\u001b[0;34m(\u001b[0m\u001b[0mname\u001b[0m\u001b[0;34m)\u001b[0m\u001b[0;34m\u001b[0m\u001b[0;34m\u001b[0m\u001b[0m\n\u001b[0;32m-> 1364\u001b[0;31m             \u001b[0;32mreturn\u001b[0m \u001b[0mdf\u001b[0m\u001b[0;34m.\u001b[0m\u001b[0mreset_index\u001b[0m\u001b[0;34m(\u001b[0m\u001b[0mlevel\u001b[0m\u001b[0;34m=\u001b[0m\u001b[0mlevel\u001b[0m\u001b[0;34m,\u001b[0m \u001b[0mdrop\u001b[0m\u001b[0;34m=\u001b[0m\u001b[0mdrop\u001b[0m\u001b[0;34m)\u001b[0m\u001b[0;34m\u001b[0m\u001b[0;34m\u001b[0m\u001b[0m\n\u001b[0m\u001b[1;32m   1365\u001b[0m \u001b[0;34m\u001b[0m\u001b[0m\n\u001b[1;32m   1366\u001b[0m     \u001b[0;31m# ----------------------------------------------------------------------\u001b[0m\u001b[0;34m\u001b[0m\u001b[0;34m\u001b[0m\u001b[0;34m\u001b[0m\u001b[0m\n",
      "\u001b[0;32m/usr/local/lib/python3.7/site-packages/pandas/core/frame.py\u001b[0m in \u001b[0;36mreset_index\u001b[0;34m(self, level, drop, inplace, col_level, col_fill)\u001b[0m\n\u001b[1;32m   4429\u001b[0m                 \u001b[0;31m# to ndarray and maybe infer different dtype\u001b[0m\u001b[0;34m\u001b[0m\u001b[0;34m\u001b[0m\u001b[0;34m\u001b[0m\u001b[0m\n\u001b[1;32m   4430\u001b[0m                 \u001b[0mlevel_values\u001b[0m \u001b[0;34m=\u001b[0m \u001b[0m_maybe_casted_values\u001b[0m\u001b[0;34m(\u001b[0m\u001b[0mlev\u001b[0m\u001b[0;34m,\u001b[0m \u001b[0mlab\u001b[0m\u001b[0;34m)\u001b[0m\u001b[0;34m\u001b[0m\u001b[0;34m\u001b[0m\u001b[0m\n\u001b[0;32m-> 4431\u001b[0;31m                 \u001b[0mnew_obj\u001b[0m\u001b[0;34m.\u001b[0m\u001b[0minsert\u001b[0m\u001b[0;34m(\u001b[0m\u001b[0;36m0\u001b[0m\u001b[0;34m,\u001b[0m \u001b[0mname\u001b[0m\u001b[0;34m,\u001b[0m \u001b[0mlevel_values\u001b[0m\u001b[0;34m)\u001b[0m\u001b[0;34m\u001b[0m\u001b[0;34m\u001b[0m\u001b[0m\n\u001b[0m\u001b[1;32m   4432\u001b[0m \u001b[0;34m\u001b[0m\u001b[0m\n\u001b[1;32m   4433\u001b[0m         \u001b[0mnew_obj\u001b[0m\u001b[0;34m.\u001b[0m\u001b[0mindex\u001b[0m \u001b[0;34m=\u001b[0m \u001b[0mnew_index\u001b[0m\u001b[0;34m\u001b[0m\u001b[0;34m\u001b[0m\u001b[0m\n",
      "\u001b[0;32m/usr/local/lib/python3.7/site-packages/pandas/core/frame.py\u001b[0m in \u001b[0;36minsert\u001b[0;34m(self, loc, column, value, allow_duplicates)\u001b[0m\n\u001b[1;32m   3471\u001b[0m         \u001b[0mvalue\u001b[0m \u001b[0;34m=\u001b[0m \u001b[0mself\u001b[0m\u001b[0;34m.\u001b[0m\u001b[0m_sanitize_column\u001b[0m\u001b[0;34m(\u001b[0m\u001b[0mcolumn\u001b[0m\u001b[0;34m,\u001b[0m \u001b[0mvalue\u001b[0m\u001b[0;34m,\u001b[0m \u001b[0mbroadcast\u001b[0m\u001b[0;34m=\u001b[0m\u001b[0;32mFalse\u001b[0m\u001b[0;34m)\u001b[0m\u001b[0;34m\u001b[0m\u001b[0;34m\u001b[0m\u001b[0m\n\u001b[1;32m   3472\u001b[0m         self._data.insert(loc, column, value,\n\u001b[0;32m-> 3473\u001b[0;31m                           allow_duplicates=allow_duplicates)\n\u001b[0m\u001b[1;32m   3474\u001b[0m \u001b[0;34m\u001b[0m\u001b[0m\n\u001b[1;32m   3475\u001b[0m     \u001b[0;32mdef\u001b[0m \u001b[0massign\u001b[0m\u001b[0;34m(\u001b[0m\u001b[0mself\u001b[0m\u001b[0;34m,\u001b[0m \u001b[0;34m**\u001b[0m\u001b[0mkwargs\u001b[0m\u001b[0;34m)\u001b[0m\u001b[0;34m:\u001b[0m\u001b[0;34m\u001b[0m\u001b[0;34m\u001b[0m\u001b[0m\n",
      "\u001b[0;32m/usr/local/lib/python3.7/site-packages/pandas/core/internals/managers.py\u001b[0m in \u001b[0;36minsert\u001b[0;34m(self, loc, item, value, allow_duplicates)\u001b[0m\n\u001b[1;32m   1147\u001b[0m         \u001b[0;32mif\u001b[0m \u001b[0;32mnot\u001b[0m \u001b[0mallow_duplicates\u001b[0m \u001b[0;32mand\u001b[0m \u001b[0mitem\u001b[0m \u001b[0;32min\u001b[0m \u001b[0mself\u001b[0m\u001b[0;34m.\u001b[0m\u001b[0mitems\u001b[0m\u001b[0;34m:\u001b[0m\u001b[0;34m\u001b[0m\u001b[0;34m\u001b[0m\u001b[0m\n\u001b[1;32m   1148\u001b[0m             \u001b[0;31m# Should this be a different kind of error??\u001b[0m\u001b[0;34m\u001b[0m\u001b[0;34m\u001b[0m\u001b[0;34m\u001b[0m\u001b[0m\n\u001b[0;32m-> 1149\u001b[0;31m             \u001b[0;32mraise\u001b[0m \u001b[0mValueError\u001b[0m\u001b[0;34m(\u001b[0m\u001b[0;34m'cannot insert {}, already exists'\u001b[0m\u001b[0;34m.\u001b[0m\u001b[0mformat\u001b[0m\u001b[0;34m(\u001b[0m\u001b[0mitem\u001b[0m\u001b[0;34m)\u001b[0m\u001b[0;34m)\u001b[0m\u001b[0;34m\u001b[0m\u001b[0;34m\u001b[0m\u001b[0m\n\u001b[0m\u001b[1;32m   1150\u001b[0m \u001b[0;34m\u001b[0m\u001b[0m\n\u001b[1;32m   1151\u001b[0m         \u001b[0;32mif\u001b[0m \u001b[0;32mnot\u001b[0m \u001b[0misinstance\u001b[0m\u001b[0;34m(\u001b[0m\u001b[0mloc\u001b[0m\u001b[0;34m,\u001b[0m \u001b[0mint\u001b[0m\u001b[0;34m)\u001b[0m\u001b[0;34m:\u001b[0m\u001b[0;34m\u001b[0m\u001b[0;34m\u001b[0m\u001b[0m\n",
      "\u001b[0;31mValueError\u001b[0m: cannot insert timestamp, already exists"
     ]
    }
   ],
   "source": [
    "tweets=tweets[tweets.timestamp>= datetime(2016,4,16)]\n",
    "tweets=tweets[tweets.timestamp<= datetime(2016,4,20)]\n",
    "tweets=tweets[tweets.choose_one_category!='not_related_or_irrelevant']\n",
    "tweets=tweets.groupby([tweets['timestamp'].dt.date,tweets['timestamp'].dt.hour, 'choose_one_category']).size().reset_index()\n",
    "#tweets.columns = ['timestamp','choose_one_category','num']\n",
    "tweets\n",
    "#tweets_es = tweets\n",
    "#tweets.groupby([tweets['timestamp'].dt.date]).size().plot()\n"
   ]
  },
  {
   "cell_type": "code",
   "execution_count": 202,
   "metadata": {},
   "outputs": [],
   "source": [
    "path = os.path.join(data_dir, 'en', 'conversations.csv')\n",
    "conv = pd.read_csv(path, parse_dates=['timestamp'])\n",
    "path = os.path.join(data_dir,  '2016_ecuador_eq_en.csv')\n",
    "tweets = pd.read_csv(path, parse_dates=['timestamp'])"
   ]
  },
  {
   "cell_type": "code",
   "execution_count": 203,
   "metadata": {},
   "outputs": [],
   "source": [
    "tweets=tweets[tweets.timestamp>= datetime(2016,4,16)]\n",
    "tweets=tweets[tweets.timestamp<= datetime(2016,4,20)]\n",
    "tweets=tweets[tweets.choose_one_category!='not_related_or_irrelevant']\n",
    "#tweets.groupby([tweets['timestamp'].dt.date, 'choose_one_category']).size().plot()\n",
    "tweets_en = tweets"
   ]
  },
  {
   "cell_type": "code",
   "execution_count": 204,
   "metadata": {},
   "outputs": [
    {
     "data": {
      "text/plain": [
       "<matplotlib.axes._subplots.AxesSubplot at 0x1282d6390>"
      ]
     },
     "execution_count": 204,
     "metadata": {},
     "output_type": "execute_result"
    },
    {
     "data": {
      "image/png": "[encoded data removed]",
      "text/plain": [
       "<Figure size 432x288 with 1 Axes>"
      ]
     },
     "metadata": {
      "needs_background": "light"
     },
     "output_type": "display_data"
    }
   ],
   "source": [
    "#tweets.groupby([tweets['timestamp'].dt.date, 'choose_one_category']).size()#.plot()\n",
    "#fig, ax = plt.subplots()\n",
    "\n",
    "ax = tweets_en.groupby([tweets_en['timestamp']]).size().plot()\n",
    "#ax.plot(range(len(en)), en)\n",
    "tweets_es.groupby([tweets_es['timestamp']]).size().plot(ax=ax)\n",
    "#ax.plot(range(len(es)), es)"
   ]
  },
  {
   "cell_type": "code",
   "execution_count": 171,
   "metadata": {},
   "outputs": [
    {
     "data": {
      "text/plain": [
       "timestamp   choose_one_category                              \n",
       "2013-08-17  not_related_or_irrelevant                               1\n",
       "2015-02-12  not_related_or_irrelevant                              11\n",
       "2015-08-07  not_related_or_irrelevant                               1\n",
       "2015-08-23  not_related_or_irrelevant                               5\n",
       "2016-03-18  not_related_or_irrelevant                               1\n",
       "2016-03-27  not_related_or_irrelevant                               1\n",
       "2016-04-08  not_related_or_irrelevant                              26\n",
       "2016-04-09  not_related_or_irrelevant                               1\n",
       "2016-04-10  not_related_or_irrelevant                               3\n",
       "2016-04-11  not_related_or_irrelevant                               2\n",
       "2016-04-13  not_related_or_irrelevant                               5\n",
       "2016-04-14  not_related_or_irrelevant                               1\n",
       "            other_useful_information                                1\n",
       "2016-04-15  not_related_or_irrelevant                               2\n",
       "            other_useful_information                                1\n",
       "2016-04-16  infrastructure_and_utilities_damage                     1\n",
       "            injured_or_dead_people                                  1\n",
       "            not_related_or_irrelevant                              54\n",
       "            other_useful_information                                1\n",
       "            sympathy_and_emotional_support                          7\n",
       "2016-04-17  caution_and_advice                                     39\n",
       "            displaced_people_and_evacuations                        7\n",
       "            donation_needs_or_offers_or_volunteering_services     204\n",
       "            infrastructure_and_utilities_damage                    72\n",
       "            injured_or_dead_people                               1164\n",
       "            missing_trapped_or_found_people                         4\n",
       "            not_related_or_irrelevant                             930\n",
       "            other_useful_information                              421\n",
       "            sympathy_and_emotional_support                        303\n",
       "2016-04-18  donation_needs_or_offers_or_volunteering_services       2\n",
       "                                                                 ... \n",
       "2018-07-18  not_related_or_irrelevant                               1\n",
       "2018-07-28  not_related_or_irrelevant                               6\n",
       "2018-07-29  not_related_or_irrelevant                               3\n",
       "2018-07-30  not_related_or_irrelevant                               3\n",
       "2018-07-31  not_related_or_irrelevant                               1\n",
       "2018-08-01  not_related_or_irrelevant                              12\n",
       "2018-08-02  not_related_or_irrelevant                               3\n",
       "2018-08-03  not_related_or_irrelevant                               2\n",
       "2018-08-12  not_related_or_irrelevant                               1\n",
       "2018-08-18  not_related_or_irrelevant                               3\n",
       "2018-08-19  not_related_or_irrelevant                               7\n",
       "2018-08-20  not_related_or_irrelevant                               5\n",
       "2018-08-22  not_related_or_irrelevant                               3\n",
       "2018-08-23  not_related_or_irrelevant                               8\n",
       "2018-08-24  not_related_or_irrelevant                              10\n",
       "2018-08-25  not_related_or_irrelevant                               1\n",
       "2018-08-29  not_related_or_irrelevant                               1\n",
       "2018-09-02  not_related_or_irrelevant                               9\n",
       "2018-09-03  not_related_or_irrelevant                               7\n",
       "2018-09-04  not_related_or_irrelevant                              20\n",
       "2018-09-05  not_related_or_irrelevant                               9\n",
       "2018-09-06  not_related_or_irrelevant                              22\n",
       "2018-09-07  not_related_or_irrelevant                               3\n",
       "2018-09-08  not_related_or_irrelevant                               1\n",
       "2018-09-09  not_related_or_irrelevant                               1\n",
       "2018-09-10  not_related_or_irrelevant                               7\n",
       "2018-09-11  not_related_or_irrelevant                               4\n",
       "2018-09-12  not_related_or_irrelevant                              32\n",
       "2018-09-13  not_related_or_irrelevant                             372\n",
       "2018-09-14  not_related_or_irrelevant                             162\n",
       "Length: 109, dtype: int64"
      ]
     },
     "execution_count": 171,
     "metadata": {},
     "output_type": "execute_result"
    }
   ],
   "source": [
    "tweets.groupby([tweets['timestamp'].dt.date, 'choose_one_category']).size()"
   ]
  },
  {
   "cell_type": "markdown",
   "metadata": {},
   "source": [
    "## mixed languages in annotated tweets"
   ]
  },
  {
   "cell_type": "code",
   "execution_count": 237,
   "metadata": {},
   "outputs": [],
   "source": [
    "path = os.path.join(data_dir, 'es', 'conversations.csv')\n",
    "conv = pd.read_csv(path, parse_dates=['timestamp'])\n",
    "path = os.path.join(data_dir,  '2016_ecuador_eq_es.csv')\n",
    "tweets = pd.read_csv(path, parse_dates=['timestamp'])"
   ]
  },
  {
   "cell_type": "code",
   "execution_count": 240,
   "metadata": {},
   "outputs": [
    {
     "data": {
      "text/plain": [
       "(4168, 13)"
      ]
     },
     "execution_count": 240,
     "metadata": {},
     "output_type": "execute_result"
    }
   ],
   "source": [
    "conv_annotated = conv[conv.id.isin(tweets.id)]\n",
    "conv_annotated.shape"
   ]
  },
  {
   "cell_type": "code",
   "execution_count": 243,
   "metadata": {},
   "outputs": [
    {
     "data": {
      "text/plain": [
       "es     4005\n",
       "und      75\n",
       "pt       39\n",
       "en       22\n",
       "it        6\n",
       "tl        5\n",
       "in        5\n",
       "eu        2\n",
       "de        2\n",
       "et        1\n",
       "no        1\n",
       "fr        1\n",
       "ht        1\n",
       "hi        1\n",
       "da        1\n",
       "fi        1\n",
       "Name: lang, dtype: int64"
      ]
     },
     "execution_count": 243,
     "metadata": {},
     "output_type": "execute_result"
    }
   ],
   "source": [
    "conv_annotated.lang.value_counts()"
   ]
  },
  {
   "cell_type": "code",
   "execution_count": 245,
   "metadata": {},
   "outputs": [
    {
     "name": "stdout",
     "output_type": "stream",
     "text": [
      "% of en in es tweets 0.9608925143953935\n"
     ]
    }
   ],
   "source": [
    "print(f'% of en in es tweets {conv_annotated.lang.value_counts()[0]/conv_annotated.shape[0]}')"
   ]
  },
  {
   "cell_type": "code",
   "execution_count": 273,
   "metadata": {},
   "outputs": [],
   "source": [
    "path = os.path.join(data_dir, 'en', 'conversations.csv')\n",
    "conv = pd.read_csv(path, parse_dates=['timestamp'],dtype={'id':object})\n",
    "path = os.path.join(data_dir,  '2016_ecuador_eq_en.csv')\n",
    "tweets = pd.read_csv(path, parse_dates=['timestamp'],dtype={'id':object})\n"
   ]
  },
  {
   "cell_type": "code",
   "execution_count": 274,
   "metadata": {},
   "outputs": [
    {
     "data": {
      "text/plain": [
       "(4191, 13)"
      ]
     },
     "execution_count": 274,
     "metadata": {},
     "output_type": "execute_result"
    }
   ],
   "source": [
    "conv_annotated = conv[conv.id.isin(tweets.id)]\n",
    "conv_annotated.shape"
   ]
  },
  {
   "cell_type": "code",
   "execution_count": 275,
   "metadata": {},
   "outputs": [
    {
     "data": {
      "text/plain": [
       "en     3763\n",
       "und     232\n",
       "es       92\n",
       "pt       25\n",
       "in       17\n",
       "hi       12\n",
       "fr       11\n",
       "tl        7\n",
       "de        5\n",
       "ht        5\n",
       "sv        3\n",
       "ca        2\n",
       "nl        2\n",
       "ru        2\n",
       "no        1\n",
       "et        1\n",
       "is        1\n",
       "pl        1\n",
       "vi        1\n",
       "ur        1\n",
       "eu        1\n",
       "ar        1\n",
       "hu        1\n",
       "tr        1\n",
       "it        1\n",
       "ro        1\n",
       "fi        1\n",
       "Name: lang, dtype: int64"
      ]
     },
     "execution_count": 275,
     "metadata": {},
     "output_type": "execute_result"
    }
   ],
   "source": [
    "conv_annotated.lang.value_counts()"
   ]
  },
  {
   "cell_type": "code",
   "execution_count": 276,
   "metadata": {},
   "outputs": [
    {
     "name": "stdout",
     "output_type": "stream",
     "text": [
      "% of en in es tweets 0.8978764018134097\n"
     ]
    }
   ],
   "source": [
    "print(f'% of en in es tweets {conv_annotated.lang.value_counts()[0]/conv_annotated.shape[0]}')"
   ]
  }
 ],
 "metadata": {
  "kernelspec": {
   "display_name": "Python 3",
   "language": "python",
   "name": "python3"
  },
  "language_info": {
   "codemirror_mode": {
    "name": "ipython",
    "version": 3
   },
   "file_extension": ".py",
   "mimetype": "text/x-python",
   "name": "python",
   "nbconvert_exporter": "python",
   "pygments_lexer": "ipython3",
   "version": "3.7.2"
  }
 },
 "nbformat": 4,
 "nbformat_minor": 2
}
