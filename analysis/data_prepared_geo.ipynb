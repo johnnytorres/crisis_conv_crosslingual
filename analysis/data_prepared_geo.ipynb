{
 "cells": [
  {
   "cell_type": "code",
   "execution_count": 17,
   "metadata": {},
   "outputs": [],
   "source": [
    "import pandas as pd\n",
    "import os\n",
    "import json"
   ]
  },
  {
   "cell_type": "code",
   "execution_count": 3,
   "metadata": {},
   "outputs": [],
   "source": [
    "data_dir = '/Users/johnny/data/crisis/ecuador_earthquake_2016/'"
   ]
  },
  {
   "cell_type": "code",
   "execution_count": 33,
   "metadata": {},
   "outputs": [
    {
     "data": {
      "text/plain": [
       "(152269, 44)"
      ]
     },
     "execution_count": 33,
     "metadata": {},
     "output_type": "execute_result"
    }
   ],
   "source": [
    "path = os.path.join(data_dir, 'tweets.csv')\n",
    "ds = pd.read_csv(path)\n",
    "ds.fillna('', inplace=True)\n",
    "ds.shape\n"
   ]
  },
  {
   "cell_type": "code",
   "execution_count": 19,
   "metadata": {},
   "outputs": [
    {
     "name": "stdout",
     "output_type": "stream",
     "text": [
      "176\n"
     ]
    }
   ],
   "source": [
    "countries = os.path.join('../data/ecuador_earthquake_2016/', 'world-countries.json')\n",
    "geo_json_data = json.load(open(countries))\n",
    "countries_geocodes = []\n",
    "for ix, feat in enumerate( geo_json_data['features']):\n",
    "    countries_geocodes.append([feat['id'], feat['properties']['name']])\n",
    "    #print(feat['id'])\n",
    "print(ix)"
   ]
  },
  {
   "cell_type": "code",
   "execution_count": 21,
   "metadata": {},
   "outputs": [
    {
     "data": {
      "text/plain": [
       "(177, 2)"
      ]
     },
     "execution_count": 21,
     "metadata": {},
     "output_type": "execute_result"
    }
   ],
   "source": [
    "countries = pd.DataFrame(countries_geocodes, columns=['id','name'])\n",
    "countries.shape"
   ]
  },
  {
   "cell_type": "code",
   "execution_count": 95,
   "metadata": {},
   "outputs": [
    {
     "data": {
      "text/html": [
       "<div>\n",
       "<style scoped>\n",
       "    .dataframe tbody tr th:only-of-type {\n",
       "        vertical-align: middle;\n",
       "    }\n",
       "\n",
       "    .dataframe tbody tr th {\n",
       "        vertical-align: top;\n",
       "    }\n",
       "\n",
       "    .dataframe thead th {\n",
       "        text-align: right;\n",
       "    }\n",
       "</style>\n",
       "<table border=\"1\" class=\"dataframe\">\n",
       "  <thead>\n",
       "    <tr style=\"text-align: right;\">\n",
       "      <th></th>\n",
       "      <th>id</th>\n",
       "      <th>name</th>\n",
       "    </tr>\n",
       "  </thead>\n",
       "  <tbody>\n",
       "    <tr>\n",
       "      <th>115</th>\n",
       "      <td>NGA</td>\n",
       "      <td>Nigeria</td>\n",
       "    </tr>\n",
       "  </tbody>\n",
       "</table>\n",
       "</div>"
      ],
      "text/plain": [
       "      id     name\n",
       "115  NGA  Nigeria"
      ]
     },
     "execution_count": 95,
     "metadata": {},
     "output_type": "execute_result"
    }
   ],
   "source": [
    "countries[countries.name.str.contains('Nigeria')]"
   ]
  },
  {
   "cell_type": "code",
   "execution_count": 36,
   "metadata": {},
   "outputs": [],
   "source": [
    "ds['geocountry'] = ''"
   ]
  },
  {
   "cell_type": "code",
   "execution_count": 92,
   "metadata": {},
   "outputs": [
    {
     "data": {
      "text/plain": [
       "location\n",
       "                                  43119\n",
       "Some where around the corner !      581\n",
       "Donde haya WiFi                     289\n",
       "Worldwide                           179\n",
       "Global                              162\n",
       "World                               149\n",
       "Nigeria                             129\n",
       "Earth                               129\n",
       "Cuba                                127\n",
       "Puerto Rico                         119\n",
       "dtype: int64"
      ]
     },
     "execution_count": 92,
     "metadata": {},
     "output_type": "execute_result"
    }
   ],
   "source": [
    "ds[ds.geocountry==''].groupby('location').size().sort_values(ascending=False).head(10)"
   ]
  },
  {
   "cell_type": "code",
   "execution_count": 96,
   "metadata": {},
   "outputs": [],
   "source": [
    "ds.loc[ds.location=='United States of America','geocountry'] = 'USA'\n",
    "ds.loc[ds.location.str.contains('ecuador',case=False),'geocountry'] = 'ECU'\n",
    "ds.loc[ds.location.str.contains('Venezuela', case=False),'geocountry'] = 'VEN'\n",
    "ds.loc[ds.location.str.contains('Guayaquil', case=False),'geocountry'] = 'ECU'\n",
    "ds.loc[ds.location.str.contains('Quito', case=False),'geocountry'] = 'ECU'\n",
    "ds.loc[ds.location.str.contains('Chile', case=False),'geocountry'] = 'CHL'\n",
    "ds.loc[ds.location.str.contains('España', case=False),'geocountry'] = 'ESP'\n",
    "ds.loc[ds.location.str.contains('México', case=False),'geocountry'] = 'MEX'\n",
    "ds.loc[ds.location.str.contains('Argentina', case=False),'geocountry'] = 'ARG'\n",
    "ds.loc[ds.location.str.contains('Colombia', case=False),'geocountry'] = 'COL'\n",
    "ds.loc[ds.location.str.contains('United States', case=False),'geocountry'] = 'USA'\n",
    "ds.loc[ds.location.str.contains('Caracas', case=False),'geocountry'] = 'VEN'\n",
    "ds.loc[ds.location.str.contains('Madrid', case=False),'geocountry'] = 'ESP'\n",
    "ds.loc[ds.location.str.contains('USA', case=False),'geocountry'] = 'USA'\n",
    "ds.loc[ds.location.str.contains('India', case=False),'geocountry'] = 'IND'\n",
    "ds.loc[ds.location.str.contains('Lima', case=False),'geocountry'] = 'PER'\n",
    "ds.loc[ds.location.str.contains('Cuenca', case=False),'geocountry'] = 'ECU'\n",
    "ds.loc[ds.location.str.contains('Los Angeles, CA', case=False),'geocountry'] = 'USA'\n",
    "ds.loc[ds.location.str.contains('NY', case=False),'geocountry'] = 'USA'\n",
    "ds.loc[ds.location.str.contains('Mexico', case=False),'geocountry'] = 'MEX'\n",
    "ds.loc[ds.location.str.contains('Panamá', case=False),'geocountry'] = 'PAN'\n",
    "ds.loc[ds.location.str.contains('Brasil', case=False),'geocountry'] = 'BRA'\n",
    "ds.loc[ds.location.str.contains('London', case=False),'geocountry'] = 'GBR'\n",
    "ds.loc[ds.location.str.contains('Salvador', case=False),'geocountry'] = 'SLV'\n",
    "ds.loc[ds.location.str.contains('Canada', case=False),'geocountry'] = 'CAN'\n",
    "ds.loc[ds.location.str.contains('Perú', case=False),'geocountry'] = 'PER'\n",
    "ds.loc[ds.location.str.contains('Peru', case=False),'geocountry'] = 'PER'\n",
    "ds.loc[ds.location.str.contains('Indonesia', case=False),'geocountry'] = 'IDN'\n",
    "ds.loc[ds.location.str.contains('Guatemala', case=False),'geocountry'] = 'GTM'\n",
    "ds.loc[ds.location.str.contains('Napoli', case=False),'geocountry'] = 'ITA'\n",
    "ds.loc[ds.location.str.contains('United Kingdom' ,case=False),'geocountry'] = 'GBR'\n",
    "ds.loc[ds.location.str.contains('Miami'),'geocountry'] = 'USA'\n",
    "ds.loc[ds.location.str.contains('Buenos Aire'),'geocountry'] = 'ARG'\n",
    "ds.loc[ds.location.str.contains('Barcelona'),'geocountry'] = 'ESP'\n",
    "ds.loc[ds.location.str.contains('Costa Rica'),'geocountry'] = 'CRI'\n",
    "ds.loc[ds.location.str.contains('Italia'),'geocountry'] = 'ITA'\n",
    "ds.loc[ds.location.str.contains('Chicago'),'geocountry'] = 'USA'\n",
    "ds.loc[ds.location.str.contains('Houston'),'geocountry'] = 'USA'\n",
    "ds.loc[ds.location.str.contains('Washington'),'geocountry'] = 'USA'\n",
    "ds.loc[ds.location.str.contains('New York'),'geocountry'] = 'USA'\n",
    "ds.loc[ds.location.str.contains('Dominican Republic'),'geocountry'] = 'DOM'\n",
    "ds.loc[ds.location.str.contains('República Dominicana'),'geocountry'] = 'DOM'\n",
    "ds.loc[ds.location.str.contains('Cuba'),'geocountry'] = 'CUB'\n",
    "ds.loc[ds.location.str.contains('Puerto Rico'),'geocountry'] = 'PRI'\n",
    "ds.loc[ds.location.str.contains('Nigeria'),'geocountry'] = 'NGA'\n",
    "\n",
    "\n",
    "\n",
    "\n"
   ]
  },
  {
   "cell_type": "code",
   "execution_count": 97,
   "metadata": {},
   "outputs": [
    {
     "data": {
      "text/plain": [
       "(59662, 45)"
      ]
     },
     "execution_count": 97,
     "metadata": {},
     "output_type": "execute_result"
    }
   ],
   "source": [
    "ds[ds.geocountry != ''].shape"
   ]
  },
  {
   "cell_type": "code",
   "execution_count": 98,
   "metadata": {},
   "outputs": [],
   "source": [
    "path = os.path.join(data_dir, 'tweets_geocodes.csv')\n",
    "ds[['id','geocountry']].to_csv(path, index=False)"
   ]
  },
  {
   "cell_type": "code",
   "execution_count": null,
   "metadata": {},
   "outputs": [],
   "source": []
  }
 ],
 "metadata": {
  "kernelspec": {
   "display_name": "Python 3",
   "language": "python",
   "name": "python3"
  },
  "language_info": {
   "codemirror_mode": {
    "name": "ipython",
    "version": 3
   },
   "file_extension": ".py",
   "mimetype": "text/x-python",
   "name": "python",
   "nbconvert_exporter": "python",
   "pygments_lexer": "ipython3",
   "version": "3.7.2"
  }
 },
 "nbformat": 4,
 "nbformat_minor": 2
}
