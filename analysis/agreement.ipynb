{
 "cells": [
  {
   "cell_type": "code",
   "execution_count": 1,
   "metadata": {},
   "outputs": [],
   "source": [
    "%matplotlib inline\n",
    "import matplotlib.pyplot as plt\n",
    "import pandas as pd\n",
    "import numpy as np\n"
   ]
  },
  {
   "cell_type": "code",
   "execution_count": 36,
   "metadata": {},
   "outputs": [
    {
     "data": {
      "text/plain": [
       "(2629, 60)"
      ]
     },
     "execution_count": 36,
     "metadata": {},
     "output_type": "execute_result"
    }
   ],
   "source": [
    "annotator1 = pd.read_csv('../data/ecuador_earthquake_2016/es/conversations_annotated1.csv',parse_dates=['timestamp'],dtype={'id':object, 'conversation_id':object,'in_reply_to_status_id':object})\n",
    "annotator1.shape"
   ]
  },
  {
   "cell_type": "code",
   "execution_count": 37,
   "metadata": {},
   "outputs": [
    {
     "data": {
      "text/plain": [
       "(2629, 60)"
      ]
     },
     "execution_count": 37,
     "metadata": {},
     "output_type": "execute_result"
    }
   ],
   "source": [
    "annotator2 = pd.read_csv('../data/ecuador_earthquake_2016/es/conversations_annotated2.csv',parse_dates=['timestamp'],dtype={'id':object, 'conversation_id':object,'in_reply_to_status_id':object})\n",
    "annotator2.shape"
   ]
  },
  {
   "cell_type": "code",
   "execution_count": 38,
   "metadata": {},
   "outputs": [],
   "source": [
    "annotator1.fillna(0, inplace=True)\n",
    "annotator2.fillna(0, inplace=True)"
   ]
  },
  {
   "cell_type": "code",
   "execution_count": 39,
   "metadata": {},
   "outputs": [
    {
     "data": {
      "text/plain": [
       "Index(['id', 'screen_name', 'latitude', 'longitude', 'lang',\n",
       "       'in_reply_to_status_id', 'text', 'url', 'timestamp', 'conversation_id',\n",
       "       'conversation_deep', 'num_replies', 'num_users', 'affected', 'missing',\n",
       "       'evacuation', 'infrastructure', 'need', 'offer', 'precaution',\n",
       "       'emotional', 'other', 'people_deaths', 'people_wounded',\n",
       "       'people_missing', 'people_other', 'infra_buildings', 'infra_roads',\n",
       "       'infra_houses', 'infra_business', 'infra_other', 'request_info',\n",
       "       'request_goods', 'request_services', 'request_other', 'offer_info',\n",
       "       'offer_goods', 'offer_services', 'offer_other', 'informative', 'update',\n",
       "       'expressive_positive', 'expressive_negative', 'complain',\n",
       "       'suggest_action', 'promise', 'sarcasm', 'yes_no_question',\n",
       "       'wh_question', 'open_question', 'yes_answer', 'no_answer',\n",
       "       'response_ack', 'response_other', 'opening_greeting',\n",
       "       'closing_greeting', 'thanks', 'apology', 'other_subcat', 'comment'],\n",
       "      dtype='object')"
      ]
     },
     "execution_count": 39,
     "metadata": {},
     "output_type": "execute_result"
    }
   ],
   "source": [
    "annotator1.columns"
   ]
  },
  {
   "cell_type": "code",
   "execution_count": 40,
   "metadata": {},
   "outputs": [
    {
     "data": {
      "text/plain": [
       "((2629, 119),\n",
       " Index(['id', 'screen_name_x', 'latitude_x', 'longitude_x', 'lang_x',\n",
       "        'in_reply_to_status_id_x', 'text_x', 'url_x', 'timestamp_x',\n",
       "        'conversation_id_x',\n",
       "        ...\n",
       "        'yes_answer_y', 'no_answer_y', 'response_ack_y', 'response_other_y',\n",
       "        'opening_greeting_y', 'closing_greeting_y', 'thanks_y', 'apology_y',\n",
       "        'other_subcat_y', 'comment_y'],\n",
       "       dtype='object', length=119))"
      ]
     },
     "execution_count": 40,
     "metadata": {},
     "output_type": "execute_result"
    }
   ],
   "source": [
    "quality = annotator1.merge(annotator2, on='id')\n",
    "quality.shape, quality.columns"
   ]
  },
  {
   "cell_type": "code",
   "execution_count": 41,
   "metadata": {},
   "outputs": [],
   "source": [
    "y_cols = [\n",
    "'affected', 'missing',\n",
    "       'evacuation', 'infrastructure', 'need', 'offer', 'precaution',\n",
    "       'emotional', 'other' \n",
    "]"
   ]
  },
  {
   "cell_type": "code",
   "execution_count": 42,
   "metadata": {},
   "outputs": [
    {
     "data": {
      "text/plain": [
       "affected          0.794979\n",
       "missing           0.981362\n",
       "evacuation        0.990110\n",
       "infrastructure    0.913275\n",
       "need              0.963865\n",
       "offer             0.949791\n",
       "precaution        0.939521\n",
       "emotional         0.651198\n",
       "other             0.715862\n",
       "dtype: float64"
      ]
     },
     "execution_count": 42,
     "metadata": {},
     "output_type": "execute_result"
    }
   ],
   "source": [
    "for c in y_cols: #todo: skip dialog columns\n",
    "    quality[c] = quality[f'{c}_x'] == quality[f'{c}_y']\n",
    "    \n",
    "num_samples = quality.shape[0]\n",
    "po = quality[y_cols].sum()  / num_samples\n",
    "po"
   ]
  },
  {
   "cell_type": "code",
   "execution_count": null,
   "metadata": {},
   "outputs": [],
   "source": []
  }
 ],
 "metadata": {
  "kernelspec": {
   "display_name": "Python 3",
   "language": "python",
   "name": "python3"
  },
  "language_info": {
   "codemirror_mode": {
    "name": "ipython",
    "version": 3
   },
   "file_extension": ".py",
   "mimetype": "text/x-python",
   "name": "python",
   "nbconvert_exporter": "python",
   "pygments_lexer": "ipython3",
   "version": "3.6.5"
  }
 },
 "nbformat": 4,
 "nbformat_minor": 2
}
